{
  "nbformat": 4,
  "nbformat_minor": 0,
  "metadata": {
    "colab": {
      "provenance": [],
      "toc_visible": true,
      "history_visible": true,
      "authorship_tag": "ABX9TyPgxK6KVSYIeR41nMPwTb2q",
      "include_colab_link": true
    },
    "kernelspec": {
      "name": "python3",
      "display_name": "Python 3"
    },
    "language_info": {
      "name": "python"
    },
    "widgets": {
      "application/vnd.jupyter.widget-state+json": {
        "48d6b1c5ddb04984b16e6c6aaf5721da": {
          "model_module": "@jupyter-widgets/controls",
          "model_name": "HBoxModel",
          "model_module_version": "1.5.0",
          "state": {
            "_dom_classes": [],
            "_model_module": "@jupyter-widgets/controls",
            "_model_module_version": "1.5.0",
            "_model_name": "HBoxModel",
            "_view_count": null,
            "_view_module": "@jupyter-widgets/controls",
            "_view_module_version": "1.5.0",
            "_view_name": "HBoxView",
            "box_style": "",
            "children": [
              "IPY_MODEL_b196bf531001484da90b3be7b943e80a",
              "IPY_MODEL_746f7b3965ed47db95bdffcbf3cc2b3c",
              "IPY_MODEL_33306790f3a0427f9da7e9bcd8666b28"
            ],
            "layout": "IPY_MODEL_14bd419f94a64d45b58af43b0b45daea"
          }
        },
        "b196bf531001484da90b3be7b943e80a": {
          "model_module": "@jupyter-widgets/controls",
          "model_name": "HTMLModel",
          "model_module_version": "1.5.0",
          "state": {
            "_dom_classes": [],
            "_model_module": "@jupyter-widgets/controls",
            "_model_module_version": "1.5.0",
            "_model_name": "HTMLModel",
            "_view_count": null,
            "_view_module": "@jupyter-widgets/controls",
            "_view_module_version": "1.5.0",
            "_view_name": "HTMLView",
            "description": "",
            "description_tooltip": null,
            "layout": "IPY_MODEL_39a37368a43c4d1aa80443073dd94953",
            "placeholder": "​",
            "style": "IPY_MODEL_d5659ef240a84234a6fc65d577e75f4f",
            "value": "Downloading readme: 100%"
          }
        },
        "746f7b3965ed47db95bdffcbf3cc2b3c": {
          "model_module": "@jupyter-widgets/controls",
          "model_name": "FloatProgressModel",
          "model_module_version": "1.5.0",
          "state": {
            "_dom_classes": [],
            "_model_module": "@jupyter-widgets/controls",
            "_model_module_version": "1.5.0",
            "_model_name": "FloatProgressModel",
            "_view_count": null,
            "_view_module": "@jupyter-widgets/controls",
            "_view_module_version": "1.5.0",
            "_view_name": "ProgressView",
            "bar_style": "success",
            "description": "",
            "description_tooltip": null,
            "layout": "IPY_MODEL_5bff51f852ae41538c3a908572f47ffb",
            "max": 658,
            "min": 0,
            "orientation": "horizontal",
            "style": "IPY_MODEL_bbe7d4a679fb4397a7ac38f42d2011aa",
            "value": 658
          }
        },
        "33306790f3a0427f9da7e9bcd8666b28": {
          "model_module": "@jupyter-widgets/controls",
          "model_name": "HTMLModel",
          "model_module_version": "1.5.0",
          "state": {
            "_dom_classes": [],
            "_model_module": "@jupyter-widgets/controls",
            "_model_module_version": "1.5.0",
            "_model_name": "HTMLModel",
            "_view_count": null,
            "_view_module": "@jupyter-widgets/controls",
            "_view_module_version": "1.5.0",
            "_view_name": "HTMLView",
            "description": "",
            "description_tooltip": null,
            "layout": "IPY_MODEL_ee9e4a65f8af4c12a0d1bd9c9adbcc87",
            "placeholder": "​",
            "style": "IPY_MODEL_c0e13aa1fb6d4868acb832e3a316f650",
            "value": " 658/658 [00:00&lt;00:00, 22.6kB/s]"
          }
        },
        "14bd419f94a64d45b58af43b0b45daea": {
          "model_module": "@jupyter-widgets/base",
          "model_name": "LayoutModel",
          "model_module_version": "1.2.0",
          "state": {
            "_model_module": "@jupyter-widgets/base",
            "_model_module_version": "1.2.0",
            "_model_name": "LayoutModel",
            "_view_count": null,
            "_view_module": "@jupyter-widgets/base",
            "_view_module_version": "1.2.0",
            "_view_name": "LayoutView",
            "align_content": null,
            "align_items": null,
            "align_self": null,
            "border": null,
            "bottom": null,
            "display": null,
            "flex": null,
            "flex_flow": null,
            "grid_area": null,
            "grid_auto_columns": null,
            "grid_auto_flow": null,
            "grid_auto_rows": null,
            "grid_column": null,
            "grid_gap": null,
            "grid_row": null,
            "grid_template_areas": null,
            "grid_template_columns": null,
            "grid_template_rows": null,
            "height": null,
            "justify_content": null,
            "justify_items": null,
            "left": null,
            "margin": null,
            "max_height": null,
            "max_width": null,
            "min_height": null,
            "min_width": null,
            "object_fit": null,
            "object_position": null,
            "order": null,
            "overflow": null,
            "overflow_x": null,
            "overflow_y": null,
            "padding": null,
            "right": null,
            "top": null,
            "visibility": null,
            "width": null
          }
        },
        "39a37368a43c4d1aa80443073dd94953": {
          "model_module": "@jupyter-widgets/base",
          "model_name": "LayoutModel",
          "model_module_version": "1.2.0",
          "state": {
            "_model_module": "@jupyter-widgets/base",
            "_model_module_version": "1.2.0",
            "_model_name": "LayoutModel",
            "_view_count": null,
            "_view_module": "@jupyter-widgets/base",
            "_view_module_version": "1.2.0",
            "_view_name": "LayoutView",
            "align_content": null,
            "align_items": null,
            "align_self": null,
            "border": null,
            "bottom": null,
            "display": null,
            "flex": null,
            "flex_flow": null,
            "grid_area": null,
            "grid_auto_columns": null,
            "grid_auto_flow": null,
            "grid_auto_rows": null,
            "grid_column": null,
            "grid_gap": null,
            "grid_row": null,
            "grid_template_areas": null,
            "grid_template_columns": null,
            "grid_template_rows": null,
            "height": null,
            "justify_content": null,
            "justify_items": null,
            "left": null,
            "margin": null,
            "max_height": null,
            "max_width": null,
            "min_height": null,
            "min_width": null,
            "object_fit": null,
            "object_position": null,
            "order": null,
            "overflow": null,
            "overflow_x": null,
            "overflow_y": null,
            "padding": null,
            "right": null,
            "top": null,
            "visibility": null,
            "width": null
          }
        },
        "d5659ef240a84234a6fc65d577e75f4f": {
          "model_module": "@jupyter-widgets/controls",
          "model_name": "DescriptionStyleModel",
          "model_module_version": "1.5.0",
          "state": {
            "_model_module": "@jupyter-widgets/controls",
            "_model_module_version": "1.5.0",
            "_model_name": "DescriptionStyleModel",
            "_view_count": null,
            "_view_module": "@jupyter-widgets/base",
            "_view_module_version": "1.2.0",
            "_view_name": "StyleView",
            "description_width": ""
          }
        },
        "5bff51f852ae41538c3a908572f47ffb": {
          "model_module": "@jupyter-widgets/base",
          "model_name": "LayoutModel",
          "model_module_version": "1.2.0",
          "state": {
            "_model_module": "@jupyter-widgets/base",
            "_model_module_version": "1.2.0",
            "_model_name": "LayoutModel",
            "_view_count": null,
            "_view_module": "@jupyter-widgets/base",
            "_view_module_version": "1.2.0",
            "_view_name": "LayoutView",
            "align_content": null,
            "align_items": null,
            "align_self": null,
            "border": null,
            "bottom": null,
            "display": null,
            "flex": null,
            "flex_flow": null,
            "grid_area": null,
            "grid_auto_columns": null,
            "grid_auto_flow": null,
            "grid_auto_rows": null,
            "grid_column": null,
            "grid_gap": null,
            "grid_row": null,
            "grid_template_areas": null,
            "grid_template_columns": null,
            "grid_template_rows": null,
            "height": null,
            "justify_content": null,
            "justify_items": null,
            "left": null,
            "margin": null,
            "max_height": null,
            "max_width": null,
            "min_height": null,
            "min_width": null,
            "object_fit": null,
            "object_position": null,
            "order": null,
            "overflow": null,
            "overflow_x": null,
            "overflow_y": null,
            "padding": null,
            "right": null,
            "top": null,
            "visibility": null,
            "width": null
          }
        },
        "bbe7d4a679fb4397a7ac38f42d2011aa": {
          "model_module": "@jupyter-widgets/controls",
          "model_name": "ProgressStyleModel",
          "model_module_version": "1.5.0",
          "state": {
            "_model_module": "@jupyter-widgets/controls",
            "_model_module_version": "1.5.0",
            "_model_name": "ProgressStyleModel",
            "_view_count": null,
            "_view_module": "@jupyter-widgets/base",
            "_view_module_version": "1.2.0",
            "_view_name": "StyleView",
            "bar_color": null,
            "description_width": ""
          }
        },
        "ee9e4a65f8af4c12a0d1bd9c9adbcc87": {
          "model_module": "@jupyter-widgets/base",
          "model_name": "LayoutModel",
          "model_module_version": "1.2.0",
          "state": {
            "_model_module": "@jupyter-widgets/base",
            "_model_module_version": "1.2.0",
            "_model_name": "LayoutModel",
            "_view_count": null,
            "_view_module": "@jupyter-widgets/base",
            "_view_module_version": "1.2.0",
            "_view_name": "LayoutView",
            "align_content": null,
            "align_items": null,
            "align_self": null,
            "border": null,
            "bottom": null,
            "display": null,
            "flex": null,
            "flex_flow": null,
            "grid_area": null,
            "grid_auto_columns": null,
            "grid_auto_flow": null,
            "grid_auto_rows": null,
            "grid_column": null,
            "grid_gap": null,
            "grid_row": null,
            "grid_template_areas": null,
            "grid_template_columns": null,
            "grid_template_rows": null,
            "height": null,
            "justify_content": null,
            "justify_items": null,
            "left": null,
            "margin": null,
            "max_height": null,
            "max_width": null,
            "min_height": null,
            "min_width": null,
            "object_fit": null,
            "object_position": null,
            "order": null,
            "overflow": null,
            "overflow_x": null,
            "overflow_y": null,
            "padding": null,
            "right": null,
            "top": null,
            "visibility": null,
            "width": null
          }
        },
        "c0e13aa1fb6d4868acb832e3a316f650": {
          "model_module": "@jupyter-widgets/controls",
          "model_name": "DescriptionStyleModel",
          "model_module_version": "1.5.0",
          "state": {
            "_model_module": "@jupyter-widgets/controls",
            "_model_module_version": "1.5.0",
            "_model_name": "DescriptionStyleModel",
            "_view_count": null,
            "_view_module": "@jupyter-widgets/base",
            "_view_module_version": "1.2.0",
            "_view_name": "StyleView",
            "description_width": ""
          }
        },
        "0afa807d836b407790370d17f74bdb51": {
          "model_module": "@jupyter-widgets/controls",
          "model_name": "HBoxModel",
          "model_module_version": "1.5.0",
          "state": {
            "_dom_classes": [],
            "_model_module": "@jupyter-widgets/controls",
            "_model_module_version": "1.5.0",
            "_model_name": "HBoxModel",
            "_view_count": null,
            "_view_module": "@jupyter-widgets/controls",
            "_view_module_version": "1.5.0",
            "_view_name": "HBoxView",
            "box_style": "",
            "children": [
              "IPY_MODEL_5c53ad3086534532b85e3b1e66951ddf",
              "IPY_MODEL_443bdc727a2e49b6a5cb3916bd1ab952",
              "IPY_MODEL_56740b6cf4314b06ad21536e1ea63a46"
            ],
            "layout": "IPY_MODEL_a0599cd01df044c694c0777b0d79c43a"
          }
        },
        "5c53ad3086534532b85e3b1e66951ddf": {
          "model_module": "@jupyter-widgets/controls",
          "model_name": "HTMLModel",
          "model_module_version": "1.5.0",
          "state": {
            "_dom_classes": [],
            "_model_module": "@jupyter-widgets/controls",
            "_model_module_version": "1.5.0",
            "_model_name": "HTMLModel",
            "_view_count": null,
            "_view_module": "@jupyter-widgets/controls",
            "_view_module_version": "1.5.0",
            "_view_name": "HTMLView",
            "description": "",
            "description_tooltip": null,
            "layout": "IPY_MODEL_d082cbec3bb14f5b8fae76163ecdaacb",
            "placeholder": "​",
            "style": "IPY_MODEL_65fc49d6fdf54d2cb8b76d0e76b4bdd5",
            "value": "Downloading data files: 100%"
          }
        },
        "443bdc727a2e49b6a5cb3916bd1ab952": {
          "model_module": "@jupyter-widgets/controls",
          "model_name": "FloatProgressModel",
          "model_module_version": "1.5.0",
          "state": {
            "_dom_classes": [],
            "_model_module": "@jupyter-widgets/controls",
            "_model_module_version": "1.5.0",
            "_model_name": "FloatProgressModel",
            "_view_count": null,
            "_view_module": "@jupyter-widgets/controls",
            "_view_module_version": "1.5.0",
            "_view_name": "ProgressView",
            "bar_style": "success",
            "description": "",
            "description_tooltip": null,
            "layout": "IPY_MODEL_28ba832a024040448466eb0f69332051",
            "max": 1,
            "min": 0,
            "orientation": "horizontal",
            "style": "IPY_MODEL_e2e670dfa9ee4831885646ddfa81b6dc",
            "value": 1
          }
        },
        "56740b6cf4314b06ad21536e1ea63a46": {
          "model_module": "@jupyter-widgets/controls",
          "model_name": "HTMLModel",
          "model_module_version": "1.5.0",
          "state": {
            "_dom_classes": [],
            "_model_module": "@jupyter-widgets/controls",
            "_model_module_version": "1.5.0",
            "_model_name": "HTMLModel",
            "_view_count": null,
            "_view_module": "@jupyter-widgets/controls",
            "_view_module_version": "1.5.0",
            "_view_name": "HTMLView",
            "description": "",
            "description_tooltip": null,
            "layout": "IPY_MODEL_8394f6dab63345819cc204fd3ea39140",
            "placeholder": "​",
            "style": "IPY_MODEL_546995b104c644f3ac5bc7179ff3d4fe",
            "value": " 1/1 [00:00&lt;00:00,  2.40it/s]"
          }
        },
        "a0599cd01df044c694c0777b0d79c43a": {
          "model_module": "@jupyter-widgets/base",
          "model_name": "LayoutModel",
          "model_module_version": "1.2.0",
          "state": {
            "_model_module": "@jupyter-widgets/base",
            "_model_module_version": "1.2.0",
            "_model_name": "LayoutModel",
            "_view_count": null,
            "_view_module": "@jupyter-widgets/base",
            "_view_module_version": "1.2.0",
            "_view_name": "LayoutView",
            "align_content": null,
            "align_items": null,
            "align_self": null,
            "border": null,
            "bottom": null,
            "display": null,
            "flex": null,
            "flex_flow": null,
            "grid_area": null,
            "grid_auto_columns": null,
            "grid_auto_flow": null,
            "grid_auto_rows": null,
            "grid_column": null,
            "grid_gap": null,
            "grid_row": null,
            "grid_template_areas": null,
            "grid_template_columns": null,
            "grid_template_rows": null,
            "height": null,
            "justify_content": null,
            "justify_items": null,
            "left": null,
            "margin": null,
            "max_height": null,
            "max_width": null,
            "min_height": null,
            "min_width": null,
            "object_fit": null,
            "object_position": null,
            "order": null,
            "overflow": null,
            "overflow_x": null,
            "overflow_y": null,
            "padding": null,
            "right": null,
            "top": null,
            "visibility": null,
            "width": null
          }
        },
        "d082cbec3bb14f5b8fae76163ecdaacb": {
          "model_module": "@jupyter-widgets/base",
          "model_name": "LayoutModel",
          "model_module_version": "1.2.0",
          "state": {
            "_model_module": "@jupyter-widgets/base",
            "_model_module_version": "1.2.0",
            "_model_name": "LayoutModel",
            "_view_count": null,
            "_view_module": "@jupyter-widgets/base",
            "_view_module_version": "1.2.0",
            "_view_name": "LayoutView",
            "align_content": null,
            "align_items": null,
            "align_self": null,
            "border": null,
            "bottom": null,
            "display": null,
            "flex": null,
            "flex_flow": null,
            "grid_area": null,
            "grid_auto_columns": null,
            "grid_auto_flow": null,
            "grid_auto_rows": null,
            "grid_column": null,
            "grid_gap": null,
            "grid_row": null,
            "grid_template_areas": null,
            "grid_template_columns": null,
            "grid_template_rows": null,
            "height": null,
            "justify_content": null,
            "justify_items": null,
            "left": null,
            "margin": null,
            "max_height": null,
            "max_width": null,
            "min_height": null,
            "min_width": null,
            "object_fit": null,
            "object_position": null,
            "order": null,
            "overflow": null,
            "overflow_x": null,
            "overflow_y": null,
            "padding": null,
            "right": null,
            "top": null,
            "visibility": null,
            "width": null
          }
        },
        "65fc49d6fdf54d2cb8b76d0e76b4bdd5": {
          "model_module": "@jupyter-widgets/controls",
          "model_name": "DescriptionStyleModel",
          "model_module_version": "1.5.0",
          "state": {
            "_model_module": "@jupyter-widgets/controls",
            "_model_module_version": "1.5.0",
            "_model_name": "DescriptionStyleModel",
            "_view_count": null,
            "_view_module": "@jupyter-widgets/base",
            "_view_module_version": "1.2.0",
            "_view_name": "StyleView",
            "description_width": ""
          }
        },
        "28ba832a024040448466eb0f69332051": {
          "model_module": "@jupyter-widgets/base",
          "model_name": "LayoutModel",
          "model_module_version": "1.2.0",
          "state": {
            "_model_module": "@jupyter-widgets/base",
            "_model_module_version": "1.2.0",
            "_model_name": "LayoutModel",
            "_view_count": null,
            "_view_module": "@jupyter-widgets/base",
            "_view_module_version": "1.2.0",
            "_view_name": "LayoutView",
            "align_content": null,
            "align_items": null,
            "align_self": null,
            "border": null,
            "bottom": null,
            "display": null,
            "flex": null,
            "flex_flow": null,
            "grid_area": null,
            "grid_auto_columns": null,
            "grid_auto_flow": null,
            "grid_auto_rows": null,
            "grid_column": null,
            "grid_gap": null,
            "grid_row": null,
            "grid_template_areas": null,
            "grid_template_columns": null,
            "grid_template_rows": null,
            "height": null,
            "justify_content": null,
            "justify_items": null,
            "left": null,
            "margin": null,
            "max_height": null,
            "max_width": null,
            "min_height": null,
            "min_width": null,
            "object_fit": null,
            "object_position": null,
            "order": null,
            "overflow": null,
            "overflow_x": null,
            "overflow_y": null,
            "padding": null,
            "right": null,
            "top": null,
            "visibility": null,
            "width": null
          }
        },
        "e2e670dfa9ee4831885646ddfa81b6dc": {
          "model_module": "@jupyter-widgets/controls",
          "model_name": "ProgressStyleModel",
          "model_module_version": "1.5.0",
          "state": {
            "_model_module": "@jupyter-widgets/controls",
            "_model_module_version": "1.5.0",
            "_model_name": "ProgressStyleModel",
            "_view_count": null,
            "_view_module": "@jupyter-widgets/base",
            "_view_module_version": "1.2.0",
            "_view_name": "StyleView",
            "bar_color": null,
            "description_width": ""
          }
        },
        "8394f6dab63345819cc204fd3ea39140": {
          "model_module": "@jupyter-widgets/base",
          "model_name": "LayoutModel",
          "model_module_version": "1.2.0",
          "state": {
            "_model_module": "@jupyter-widgets/base",
            "_model_module_version": "1.2.0",
            "_model_name": "LayoutModel",
            "_view_count": null,
            "_view_module": "@jupyter-widgets/base",
            "_view_module_version": "1.2.0",
            "_view_name": "LayoutView",
            "align_content": null,
            "align_items": null,
            "align_self": null,
            "border": null,
            "bottom": null,
            "display": null,
            "flex": null,
            "flex_flow": null,
            "grid_area": null,
            "grid_auto_columns": null,
            "grid_auto_flow": null,
            "grid_auto_rows": null,
            "grid_column": null,
            "grid_gap": null,
            "grid_row": null,
            "grid_template_areas": null,
            "grid_template_columns": null,
            "grid_template_rows": null,
            "height": null,
            "justify_content": null,
            "justify_items": null,
            "left": null,
            "margin": null,
            "max_height": null,
            "max_width": null,
            "min_height": null,
            "min_width": null,
            "object_fit": null,
            "object_position": null,
            "order": null,
            "overflow": null,
            "overflow_x": null,
            "overflow_y": null,
            "padding": null,
            "right": null,
            "top": null,
            "visibility": null,
            "width": null
          }
        },
        "546995b104c644f3ac5bc7179ff3d4fe": {
          "model_module": "@jupyter-widgets/controls",
          "model_name": "DescriptionStyleModel",
          "model_module_version": "1.5.0",
          "state": {
            "_model_module": "@jupyter-widgets/controls",
            "_model_module_version": "1.5.0",
            "_model_name": "DescriptionStyleModel",
            "_view_count": null,
            "_view_module": "@jupyter-widgets/base",
            "_view_module_version": "1.2.0",
            "_view_name": "StyleView",
            "description_width": ""
          }
        },
        "47add7ce91d24354aa891bf96ae33deb": {
          "model_module": "@jupyter-widgets/controls",
          "model_name": "HBoxModel",
          "model_module_version": "1.5.0",
          "state": {
            "_dom_classes": [],
            "_model_module": "@jupyter-widgets/controls",
            "_model_module_version": "1.5.0",
            "_model_name": "HBoxModel",
            "_view_count": null,
            "_view_module": "@jupyter-widgets/controls",
            "_view_module_version": "1.5.0",
            "_view_name": "HBoxView",
            "box_style": "",
            "children": [
              "IPY_MODEL_02cd6fd1760a4cf79dc0f5ceb583dd47",
              "IPY_MODEL_e184f73fb4fb44b496c4b13cdcb1b3ba",
              "IPY_MODEL_2090ae1303e24594b3c707d2dc6f4cce"
            ],
            "layout": "IPY_MODEL_f81441588cca479cb2595593f8e09601"
          }
        },
        "02cd6fd1760a4cf79dc0f5ceb583dd47": {
          "model_module": "@jupyter-widgets/controls",
          "model_name": "HTMLModel",
          "model_module_version": "1.5.0",
          "state": {
            "_dom_classes": [],
            "_model_module": "@jupyter-widgets/controls",
            "_model_module_version": "1.5.0",
            "_model_name": "HTMLModel",
            "_view_count": null,
            "_view_module": "@jupyter-widgets/controls",
            "_view_module_version": "1.5.0",
            "_view_name": "HTMLView",
            "description": "",
            "description_tooltip": null,
            "layout": "IPY_MODEL_a2071e0911cc4285be06404d070b0e07",
            "placeholder": "​",
            "style": "IPY_MODEL_6761cb3d94c64976a1201caa5e597c46",
            "value": "Downloading data: 100%"
          }
        },
        "e184f73fb4fb44b496c4b13cdcb1b3ba": {
          "model_module": "@jupyter-widgets/controls",
          "model_name": "FloatProgressModel",
          "model_module_version": "1.5.0",
          "state": {
            "_dom_classes": [],
            "_model_module": "@jupyter-widgets/controls",
            "_model_module_version": "1.5.0",
            "_model_name": "FloatProgressModel",
            "_view_count": null,
            "_view_module": "@jupyter-widgets/controls",
            "_view_module_version": "1.5.0",
            "_view_name": "ProgressView",
            "bar_style": "success",
            "description": "",
            "description_tooltip": null,
            "layout": "IPY_MODEL_105bdbead64d4e2db01c94c2ed322d83",
            "max": 2934142,
            "min": 0,
            "orientation": "horizontal",
            "style": "IPY_MODEL_a9e2f4cf65ec4e8bbf3b0019e3333239",
            "value": 2934142
          }
        },
        "2090ae1303e24594b3c707d2dc6f4cce": {
          "model_module": "@jupyter-widgets/controls",
          "model_name": "HTMLModel",
          "model_module_version": "1.5.0",
          "state": {
            "_dom_classes": [],
            "_model_module": "@jupyter-widgets/controls",
            "_model_module_version": "1.5.0",
            "_model_name": "HTMLModel",
            "_view_count": null,
            "_view_module": "@jupyter-widgets/controls",
            "_view_module_version": "1.5.0",
            "_view_name": "HTMLView",
            "description": "",
            "description_tooltip": null,
            "layout": "IPY_MODEL_05bc7766e6174171bccdb0f717ad2c43",
            "placeholder": "​",
            "style": "IPY_MODEL_91b0e57262b94e228d0e2c1b5fe3b795",
            "value": " 2.93M/2.93M [00:00&lt;00:00, 24.6MB/s]"
          }
        },
        "f81441588cca479cb2595593f8e09601": {
          "model_module": "@jupyter-widgets/base",
          "model_name": "LayoutModel",
          "model_module_version": "1.2.0",
          "state": {
            "_model_module": "@jupyter-widgets/base",
            "_model_module_version": "1.2.0",
            "_model_name": "LayoutModel",
            "_view_count": null,
            "_view_module": "@jupyter-widgets/base",
            "_view_module_version": "1.2.0",
            "_view_name": "LayoutView",
            "align_content": null,
            "align_items": null,
            "align_self": null,
            "border": null,
            "bottom": null,
            "display": null,
            "flex": null,
            "flex_flow": null,
            "grid_area": null,
            "grid_auto_columns": null,
            "grid_auto_flow": null,
            "grid_auto_rows": null,
            "grid_column": null,
            "grid_gap": null,
            "grid_row": null,
            "grid_template_areas": null,
            "grid_template_columns": null,
            "grid_template_rows": null,
            "height": null,
            "justify_content": null,
            "justify_items": null,
            "left": null,
            "margin": null,
            "max_height": null,
            "max_width": null,
            "min_height": null,
            "min_width": null,
            "object_fit": null,
            "object_position": null,
            "order": null,
            "overflow": null,
            "overflow_x": null,
            "overflow_y": null,
            "padding": null,
            "right": null,
            "top": null,
            "visibility": null,
            "width": null
          }
        },
        "a2071e0911cc4285be06404d070b0e07": {
          "model_module": "@jupyter-widgets/base",
          "model_name": "LayoutModel",
          "model_module_version": "1.2.0",
          "state": {
            "_model_module": "@jupyter-widgets/base",
            "_model_module_version": "1.2.0",
            "_model_name": "LayoutModel",
            "_view_count": null,
            "_view_module": "@jupyter-widgets/base",
            "_view_module_version": "1.2.0",
            "_view_name": "LayoutView",
            "align_content": null,
            "align_items": null,
            "align_self": null,
            "border": null,
            "bottom": null,
            "display": null,
            "flex": null,
            "flex_flow": null,
            "grid_area": null,
            "grid_auto_columns": null,
            "grid_auto_flow": null,
            "grid_auto_rows": null,
            "grid_column": null,
            "grid_gap": null,
            "grid_row": null,
            "grid_template_areas": null,
            "grid_template_columns": null,
            "grid_template_rows": null,
            "height": null,
            "justify_content": null,
            "justify_items": null,
            "left": null,
            "margin": null,
            "max_height": null,
            "max_width": null,
            "min_height": null,
            "min_width": null,
            "object_fit": null,
            "object_position": null,
            "order": null,
            "overflow": null,
            "overflow_x": null,
            "overflow_y": null,
            "padding": null,
            "right": null,
            "top": null,
            "visibility": null,
            "width": null
          }
        },
        "6761cb3d94c64976a1201caa5e597c46": {
          "model_module": "@jupyter-widgets/controls",
          "model_name": "DescriptionStyleModel",
          "model_module_version": "1.5.0",
          "state": {
            "_model_module": "@jupyter-widgets/controls",
            "_model_module_version": "1.5.0",
            "_model_name": "DescriptionStyleModel",
            "_view_count": null,
            "_view_module": "@jupyter-widgets/base",
            "_view_module_version": "1.2.0",
            "_view_name": "StyleView",
            "description_width": ""
          }
        },
        "105bdbead64d4e2db01c94c2ed322d83": {
          "model_module": "@jupyter-widgets/base",
          "model_name": "LayoutModel",
          "model_module_version": "1.2.0",
          "state": {
            "_model_module": "@jupyter-widgets/base",
            "_model_module_version": "1.2.0",
            "_model_name": "LayoutModel",
            "_view_count": null,
            "_view_module": "@jupyter-widgets/base",
            "_view_module_version": "1.2.0",
            "_view_name": "LayoutView",
            "align_content": null,
            "align_items": null,
            "align_self": null,
            "border": null,
            "bottom": null,
            "display": null,
            "flex": null,
            "flex_flow": null,
            "grid_area": null,
            "grid_auto_columns": null,
            "grid_auto_flow": null,
            "grid_auto_rows": null,
            "grid_column": null,
            "grid_gap": null,
            "grid_row": null,
            "grid_template_areas": null,
            "grid_template_columns": null,
            "grid_template_rows": null,
            "height": null,
            "justify_content": null,
            "justify_items": null,
            "left": null,
            "margin": null,
            "max_height": null,
            "max_width": null,
            "min_height": null,
            "min_width": null,
            "object_fit": null,
            "object_position": null,
            "order": null,
            "overflow": null,
            "overflow_x": null,
            "overflow_y": null,
            "padding": null,
            "right": null,
            "top": null,
            "visibility": null,
            "width": null
          }
        },
        "a9e2f4cf65ec4e8bbf3b0019e3333239": {
          "model_module": "@jupyter-widgets/controls",
          "model_name": "ProgressStyleModel",
          "model_module_version": "1.5.0",
          "state": {
            "_model_module": "@jupyter-widgets/controls",
            "_model_module_version": "1.5.0",
            "_model_name": "ProgressStyleModel",
            "_view_count": null,
            "_view_module": "@jupyter-widgets/base",
            "_view_module_version": "1.2.0",
            "_view_name": "StyleView",
            "bar_color": null,
            "description_width": ""
          }
        },
        "05bc7766e6174171bccdb0f717ad2c43": {
          "model_module": "@jupyter-widgets/base",
          "model_name": "LayoutModel",
          "model_module_version": "1.2.0",
          "state": {
            "_model_module": "@jupyter-widgets/base",
            "_model_module_version": "1.2.0",
            "_model_name": "LayoutModel",
            "_view_count": null,
            "_view_module": "@jupyter-widgets/base",
            "_view_module_version": "1.2.0",
            "_view_name": "LayoutView",
            "align_content": null,
            "align_items": null,
            "align_self": null,
            "border": null,
            "bottom": null,
            "display": null,
            "flex": null,
            "flex_flow": null,
            "grid_area": null,
            "grid_auto_columns": null,
            "grid_auto_flow": null,
            "grid_auto_rows": null,
            "grid_column": null,
            "grid_gap": null,
            "grid_row": null,
            "grid_template_areas": null,
            "grid_template_columns": null,
            "grid_template_rows": null,
            "height": null,
            "justify_content": null,
            "justify_items": null,
            "left": null,
            "margin": null,
            "max_height": null,
            "max_width": null,
            "min_height": null,
            "min_width": null,
            "object_fit": null,
            "object_position": null,
            "order": null,
            "overflow": null,
            "overflow_x": null,
            "overflow_y": null,
            "padding": null,
            "right": null,
            "top": null,
            "visibility": null,
            "width": null
          }
        },
        "91b0e57262b94e228d0e2c1b5fe3b795": {
          "model_module": "@jupyter-widgets/controls",
          "model_name": "DescriptionStyleModel",
          "model_module_version": "1.5.0",
          "state": {
            "_model_module": "@jupyter-widgets/controls",
            "_model_module_version": "1.5.0",
            "_model_name": "DescriptionStyleModel",
            "_view_count": null,
            "_view_module": "@jupyter-widgets/base",
            "_view_module_version": "1.2.0",
            "_view_name": "StyleView",
            "description_width": ""
          }
        },
        "3acba380fec14d6c9b99d3a822fd8b78": {
          "model_module": "@jupyter-widgets/controls",
          "model_name": "HBoxModel",
          "model_module_version": "1.5.0",
          "state": {
            "_dom_classes": [],
            "_model_module": "@jupyter-widgets/controls",
            "_model_module_version": "1.5.0",
            "_model_name": "HBoxModel",
            "_view_count": null,
            "_view_module": "@jupyter-widgets/controls",
            "_view_module_version": "1.5.0",
            "_view_name": "HBoxView",
            "box_style": "",
            "children": [
              "IPY_MODEL_174a2c6c171d46bcbd6e005124cf5b4e",
              "IPY_MODEL_d463b7835a3a4571ab8593cdb479550d",
              "IPY_MODEL_e3b99fc5312e4818a9adcffaea05bd0e"
            ],
            "layout": "IPY_MODEL_24b5a5bcfcbb4715800802bc7a752c73"
          }
        },
        "174a2c6c171d46bcbd6e005124cf5b4e": {
          "model_module": "@jupyter-widgets/controls",
          "model_name": "HTMLModel",
          "model_module_version": "1.5.0",
          "state": {
            "_dom_classes": [],
            "_model_module": "@jupyter-widgets/controls",
            "_model_module_version": "1.5.0",
            "_model_name": "HTMLModel",
            "_view_count": null,
            "_view_module": "@jupyter-widgets/controls",
            "_view_module_version": "1.5.0",
            "_view_name": "HTMLView",
            "description": "",
            "description_tooltip": null,
            "layout": "IPY_MODEL_cbb1c4f4a1744a05a5ae23204faf9092",
            "placeholder": "​",
            "style": "IPY_MODEL_abcdc5fb5fe341e9835a6fce497c3704",
            "value": "Extracting data files: 100%"
          }
        },
        "d463b7835a3a4571ab8593cdb479550d": {
          "model_module": "@jupyter-widgets/controls",
          "model_name": "FloatProgressModel",
          "model_module_version": "1.5.0",
          "state": {
            "_dom_classes": [],
            "_model_module": "@jupyter-widgets/controls",
            "_model_module_version": "1.5.0",
            "_model_name": "FloatProgressModel",
            "_view_count": null,
            "_view_module": "@jupyter-widgets/controls",
            "_view_module_version": "1.5.0",
            "_view_name": "ProgressView",
            "bar_style": "success",
            "description": "",
            "description_tooltip": null,
            "layout": "IPY_MODEL_15a2f26c7d59453b863d6a57d7ad10cf",
            "max": 1,
            "min": 0,
            "orientation": "horizontal",
            "style": "IPY_MODEL_16a62cd7ed6d4f798792725581940984",
            "value": 1
          }
        },
        "e3b99fc5312e4818a9adcffaea05bd0e": {
          "model_module": "@jupyter-widgets/controls",
          "model_name": "HTMLModel",
          "model_module_version": "1.5.0",
          "state": {
            "_dom_classes": [],
            "_model_module": "@jupyter-widgets/controls",
            "_model_module_version": "1.5.0",
            "_model_name": "HTMLModel",
            "_view_count": null,
            "_view_module": "@jupyter-widgets/controls",
            "_view_module_version": "1.5.0",
            "_view_name": "HTMLView",
            "description": "",
            "description_tooltip": null,
            "layout": "IPY_MODEL_29180aafe32d47fa8bf8f9e9d6be3faa",
            "placeholder": "​",
            "style": "IPY_MODEL_67bd859778b64b11b1814997f47f5849",
            "value": " 1/1 [00:00&lt;00:00, 53.64it/s]"
          }
        },
        "24b5a5bcfcbb4715800802bc7a752c73": {
          "model_module": "@jupyter-widgets/base",
          "model_name": "LayoutModel",
          "model_module_version": "1.2.0",
          "state": {
            "_model_module": "@jupyter-widgets/base",
            "_model_module_version": "1.2.0",
            "_model_name": "LayoutModel",
            "_view_count": null,
            "_view_module": "@jupyter-widgets/base",
            "_view_module_version": "1.2.0",
            "_view_name": "LayoutView",
            "align_content": null,
            "align_items": null,
            "align_self": null,
            "border": null,
            "bottom": null,
            "display": null,
            "flex": null,
            "flex_flow": null,
            "grid_area": null,
            "grid_auto_columns": null,
            "grid_auto_flow": null,
            "grid_auto_rows": null,
            "grid_column": null,
            "grid_gap": null,
            "grid_row": null,
            "grid_template_areas": null,
            "grid_template_columns": null,
            "grid_template_rows": null,
            "height": null,
            "justify_content": null,
            "justify_items": null,
            "left": null,
            "margin": null,
            "max_height": null,
            "max_width": null,
            "min_height": null,
            "min_width": null,
            "object_fit": null,
            "object_position": null,
            "order": null,
            "overflow": null,
            "overflow_x": null,
            "overflow_y": null,
            "padding": null,
            "right": null,
            "top": null,
            "visibility": null,
            "width": null
          }
        },
        "cbb1c4f4a1744a05a5ae23204faf9092": {
          "model_module": "@jupyter-widgets/base",
          "model_name": "LayoutModel",
          "model_module_version": "1.2.0",
          "state": {
            "_model_module": "@jupyter-widgets/base",
            "_model_module_version": "1.2.0",
            "_model_name": "LayoutModel",
            "_view_count": null,
            "_view_module": "@jupyter-widgets/base",
            "_view_module_version": "1.2.0",
            "_view_name": "LayoutView",
            "align_content": null,
            "align_items": null,
            "align_self": null,
            "border": null,
            "bottom": null,
            "display": null,
            "flex": null,
            "flex_flow": null,
            "grid_area": null,
            "grid_auto_columns": null,
            "grid_auto_flow": null,
            "grid_auto_rows": null,
            "grid_column": null,
            "grid_gap": null,
            "grid_row": null,
            "grid_template_areas": null,
            "grid_template_columns": null,
            "grid_template_rows": null,
            "height": null,
            "justify_content": null,
            "justify_items": null,
            "left": null,
            "margin": null,
            "max_height": null,
            "max_width": null,
            "min_height": null,
            "min_width": null,
            "object_fit": null,
            "object_position": null,
            "order": null,
            "overflow": null,
            "overflow_x": null,
            "overflow_y": null,
            "padding": null,
            "right": null,
            "top": null,
            "visibility": null,
            "width": null
          }
        },
        "abcdc5fb5fe341e9835a6fce497c3704": {
          "model_module": "@jupyter-widgets/controls",
          "model_name": "DescriptionStyleModel",
          "model_module_version": "1.5.0",
          "state": {
            "_model_module": "@jupyter-widgets/controls",
            "_model_module_version": "1.5.0",
            "_model_name": "DescriptionStyleModel",
            "_view_count": null,
            "_view_module": "@jupyter-widgets/base",
            "_view_module_version": "1.2.0",
            "_view_name": "StyleView",
            "description_width": ""
          }
        },
        "15a2f26c7d59453b863d6a57d7ad10cf": {
          "model_module": "@jupyter-widgets/base",
          "model_name": "LayoutModel",
          "model_module_version": "1.2.0",
          "state": {
            "_model_module": "@jupyter-widgets/base",
            "_model_module_version": "1.2.0",
            "_model_name": "LayoutModel",
            "_view_count": null,
            "_view_module": "@jupyter-widgets/base",
            "_view_module_version": "1.2.0",
            "_view_name": "LayoutView",
            "align_content": null,
            "align_items": null,
            "align_self": null,
            "border": null,
            "bottom": null,
            "display": null,
            "flex": null,
            "flex_flow": null,
            "grid_area": null,
            "grid_auto_columns": null,
            "grid_auto_flow": null,
            "grid_auto_rows": null,
            "grid_column": null,
            "grid_gap": null,
            "grid_row": null,
            "grid_template_areas": null,
            "grid_template_columns": null,
            "grid_template_rows": null,
            "height": null,
            "justify_content": null,
            "justify_items": null,
            "left": null,
            "margin": null,
            "max_height": null,
            "max_width": null,
            "min_height": null,
            "min_width": null,
            "object_fit": null,
            "object_position": null,
            "order": null,
            "overflow": null,
            "overflow_x": null,
            "overflow_y": null,
            "padding": null,
            "right": null,
            "top": null,
            "visibility": null,
            "width": null
          }
        },
        "16a62cd7ed6d4f798792725581940984": {
          "model_module": "@jupyter-widgets/controls",
          "model_name": "ProgressStyleModel",
          "model_module_version": "1.5.0",
          "state": {
            "_model_module": "@jupyter-widgets/controls",
            "_model_module_version": "1.5.0",
            "_model_name": "ProgressStyleModel",
            "_view_count": null,
            "_view_module": "@jupyter-widgets/base",
            "_view_module_version": "1.2.0",
            "_view_name": "StyleView",
            "bar_color": null,
            "description_width": ""
          }
        },
        "29180aafe32d47fa8bf8f9e9d6be3faa": {
          "model_module": "@jupyter-widgets/base",
          "model_name": "LayoutModel",
          "model_module_version": "1.2.0",
          "state": {
            "_model_module": "@jupyter-widgets/base",
            "_model_module_version": "1.2.0",
            "_model_name": "LayoutModel",
            "_view_count": null,
            "_view_module": "@jupyter-widgets/base",
            "_view_module_version": "1.2.0",
            "_view_name": "LayoutView",
            "align_content": null,
            "align_items": null,
            "align_self": null,
            "border": null,
            "bottom": null,
            "display": null,
            "flex": null,
            "flex_flow": null,
            "grid_area": null,
            "grid_auto_columns": null,
            "grid_auto_flow": null,
            "grid_auto_rows": null,
            "grid_column": null,
            "grid_gap": null,
            "grid_row": null,
            "grid_template_areas": null,
            "grid_template_columns": null,
            "grid_template_rows": null,
            "height": null,
            "justify_content": null,
            "justify_items": null,
            "left": null,
            "margin": null,
            "max_height": null,
            "max_width": null,
            "min_height": null,
            "min_width": null,
            "object_fit": null,
            "object_position": null,
            "order": null,
            "overflow": null,
            "overflow_x": null,
            "overflow_y": null,
            "padding": null,
            "right": null,
            "top": null,
            "visibility": null,
            "width": null
          }
        },
        "67bd859778b64b11b1814997f47f5849": {
          "model_module": "@jupyter-widgets/controls",
          "model_name": "DescriptionStyleModel",
          "model_module_version": "1.5.0",
          "state": {
            "_model_module": "@jupyter-widgets/controls",
            "_model_module_version": "1.5.0",
            "_model_name": "DescriptionStyleModel",
            "_view_count": null,
            "_view_module": "@jupyter-widgets/base",
            "_view_module_version": "1.2.0",
            "_view_name": "StyleView",
            "description_width": ""
          }
        },
        "ef20d3e8ff044de6bc980c544093c4df": {
          "model_module": "@jupyter-widgets/controls",
          "model_name": "HBoxModel",
          "model_module_version": "1.5.0",
          "state": {
            "_dom_classes": [],
            "_model_module": "@jupyter-widgets/controls",
            "_model_module_version": "1.5.0",
            "_model_name": "HBoxModel",
            "_view_count": null,
            "_view_module": "@jupyter-widgets/controls",
            "_view_module_version": "1.5.0",
            "_view_name": "HBoxView",
            "box_style": "",
            "children": [
              "IPY_MODEL_7f1c7a091dc146b2806487814420770a",
              "IPY_MODEL_b2e02f0474cb4b21926439fdf3b73f86",
              "IPY_MODEL_d69b3d0b55994385b33e8f76bfce8069"
            ],
            "layout": "IPY_MODEL_bfac10a9052b45f5adecd68e38e641e7"
          }
        },
        "7f1c7a091dc146b2806487814420770a": {
          "model_module": "@jupyter-widgets/controls",
          "model_name": "HTMLModel",
          "model_module_version": "1.5.0",
          "state": {
            "_dom_classes": [],
            "_model_module": "@jupyter-widgets/controls",
            "_model_module_version": "1.5.0",
            "_model_name": "HTMLModel",
            "_view_count": null,
            "_view_module": "@jupyter-widgets/controls",
            "_view_module_version": "1.5.0",
            "_view_name": "HTMLView",
            "description": "",
            "description_tooltip": null,
            "layout": "IPY_MODEL_e21c5189e1a743beb5e252ab274d393f",
            "placeholder": "​",
            "style": "IPY_MODEL_40d3a8d039e34a6b8312cbffa73bbc23",
            "value": "Generating train split:   0%"
          }
        },
        "b2e02f0474cb4b21926439fdf3b73f86": {
          "model_module": "@jupyter-widgets/controls",
          "model_name": "FloatProgressModel",
          "model_module_version": "1.5.0",
          "state": {
            "_dom_classes": [],
            "_model_module": "@jupyter-widgets/controls",
            "_model_module_version": "1.5.0",
            "_model_name": "FloatProgressModel",
            "_view_count": null,
            "_view_module": "@jupyter-widgets/controls",
            "_view_module_version": "1.5.0",
            "_view_name": "ProgressView",
            "bar_style": "",
            "description": "",
            "description_tooltip": null,
            "layout": "IPY_MODEL_d35b472f95fb4159a130876104214652",
            "max": 9997,
            "min": 0,
            "orientation": "horizontal",
            "style": "IPY_MODEL_e4a578294f2e453c87051712037609b0",
            "value": 9997
          }
        },
        "d69b3d0b55994385b33e8f76bfce8069": {
          "model_module": "@jupyter-widgets/controls",
          "model_name": "HTMLModel",
          "model_module_version": "1.5.0",
          "state": {
            "_dom_classes": [],
            "_model_module": "@jupyter-widgets/controls",
            "_model_module_version": "1.5.0",
            "_model_name": "HTMLModel",
            "_view_count": null,
            "_view_module": "@jupyter-widgets/controls",
            "_view_module_version": "1.5.0",
            "_view_name": "HTMLView",
            "description": "",
            "description_tooltip": null,
            "layout": "IPY_MODEL_a28ca8d7a89343088ac88654a785abb0",
            "placeholder": "​",
            "style": "IPY_MODEL_20dbf2d3969940f19d4dcc3ddf8a0d9d",
            "value": " 0/9997 [00:00&lt;?, ? examples/s]"
          }
        },
        "bfac10a9052b45f5adecd68e38e641e7": {
          "model_module": "@jupyter-widgets/base",
          "model_name": "LayoutModel",
          "model_module_version": "1.2.0",
          "state": {
            "_model_module": "@jupyter-widgets/base",
            "_model_module_version": "1.2.0",
            "_model_name": "LayoutModel",
            "_view_count": null,
            "_view_module": "@jupyter-widgets/base",
            "_view_module_version": "1.2.0",
            "_view_name": "LayoutView",
            "align_content": null,
            "align_items": null,
            "align_self": null,
            "border": null,
            "bottom": null,
            "display": null,
            "flex": null,
            "flex_flow": null,
            "grid_area": null,
            "grid_auto_columns": null,
            "grid_auto_flow": null,
            "grid_auto_rows": null,
            "grid_column": null,
            "grid_gap": null,
            "grid_row": null,
            "grid_template_areas": null,
            "grid_template_columns": null,
            "grid_template_rows": null,
            "height": null,
            "justify_content": null,
            "justify_items": null,
            "left": null,
            "margin": null,
            "max_height": null,
            "max_width": null,
            "min_height": null,
            "min_width": null,
            "object_fit": null,
            "object_position": null,
            "order": null,
            "overflow": null,
            "overflow_x": null,
            "overflow_y": null,
            "padding": null,
            "right": null,
            "top": null,
            "visibility": "hidden",
            "width": null
          }
        },
        "e21c5189e1a743beb5e252ab274d393f": {
          "model_module": "@jupyter-widgets/base",
          "model_name": "LayoutModel",
          "model_module_version": "1.2.0",
          "state": {
            "_model_module": "@jupyter-widgets/base",
            "_model_module_version": "1.2.0",
            "_model_name": "LayoutModel",
            "_view_count": null,
            "_view_module": "@jupyter-widgets/base",
            "_view_module_version": "1.2.0",
            "_view_name": "LayoutView",
            "align_content": null,
            "align_items": null,
            "align_self": null,
            "border": null,
            "bottom": null,
            "display": null,
            "flex": null,
            "flex_flow": null,
            "grid_area": null,
            "grid_auto_columns": null,
            "grid_auto_flow": null,
            "grid_auto_rows": null,
            "grid_column": null,
            "grid_gap": null,
            "grid_row": null,
            "grid_template_areas": null,
            "grid_template_columns": null,
            "grid_template_rows": null,
            "height": null,
            "justify_content": null,
            "justify_items": null,
            "left": null,
            "margin": null,
            "max_height": null,
            "max_width": null,
            "min_height": null,
            "min_width": null,
            "object_fit": null,
            "object_position": null,
            "order": null,
            "overflow": null,
            "overflow_x": null,
            "overflow_y": null,
            "padding": null,
            "right": null,
            "top": null,
            "visibility": null,
            "width": null
          }
        },
        "40d3a8d039e34a6b8312cbffa73bbc23": {
          "model_module": "@jupyter-widgets/controls",
          "model_name": "DescriptionStyleModel",
          "model_module_version": "1.5.0",
          "state": {
            "_model_module": "@jupyter-widgets/controls",
            "_model_module_version": "1.5.0",
            "_model_name": "DescriptionStyleModel",
            "_view_count": null,
            "_view_module": "@jupyter-widgets/base",
            "_view_module_version": "1.2.0",
            "_view_name": "StyleView",
            "description_width": ""
          }
        },
        "d35b472f95fb4159a130876104214652": {
          "model_module": "@jupyter-widgets/base",
          "model_name": "LayoutModel",
          "model_module_version": "1.2.0",
          "state": {
            "_model_module": "@jupyter-widgets/base",
            "_model_module_version": "1.2.0",
            "_model_name": "LayoutModel",
            "_view_count": null,
            "_view_module": "@jupyter-widgets/base",
            "_view_module_version": "1.2.0",
            "_view_name": "LayoutView",
            "align_content": null,
            "align_items": null,
            "align_self": null,
            "border": null,
            "bottom": null,
            "display": null,
            "flex": null,
            "flex_flow": null,
            "grid_area": null,
            "grid_auto_columns": null,
            "grid_auto_flow": null,
            "grid_auto_rows": null,
            "grid_column": null,
            "grid_gap": null,
            "grid_row": null,
            "grid_template_areas": null,
            "grid_template_columns": null,
            "grid_template_rows": null,
            "height": null,
            "justify_content": null,
            "justify_items": null,
            "left": null,
            "margin": null,
            "max_height": null,
            "max_width": null,
            "min_height": null,
            "min_width": null,
            "object_fit": null,
            "object_position": null,
            "order": null,
            "overflow": null,
            "overflow_x": null,
            "overflow_y": null,
            "padding": null,
            "right": null,
            "top": null,
            "visibility": null,
            "width": null
          }
        },
        "e4a578294f2e453c87051712037609b0": {
          "model_module": "@jupyter-widgets/controls",
          "model_name": "ProgressStyleModel",
          "model_module_version": "1.5.0",
          "state": {
            "_model_module": "@jupyter-widgets/controls",
            "_model_module_version": "1.5.0",
            "_model_name": "ProgressStyleModel",
            "_view_count": null,
            "_view_module": "@jupyter-widgets/base",
            "_view_module_version": "1.2.0",
            "_view_name": "StyleView",
            "bar_color": null,
            "description_width": ""
          }
        },
        "a28ca8d7a89343088ac88654a785abb0": {
          "model_module": "@jupyter-widgets/base",
          "model_name": "LayoutModel",
          "model_module_version": "1.2.0",
          "state": {
            "_model_module": "@jupyter-widgets/base",
            "_model_module_version": "1.2.0",
            "_model_name": "LayoutModel",
            "_view_count": null,
            "_view_module": "@jupyter-widgets/base",
            "_view_module_version": "1.2.0",
            "_view_name": "LayoutView",
            "align_content": null,
            "align_items": null,
            "align_self": null,
            "border": null,
            "bottom": null,
            "display": null,
            "flex": null,
            "flex_flow": null,
            "grid_area": null,
            "grid_auto_columns": null,
            "grid_auto_flow": null,
            "grid_auto_rows": null,
            "grid_column": null,
            "grid_gap": null,
            "grid_row": null,
            "grid_template_areas": null,
            "grid_template_columns": null,
            "grid_template_rows": null,
            "height": null,
            "justify_content": null,
            "justify_items": null,
            "left": null,
            "margin": null,
            "max_height": null,
            "max_width": null,
            "min_height": null,
            "min_width": null,
            "object_fit": null,
            "object_position": null,
            "order": null,
            "overflow": null,
            "overflow_x": null,
            "overflow_y": null,
            "padding": null,
            "right": null,
            "top": null,
            "visibility": null,
            "width": null
          }
        },
        "20dbf2d3969940f19d4dcc3ddf8a0d9d": {
          "model_module": "@jupyter-widgets/controls",
          "model_name": "DescriptionStyleModel",
          "model_module_version": "1.5.0",
          "state": {
            "_model_module": "@jupyter-widgets/controls",
            "_model_module_version": "1.5.0",
            "_model_name": "DescriptionStyleModel",
            "_view_count": null,
            "_view_module": "@jupyter-widgets/base",
            "_view_module_version": "1.2.0",
            "_view_name": "StyleView",
            "description_width": ""
          }
        },
        "7d2d5cd60b414e438451f415907b663c": {
          "model_module": "@jupyter-widgets/controls",
          "model_name": "HBoxModel",
          "model_module_version": "1.5.0",
          "state": {
            "_dom_classes": [],
            "_model_module": "@jupyter-widgets/controls",
            "_model_module_version": "1.5.0",
            "_model_name": "HBoxModel",
            "_view_count": null,
            "_view_module": "@jupyter-widgets/controls",
            "_view_module_version": "1.5.0",
            "_view_name": "HBoxView",
            "box_style": "",
            "children": [
              "IPY_MODEL_57c23d48d34143ed97219aca747bcf52",
              "IPY_MODEL_c80d91d5353744a388fedcae3f3cf6cf",
              "IPY_MODEL_54b0ef8101304fbd92c896b846abdc0d"
            ],
            "layout": "IPY_MODEL_db37684a17bc4a49a575223d7d658c90"
          }
        },
        "57c23d48d34143ed97219aca747bcf52": {
          "model_module": "@jupyter-widgets/controls",
          "model_name": "HTMLModel",
          "model_module_version": "1.5.0",
          "state": {
            "_dom_classes": [],
            "_model_module": "@jupyter-widgets/controls",
            "_model_module_version": "1.5.0",
            "_model_name": "HTMLModel",
            "_view_count": null,
            "_view_module": "@jupyter-widgets/controls",
            "_view_module_version": "1.5.0",
            "_view_name": "HTMLView",
            "description": "",
            "description_tooltip": null,
            "layout": "IPY_MODEL_8eea92533bfe443c96367b4965905a45",
            "placeholder": "​",
            "style": "IPY_MODEL_9f75f7bdaee2457d87d8a0cf49e79f72",
            "value": "100%"
          }
        },
        "c80d91d5353744a388fedcae3f3cf6cf": {
          "model_module": "@jupyter-widgets/controls",
          "model_name": "FloatProgressModel",
          "model_module_version": "1.5.0",
          "state": {
            "_dom_classes": [],
            "_model_module": "@jupyter-widgets/controls",
            "_model_module_version": "1.5.0",
            "_model_name": "FloatProgressModel",
            "_view_count": null,
            "_view_module": "@jupyter-widgets/controls",
            "_view_module_version": "1.5.0",
            "_view_name": "ProgressView",
            "bar_style": "success",
            "description": "",
            "description_tooltip": null,
            "layout": "IPY_MODEL_196bf264ecaa40fbb798b9a848745b23",
            "max": 1,
            "min": 0,
            "orientation": "horizontal",
            "style": "IPY_MODEL_73c6ca8551ef47a8824bcb25b530ae72",
            "value": 1
          }
        },
        "54b0ef8101304fbd92c896b846abdc0d": {
          "model_module": "@jupyter-widgets/controls",
          "model_name": "HTMLModel",
          "model_module_version": "1.5.0",
          "state": {
            "_dom_classes": [],
            "_model_module": "@jupyter-widgets/controls",
            "_model_module_version": "1.5.0",
            "_model_name": "HTMLModel",
            "_view_count": null,
            "_view_module": "@jupyter-widgets/controls",
            "_view_module_version": "1.5.0",
            "_view_name": "HTMLView",
            "description": "",
            "description_tooltip": null,
            "layout": "IPY_MODEL_2390c1d2953644bd8b314ed96f46a846",
            "placeholder": "​",
            "style": "IPY_MODEL_72e5100ad85d45d0934f4ada921d27d9",
            "value": " 1/1 [00:00&lt;00:00, 59.41it/s]"
          }
        },
        "db37684a17bc4a49a575223d7d658c90": {
          "model_module": "@jupyter-widgets/base",
          "model_name": "LayoutModel",
          "model_module_version": "1.2.0",
          "state": {
            "_model_module": "@jupyter-widgets/base",
            "_model_module_version": "1.2.0",
            "_model_name": "LayoutModel",
            "_view_count": null,
            "_view_module": "@jupyter-widgets/base",
            "_view_module_version": "1.2.0",
            "_view_name": "LayoutView",
            "align_content": null,
            "align_items": null,
            "align_self": null,
            "border": null,
            "bottom": null,
            "display": null,
            "flex": null,
            "flex_flow": null,
            "grid_area": null,
            "grid_auto_columns": null,
            "grid_auto_flow": null,
            "grid_auto_rows": null,
            "grid_column": null,
            "grid_gap": null,
            "grid_row": null,
            "grid_template_areas": null,
            "grid_template_columns": null,
            "grid_template_rows": null,
            "height": null,
            "justify_content": null,
            "justify_items": null,
            "left": null,
            "margin": null,
            "max_height": null,
            "max_width": null,
            "min_height": null,
            "min_width": null,
            "object_fit": null,
            "object_position": null,
            "order": null,
            "overflow": null,
            "overflow_x": null,
            "overflow_y": null,
            "padding": null,
            "right": null,
            "top": null,
            "visibility": null,
            "width": null
          }
        },
        "8eea92533bfe443c96367b4965905a45": {
          "model_module": "@jupyter-widgets/base",
          "model_name": "LayoutModel",
          "model_module_version": "1.2.0",
          "state": {
            "_model_module": "@jupyter-widgets/base",
            "_model_module_version": "1.2.0",
            "_model_name": "LayoutModel",
            "_view_count": null,
            "_view_module": "@jupyter-widgets/base",
            "_view_module_version": "1.2.0",
            "_view_name": "LayoutView",
            "align_content": null,
            "align_items": null,
            "align_self": null,
            "border": null,
            "bottom": null,
            "display": null,
            "flex": null,
            "flex_flow": null,
            "grid_area": null,
            "grid_auto_columns": null,
            "grid_auto_flow": null,
            "grid_auto_rows": null,
            "grid_column": null,
            "grid_gap": null,
            "grid_row": null,
            "grid_template_areas": null,
            "grid_template_columns": null,
            "grid_template_rows": null,
            "height": null,
            "justify_content": null,
            "justify_items": null,
            "left": null,
            "margin": null,
            "max_height": null,
            "max_width": null,
            "min_height": null,
            "min_width": null,
            "object_fit": null,
            "object_position": null,
            "order": null,
            "overflow": null,
            "overflow_x": null,
            "overflow_y": null,
            "padding": null,
            "right": null,
            "top": null,
            "visibility": null,
            "width": null
          }
        },
        "9f75f7bdaee2457d87d8a0cf49e79f72": {
          "model_module": "@jupyter-widgets/controls",
          "model_name": "DescriptionStyleModel",
          "model_module_version": "1.5.0",
          "state": {
            "_model_module": "@jupyter-widgets/controls",
            "_model_module_version": "1.5.0",
            "_model_name": "DescriptionStyleModel",
            "_view_count": null,
            "_view_module": "@jupyter-widgets/base",
            "_view_module_version": "1.2.0",
            "_view_name": "StyleView",
            "description_width": ""
          }
        },
        "196bf264ecaa40fbb798b9a848745b23": {
          "model_module": "@jupyter-widgets/base",
          "model_name": "LayoutModel",
          "model_module_version": "1.2.0",
          "state": {
            "_model_module": "@jupyter-widgets/base",
            "_model_module_version": "1.2.0",
            "_model_name": "LayoutModel",
            "_view_count": null,
            "_view_module": "@jupyter-widgets/base",
            "_view_module_version": "1.2.0",
            "_view_name": "LayoutView",
            "align_content": null,
            "align_items": null,
            "align_self": null,
            "border": null,
            "bottom": null,
            "display": null,
            "flex": null,
            "flex_flow": null,
            "grid_area": null,
            "grid_auto_columns": null,
            "grid_auto_flow": null,
            "grid_auto_rows": null,
            "grid_column": null,
            "grid_gap": null,
            "grid_row": null,
            "grid_template_areas": null,
            "grid_template_columns": null,
            "grid_template_rows": null,
            "height": null,
            "justify_content": null,
            "justify_items": null,
            "left": null,
            "margin": null,
            "max_height": null,
            "max_width": null,
            "min_height": null,
            "min_width": null,
            "object_fit": null,
            "object_position": null,
            "order": null,
            "overflow": null,
            "overflow_x": null,
            "overflow_y": null,
            "padding": null,
            "right": null,
            "top": null,
            "visibility": null,
            "width": null
          }
        },
        "73c6ca8551ef47a8824bcb25b530ae72": {
          "model_module": "@jupyter-widgets/controls",
          "model_name": "ProgressStyleModel",
          "model_module_version": "1.5.0",
          "state": {
            "_model_module": "@jupyter-widgets/controls",
            "_model_module_version": "1.5.0",
            "_model_name": "ProgressStyleModel",
            "_view_count": null,
            "_view_module": "@jupyter-widgets/base",
            "_view_module_version": "1.2.0",
            "_view_name": "StyleView",
            "bar_color": null,
            "description_width": ""
          }
        },
        "2390c1d2953644bd8b314ed96f46a846": {
          "model_module": "@jupyter-widgets/base",
          "model_name": "LayoutModel",
          "model_module_version": "1.2.0",
          "state": {
            "_model_module": "@jupyter-widgets/base",
            "_model_module_version": "1.2.0",
            "_model_name": "LayoutModel",
            "_view_count": null,
            "_view_module": "@jupyter-widgets/base",
            "_view_module_version": "1.2.0",
            "_view_name": "LayoutView",
            "align_content": null,
            "align_items": null,
            "align_self": null,
            "border": null,
            "bottom": null,
            "display": null,
            "flex": null,
            "flex_flow": null,
            "grid_area": null,
            "grid_auto_columns": null,
            "grid_auto_flow": null,
            "grid_auto_rows": null,
            "grid_column": null,
            "grid_gap": null,
            "grid_row": null,
            "grid_template_areas": null,
            "grid_template_columns": null,
            "grid_template_rows": null,
            "height": null,
            "justify_content": null,
            "justify_items": null,
            "left": null,
            "margin": null,
            "max_height": null,
            "max_width": null,
            "min_height": null,
            "min_width": null,
            "object_fit": null,
            "object_position": null,
            "order": null,
            "overflow": null,
            "overflow_x": null,
            "overflow_y": null,
            "padding": null,
            "right": null,
            "top": null,
            "visibility": null,
            "width": null
          }
        },
        "72e5100ad85d45d0934f4ada921d27d9": {
          "model_module": "@jupyter-widgets/controls",
          "model_name": "DescriptionStyleModel",
          "model_module_version": "1.5.0",
          "state": {
            "_model_module": "@jupyter-widgets/controls",
            "_model_module_version": "1.5.0",
            "_model_name": "DescriptionStyleModel",
            "_view_count": null,
            "_view_module": "@jupyter-widgets/base",
            "_view_module_version": "1.2.0",
            "_view_name": "StyleView",
            "description_width": ""
          }
        },
        "cfcd930453544da783637171b673a107": {
          "model_module": "@jupyter-widgets/controls",
          "model_name": "VBoxModel",
          "model_module_version": "1.5.0",
          "state": {
            "_dom_classes": [],
            "_model_module": "@jupyter-widgets/controls",
            "_model_module_version": "1.5.0",
            "_model_name": "VBoxModel",
            "_view_count": null,
            "_view_module": "@jupyter-widgets/controls",
            "_view_module_version": "1.5.0",
            "_view_name": "VBoxView",
            "box_style": "",
            "children": [
              "IPY_MODEL_ecde0e29aefb4eb886be393d94f84674",
              "IPY_MODEL_78965b0ca9584de4bd8bc90bf5a1ea11",
              "IPY_MODEL_fb310800f1794ca3b8155e1b8a585cea",
              "IPY_MODEL_f6f85b0a00f345a984f559728808c890",
              "IPY_MODEL_927641012815459681b4acc39d3c9199"
            ],
            "layout": "IPY_MODEL_8a0a6b8ae6e74eb3a578340ce6b23227"
          }
        },
        "ecde0e29aefb4eb886be393d94f84674": {
          "model_module": "@jupyter-widgets/controls",
          "model_name": "HTMLModel",
          "model_module_version": "1.5.0",
          "state": {
            "_dom_classes": [],
            "_model_module": "@jupyter-widgets/controls",
            "_model_module_version": "1.5.0",
            "_model_name": "HTMLModel",
            "_view_count": null,
            "_view_module": "@jupyter-widgets/controls",
            "_view_module_version": "1.5.0",
            "_view_name": "HTMLView",
            "description": "",
            "description_tooltip": null,
            "layout": "IPY_MODEL_6739ceb75ca7423f81c9bc292453bb62",
            "placeholder": "​",
            "style": "IPY_MODEL_3f2fac952106435b9c9c43a73cb76475",
            "value": "<center> <img\nsrc=https://huggingface.co/front/assets/huggingface_logo-noborder.svg\nalt='Hugging Face'> <br> Copy a token from <a\nhref=\"https://huggingface.co/settings/tokens\" target=\"_blank\">your Hugging Face\ntokens page</a> and paste it below. <br> Immediately click login after copying\nyour token or it might be stored in plain text in this notebook file. </center>"
          }
        },
        "78965b0ca9584de4bd8bc90bf5a1ea11": {
          "model_module": "@jupyter-widgets/controls",
          "model_name": "PasswordModel",
          "model_module_version": "1.5.0",
          "state": {
            "_dom_classes": [],
            "_model_module": "@jupyter-widgets/controls",
            "_model_module_version": "1.5.0",
            "_model_name": "PasswordModel",
            "_view_count": null,
            "_view_module": "@jupyter-widgets/controls",
            "_view_module_version": "1.5.0",
            "_view_name": "PasswordView",
            "continuous_update": true,
            "description": "Token:",
            "description_tooltip": null,
            "disabled": false,
            "layout": "IPY_MODEL_a8f1a8f3cd314069b82a89f1e55ccd68",
            "placeholder": "​",
            "style": "IPY_MODEL_fccb6ca691e14cf9a7f3178b5b0f687c",
            "value": ""
          }
        },
        "fb310800f1794ca3b8155e1b8a585cea": {
          "model_module": "@jupyter-widgets/controls",
          "model_name": "CheckboxModel",
          "model_module_version": "1.5.0",
          "state": {
            "_dom_classes": [],
            "_model_module": "@jupyter-widgets/controls",
            "_model_module_version": "1.5.0",
            "_model_name": "CheckboxModel",
            "_view_count": null,
            "_view_module": "@jupyter-widgets/controls",
            "_view_module_version": "1.5.0",
            "_view_name": "CheckboxView",
            "description": "Add token as git credential?",
            "description_tooltip": null,
            "disabled": false,
            "indent": true,
            "layout": "IPY_MODEL_c18795cdbb834b0397d47cbb54667f15",
            "style": "IPY_MODEL_4e4c371777804f12b966340d1446abfb",
            "value": true
          }
        },
        "f6f85b0a00f345a984f559728808c890": {
          "model_module": "@jupyter-widgets/controls",
          "model_name": "ButtonModel",
          "model_module_version": "1.5.0",
          "state": {
            "_dom_classes": [],
            "_model_module": "@jupyter-widgets/controls",
            "_model_module_version": "1.5.0",
            "_model_name": "ButtonModel",
            "_view_count": null,
            "_view_module": "@jupyter-widgets/controls",
            "_view_module_version": "1.5.0",
            "_view_name": "ButtonView",
            "button_style": "",
            "description": "Login",
            "disabled": false,
            "icon": "",
            "layout": "IPY_MODEL_32dcda914f0b444784e1ba148c85b8a3",
            "style": "IPY_MODEL_697de431502a41f7bafd26ba7e5f6c65",
            "tooltip": ""
          }
        },
        "927641012815459681b4acc39d3c9199": {
          "model_module": "@jupyter-widgets/controls",
          "model_name": "HTMLModel",
          "model_module_version": "1.5.0",
          "state": {
            "_dom_classes": [],
            "_model_module": "@jupyter-widgets/controls",
            "_model_module_version": "1.5.0",
            "_model_name": "HTMLModel",
            "_view_count": null,
            "_view_module": "@jupyter-widgets/controls",
            "_view_module_version": "1.5.0",
            "_view_name": "HTMLView",
            "description": "",
            "description_tooltip": null,
            "layout": "IPY_MODEL_0f89c8884190410399114e711f900841",
            "placeholder": "​",
            "style": "IPY_MODEL_35717bc47db743bca19a463f1f1707e9",
            "value": "\n<b>Pro Tip:</b> If you don't already have one, you can create a dedicated\n'notebooks' token with 'write' access, that you can then easily reuse for all\nnotebooks. </center>"
          }
        },
        "8a0a6b8ae6e74eb3a578340ce6b23227": {
          "model_module": "@jupyter-widgets/base",
          "model_name": "LayoutModel",
          "model_module_version": "1.2.0",
          "state": {
            "_model_module": "@jupyter-widgets/base",
            "_model_module_version": "1.2.0",
            "_model_name": "LayoutModel",
            "_view_count": null,
            "_view_module": "@jupyter-widgets/base",
            "_view_module_version": "1.2.0",
            "_view_name": "LayoutView",
            "align_content": null,
            "align_items": "center",
            "align_self": null,
            "border": null,
            "bottom": null,
            "display": "flex",
            "flex": null,
            "flex_flow": "column",
            "grid_area": null,
            "grid_auto_columns": null,
            "grid_auto_flow": null,
            "grid_auto_rows": null,
            "grid_column": null,
            "grid_gap": null,
            "grid_row": null,
            "grid_template_areas": null,
            "grid_template_columns": null,
            "grid_template_rows": null,
            "height": null,
            "justify_content": null,
            "justify_items": null,
            "left": null,
            "margin": null,
            "max_height": null,
            "max_width": null,
            "min_height": null,
            "min_width": null,
            "object_fit": null,
            "object_position": null,
            "order": null,
            "overflow": null,
            "overflow_x": null,
            "overflow_y": null,
            "padding": null,
            "right": null,
            "top": null,
            "visibility": null,
            "width": "50%"
          }
        },
        "6739ceb75ca7423f81c9bc292453bb62": {
          "model_module": "@jupyter-widgets/base",
          "model_name": "LayoutModel",
          "model_module_version": "1.2.0",
          "state": {
            "_model_module": "@jupyter-widgets/base",
            "_model_module_version": "1.2.0",
            "_model_name": "LayoutModel",
            "_view_count": null,
            "_view_module": "@jupyter-widgets/base",
            "_view_module_version": "1.2.0",
            "_view_name": "LayoutView",
            "align_content": null,
            "align_items": null,
            "align_self": null,
            "border": null,
            "bottom": null,
            "display": null,
            "flex": null,
            "flex_flow": null,
            "grid_area": null,
            "grid_auto_columns": null,
            "grid_auto_flow": null,
            "grid_auto_rows": null,
            "grid_column": null,
            "grid_gap": null,
            "grid_row": null,
            "grid_template_areas": null,
            "grid_template_columns": null,
            "grid_template_rows": null,
            "height": null,
            "justify_content": null,
            "justify_items": null,
            "left": null,
            "margin": null,
            "max_height": null,
            "max_width": null,
            "min_height": null,
            "min_width": null,
            "object_fit": null,
            "object_position": null,
            "order": null,
            "overflow": null,
            "overflow_x": null,
            "overflow_y": null,
            "padding": null,
            "right": null,
            "top": null,
            "visibility": null,
            "width": null
          }
        },
        "3f2fac952106435b9c9c43a73cb76475": {
          "model_module": "@jupyter-widgets/controls",
          "model_name": "DescriptionStyleModel",
          "model_module_version": "1.5.0",
          "state": {
            "_model_module": "@jupyter-widgets/controls",
            "_model_module_version": "1.5.0",
            "_model_name": "DescriptionStyleModel",
            "_view_count": null,
            "_view_module": "@jupyter-widgets/base",
            "_view_module_version": "1.2.0",
            "_view_name": "StyleView",
            "description_width": ""
          }
        },
        "a8f1a8f3cd314069b82a89f1e55ccd68": {
          "model_module": "@jupyter-widgets/base",
          "model_name": "LayoutModel",
          "model_module_version": "1.2.0",
          "state": {
            "_model_module": "@jupyter-widgets/base",
            "_model_module_version": "1.2.0",
            "_model_name": "LayoutModel",
            "_view_count": null,
            "_view_module": "@jupyter-widgets/base",
            "_view_module_version": "1.2.0",
            "_view_name": "LayoutView",
            "align_content": null,
            "align_items": null,
            "align_self": null,
            "border": null,
            "bottom": null,
            "display": null,
            "flex": null,
            "flex_flow": null,
            "grid_area": null,
            "grid_auto_columns": null,
            "grid_auto_flow": null,
            "grid_auto_rows": null,
            "grid_column": null,
            "grid_gap": null,
            "grid_row": null,
            "grid_template_areas": null,
            "grid_template_columns": null,
            "grid_template_rows": null,
            "height": null,
            "justify_content": null,
            "justify_items": null,
            "left": null,
            "margin": null,
            "max_height": null,
            "max_width": null,
            "min_height": null,
            "min_width": null,
            "object_fit": null,
            "object_position": null,
            "order": null,
            "overflow": null,
            "overflow_x": null,
            "overflow_y": null,
            "padding": null,
            "right": null,
            "top": null,
            "visibility": null,
            "width": null
          }
        },
        "fccb6ca691e14cf9a7f3178b5b0f687c": {
          "model_module": "@jupyter-widgets/controls",
          "model_name": "DescriptionStyleModel",
          "model_module_version": "1.5.0",
          "state": {
            "_model_module": "@jupyter-widgets/controls",
            "_model_module_version": "1.5.0",
            "_model_name": "DescriptionStyleModel",
            "_view_count": null,
            "_view_module": "@jupyter-widgets/base",
            "_view_module_version": "1.2.0",
            "_view_name": "StyleView",
            "description_width": ""
          }
        },
        "c18795cdbb834b0397d47cbb54667f15": {
          "model_module": "@jupyter-widgets/base",
          "model_name": "LayoutModel",
          "model_module_version": "1.2.0",
          "state": {
            "_model_module": "@jupyter-widgets/base",
            "_model_module_version": "1.2.0",
            "_model_name": "LayoutModel",
            "_view_count": null,
            "_view_module": "@jupyter-widgets/base",
            "_view_module_version": "1.2.0",
            "_view_name": "LayoutView",
            "align_content": null,
            "align_items": null,
            "align_self": null,
            "border": null,
            "bottom": null,
            "display": null,
            "flex": null,
            "flex_flow": null,
            "grid_area": null,
            "grid_auto_columns": null,
            "grid_auto_flow": null,
            "grid_auto_rows": null,
            "grid_column": null,
            "grid_gap": null,
            "grid_row": null,
            "grid_template_areas": null,
            "grid_template_columns": null,
            "grid_template_rows": null,
            "height": null,
            "justify_content": null,
            "justify_items": null,
            "left": null,
            "margin": null,
            "max_height": null,
            "max_width": null,
            "min_height": null,
            "min_width": null,
            "object_fit": null,
            "object_position": null,
            "order": null,
            "overflow": null,
            "overflow_x": null,
            "overflow_y": null,
            "padding": null,
            "right": null,
            "top": null,
            "visibility": null,
            "width": null
          }
        },
        "4e4c371777804f12b966340d1446abfb": {
          "model_module": "@jupyter-widgets/controls",
          "model_name": "DescriptionStyleModel",
          "model_module_version": "1.5.0",
          "state": {
            "_model_module": "@jupyter-widgets/controls",
            "_model_module_version": "1.5.0",
            "_model_name": "DescriptionStyleModel",
            "_view_count": null,
            "_view_module": "@jupyter-widgets/base",
            "_view_module_version": "1.2.0",
            "_view_name": "StyleView",
            "description_width": ""
          }
        },
        "32dcda914f0b444784e1ba148c85b8a3": {
          "model_module": "@jupyter-widgets/base",
          "model_name": "LayoutModel",
          "model_module_version": "1.2.0",
          "state": {
            "_model_module": "@jupyter-widgets/base",
            "_model_module_version": "1.2.0",
            "_model_name": "LayoutModel",
            "_view_count": null,
            "_view_module": "@jupyter-widgets/base",
            "_view_module_version": "1.2.0",
            "_view_name": "LayoutView",
            "align_content": null,
            "align_items": null,
            "align_self": null,
            "border": null,
            "bottom": null,
            "display": null,
            "flex": null,
            "flex_flow": null,
            "grid_area": null,
            "grid_auto_columns": null,
            "grid_auto_flow": null,
            "grid_auto_rows": null,
            "grid_column": null,
            "grid_gap": null,
            "grid_row": null,
            "grid_template_areas": null,
            "grid_template_columns": null,
            "grid_template_rows": null,
            "height": null,
            "justify_content": null,
            "justify_items": null,
            "left": null,
            "margin": null,
            "max_height": null,
            "max_width": null,
            "min_height": null,
            "min_width": null,
            "object_fit": null,
            "object_position": null,
            "order": null,
            "overflow": null,
            "overflow_x": null,
            "overflow_y": null,
            "padding": null,
            "right": null,
            "top": null,
            "visibility": null,
            "width": null
          }
        },
        "697de431502a41f7bafd26ba7e5f6c65": {
          "model_module": "@jupyter-widgets/controls",
          "model_name": "ButtonStyleModel",
          "model_module_version": "1.5.0",
          "state": {
            "_model_module": "@jupyter-widgets/controls",
            "_model_module_version": "1.5.0",
            "_model_name": "ButtonStyleModel",
            "_view_count": null,
            "_view_module": "@jupyter-widgets/base",
            "_view_module_version": "1.2.0",
            "_view_name": "StyleView",
            "button_color": null,
            "font_weight": ""
          }
        },
        "0f89c8884190410399114e711f900841": {
          "model_module": "@jupyter-widgets/base",
          "model_name": "LayoutModel",
          "model_module_version": "1.2.0",
          "state": {
            "_model_module": "@jupyter-widgets/base",
            "_model_module_version": "1.2.0",
            "_model_name": "LayoutModel",
            "_view_count": null,
            "_view_module": "@jupyter-widgets/base",
            "_view_module_version": "1.2.0",
            "_view_name": "LayoutView",
            "align_content": null,
            "align_items": null,
            "align_self": null,
            "border": null,
            "bottom": null,
            "display": null,
            "flex": null,
            "flex_flow": null,
            "grid_area": null,
            "grid_auto_columns": null,
            "grid_auto_flow": null,
            "grid_auto_rows": null,
            "grid_column": null,
            "grid_gap": null,
            "grid_row": null,
            "grid_template_areas": null,
            "grid_template_columns": null,
            "grid_template_rows": null,
            "height": null,
            "justify_content": null,
            "justify_items": null,
            "left": null,
            "margin": null,
            "max_height": null,
            "max_width": null,
            "min_height": null,
            "min_width": null,
            "object_fit": null,
            "object_position": null,
            "order": null,
            "overflow": null,
            "overflow_x": null,
            "overflow_y": null,
            "padding": null,
            "right": null,
            "top": null,
            "visibility": null,
            "width": null
          }
        },
        "35717bc47db743bca19a463f1f1707e9": {
          "model_module": "@jupyter-widgets/controls",
          "model_name": "DescriptionStyleModel",
          "model_module_version": "1.5.0",
          "state": {
            "_model_module": "@jupyter-widgets/controls",
            "_model_module_version": "1.5.0",
            "_model_name": "DescriptionStyleModel",
            "_view_count": null,
            "_view_module": "@jupyter-widgets/base",
            "_view_module_version": "1.2.0",
            "_view_name": "StyleView",
            "description_width": ""
          }
        }
      }
    }
  },
  "cells": [
    {
      "cell_type": "markdown",
      "metadata": {
        "id": "view-in-github",
        "colab_type": "text"
      },
      "source": [
        "<a href=\"https://colab.research.google.com/github/zetavg/LLM-Research/blob/main/Transformers_Tokenizer_For_Training_Study.ipynb\" target=\"_parent\"><img src=\"https://colab.research.google.com/assets/colab-badge.svg\" alt=\"Open In Colab\"/></a>"
      ]
    },
    {
      "cell_type": "markdown",
      "source": [
        "# Transformers Tokenizer (For Training) Study\n",
        "\n",
        "Analyze the use of the tokenizer in training some open-source LLMs, and experiment with training a new tokenizer that performs better on CJK characters (Traditional Chinese)."
      ],
      "metadata": {
        "id": "O0cCHa_ordKZ"
      }
    },
    {
      "cell_type": "code",
      "execution_count": 1,
      "metadata": {
        "id": "5c40qvRuq978",
        "colab": {
          "base_uri": "https://localhost:8080/"
        },
        "outputId": "7f723be4-8a3c-4e96-a349-c76a29b87479"
      },
      "outputs": [
        {
          "output_type": "stream",
          "name": "stdout",
          "text": [
            "Looking in indexes: https://pypi.org/simple, https://us-python.pkg.dev/colab-wheels/public/simple/\n",
            "Requirement already satisfied: transformers==4.28.0 in /usr/local/lib/python3.10/dist-packages (4.28.0)\n",
            "Requirement already satisfied: sentencepiece in /usr/local/lib/python3.10/dist-packages (0.1.98)\n",
            "Requirement already satisfied: packaging>=20.0 in /usr/local/lib/python3.10/dist-packages (from transformers==4.28.0) (23.1)\n",
            "Requirement already satisfied: tokenizers!=0.11.3,<0.14,>=0.11.1 in /usr/local/lib/python3.10/dist-packages (from transformers==4.28.0) (0.13.3)\n",
            "Requirement already satisfied: requests in /usr/local/lib/python3.10/dist-packages (from transformers==4.28.0) (2.27.1)\n",
            "Requirement already satisfied: huggingface-hub<1.0,>=0.11.0 in /usr/local/lib/python3.10/dist-packages (from transformers==4.28.0) (0.14.1)\n",
            "Requirement already satisfied: numpy>=1.17 in /usr/local/lib/python3.10/dist-packages (from transformers==4.28.0) (1.22.4)\n",
            "Requirement already satisfied: pyyaml>=5.1 in /usr/local/lib/python3.10/dist-packages (from transformers==4.28.0) (6.0)\n",
            "Requirement already satisfied: filelock in /usr/local/lib/python3.10/dist-packages (from transformers==4.28.0) (3.12.0)\n",
            "Requirement already satisfied: regex!=2019.12.17 in /usr/local/lib/python3.10/dist-packages (from transformers==4.28.0) (2022.10.31)\n",
            "Requirement already satisfied: tqdm>=4.27 in /usr/local/lib/python3.10/dist-packages (from transformers==4.28.0) (4.65.0)\n",
            "Requirement already satisfied: fsspec in /usr/local/lib/python3.10/dist-packages (from huggingface-hub<1.0,>=0.11.0->transformers==4.28.0) (2023.4.0)\n",
            "Requirement already satisfied: typing-extensions>=3.7.4.3 in /usr/local/lib/python3.10/dist-packages (from huggingface-hub<1.0,>=0.11.0->transformers==4.28.0) (4.5.0)\n",
            "Requirement already satisfied: certifi>=2017.4.17 in /usr/local/lib/python3.10/dist-packages (from requests->transformers==4.28.0) (2022.12.7)\n",
            "Requirement already satisfied: charset-normalizer~=2.0.0 in /usr/local/lib/python3.10/dist-packages (from requests->transformers==4.28.0) (2.0.12)\n",
            "Requirement already satisfied: idna<4,>=2.5 in /usr/local/lib/python3.10/dist-packages (from requests->transformers==4.28.0) (3.4)\n",
            "Requirement already satisfied: urllib3<1.27,>=1.21.1 in /usr/local/lib/python3.10/dist-packages (from requests->transformers==4.28.0) (1.26.15)\n"
          ]
        }
      ],
      "source": [
        "!pip install transformers==4.28.0 sentencepiece"
      ]
    },
    {
      "cell_type": "code",
      "source": [
        "# decapoda-research/llama-7b-hf seems to have strange tokenizer config\n",
        "llama_model_name = 'huggyllama/llama-7b'"
      ],
      "metadata": {
        "id": "abeaW3aWFCbW"
      },
      "execution_count": null,
      "outputs": []
    },
    {
      "cell_type": "markdown",
      "source": [
        "## Basic: How Tokenizers Work"
      ],
      "metadata": {
        "id": "CjXEG_6t5R9y"
      }
    },
    {
      "cell_type": "code",
      "source": [
        "# @markdown Load the GPT-2 Tokenizer\n",
        "\n",
        "from transformers import AutoTokenizer\n",
        "tokenizer = AutoTokenizer.from_pretrained(\"gpt2\")\n",
        "tokenizer"
      ],
      "metadata": {
        "id": "svUvYSqo3oNa",
        "colab": {
          "base_uri": "https://localhost:8080/"
        },
        "outputId": "a8429a23-f7c3-4257-c065-5c5b9ef08d9d"
      },
      "execution_count": null,
      "outputs": [
        {
          "output_type": "execute_result",
          "data": {
            "text/plain": [
              "GPT2TokenizerFast(name_or_path='gpt2', vocab_size=50257, model_max_length=1024, is_fast=True, padding_side='right', truncation_side='right', special_tokens={'bos_token': '<|endoftext|>', 'eos_token': '<|endoftext|>', 'unk_token': '<|endoftext|>'}, clean_up_tokenization_spaces=True)"
            ]
          },
          "metadata": {},
          "execution_count": 3
        }
      ]
    },
    {
      "cell_type": "code",
      "source": [
        "# @markdown This tokenizer has a few special symbols, like Ġ and Ċ, which denote spaces and newlines, respectively.\n",
        "\n",
        "tokenizer.tokenize(\"Hello, world!\\nNice to meet you!\")"
      ],
      "metadata": {
        "id": "vG5vVkJK4BZp",
        "colab": {
          "base_uri": "https://localhost:8080/"
        },
        "outputId": "126e1c20-884b-4024-a497-d74a3085eb6e"
      },
      "execution_count": null,
      "outputs": [
        {
          "output_type": "execute_result",
          "data": {
            "text/plain": [
              "['Hello', ',', 'Ġworld', '!', 'Ċ', 'Nice', 'Ġto', 'Ġmeet', 'Ġyou', '!']"
            ]
          },
          "metadata": {},
          "execution_count": 4
        }
      ]
    },
    {
      "cell_type": "code",
      "source": [
        "# @markdown Load the LLaMA Tokenizer\n",
        "\n",
        "from transformers import LlamaTokenizer\n",
        "llama_tokenizer = LlamaTokenizer.from_pretrained(llama_model_name)\n",
        "llama_tokenizer"
      ],
      "metadata": {
        "id": "-T7YMdSnsqFZ",
        "colab": {
          "base_uri": "https://localhost:8080/"
        },
        "outputId": "5263dcfd-c3f0-42a0-ee7c-442f77b2d44b"
      },
      "execution_count": null,
      "outputs": [
        {
          "output_type": "execute_result",
          "data": {
            "text/plain": [
              "LlamaTokenizer(name_or_path='huggyllama/llama-7b', vocab_size=32000, model_max_length=2048, is_fast=False, padding_side='right', truncation_side='right', special_tokens={'bos_token': AddedToken(\"<s>\", rstrip=False, lstrip=False, single_word=False, normalized=True), 'eos_token': AddedToken(\"</s>\", rstrip=False, lstrip=False, single_word=False, normalized=True), 'unk_token': AddedToken(\"<unk>\", rstrip=False, lstrip=False, single_word=False, normalized=True)}, clean_up_tokenization_spaces=False)"
            ]
          },
          "metadata": {},
          "execution_count": 5
        }
      ]
    },
    {
      "cell_type": "code",
      "source": [
        "# @markdown The LLaMA tokenizer handles special symbols differently.\n",
        "\n",
        "llama_tokenizer.tokenize(\"Hello, world!\\nNice to meet you!\")"
      ],
      "metadata": {
        "id": "EACe1rgS4X9o",
        "colab": {
          "base_uri": "https://localhost:8080/"
        },
        "outputId": "075ea80d-225d-4440-f320-c518a7278541"
      },
      "execution_count": null,
      "outputs": [
        {
          "output_type": "execute_result",
          "data": {
            "text/plain": [
              "['▁Hello',\n",
              " ',',\n",
              " '▁world',\n",
              " '!',\n",
              " '<0x0A>',\n",
              " 'N',\n",
              " 'ice',\n",
              " '▁to',\n",
              " '▁meet',\n",
              " '▁you',\n",
              " '!']"
            ]
          },
          "metadata": {},
          "execution_count": 6
        }
      ]
    },
    {
      "cell_type": "code",
      "source": [
        "# @markdown The main method to tokenize. ([Docs](https://huggingface.co/docs/transformers/main_classes/tokenizer#transformers.PreTrainedTokenizer.__call__))\n",
        "# @markdown\n",
        "# @markdown It returns a [BatchEncoding](https://huggingface.co/docs/transformers/main_classes/tokenizer#transformers.PreTrainedTokenizer.__call__.returns) which has the following fields:\n",
        "# @markdown\n",
        "# @markdown * `input_ids` — List of token ids to be fed to a model. They are token indices, numerical representations of tokens.\n",
        "# @markdown * `token_type_ids` — List of token type ids to be fed to a model (when `return_token_type_ids=True` or if “token_type_ids” is in self.model_input_names). These are used by models that delas with classification on pairs of sentences or question answering ([See](https://huggingface.co/docs/transformers/glossary#token-type-ids)).\n",
        "# @markdown * `attention_mask` — List of indices specifying which tokens should be attended to by the model (when `return_attention_mask=True` or if “attention_mask” is in self.model_input_names) ([See](https://huggingface.co/docs/transformers/glossary#attention-mask)).\n",
        "# @markdown * `overflowing_tokens` — List of overflowing tokens sequences (when a max_length is specified and `return_overflowing_tokens=True`).\n",
        "# @markdown * `num_truncated_tokens` — num_truncated_tokens — Number of tokens truncated (when a max_length is specified and `return_overflowing_tokens=True`).\n",
        "# @markdown * `special_tokens_mask` — List of 0s and 1s, with 1 specifying added special tokens and 0 specifying regular sequence tokens (when `add_special_tokens=True` and `return_special_tokens_mask=True`).\n",
        "# @markdown * `length` — The length of the inputs (when return_length=True)\n",
        "\n",
        "print(\"Let's see the default behaiver:\")\n",
        "print(\"GPT-2 tokenizer: \", tokenizer(\"Hello, world!\"))\n",
        "print(\"LLaMA tokenizer: \", llama_tokenizer(\"Hello, world!\"))\n",
        "print(\"\")\n",
        "\n",
        "print(\"Now, setting 'max_length=4', 'truncation=True, 'return_overflowing_tokens=True' and 'return_length=True':\")\n",
        "print(\n",
        "    \"GPT-2 tokenizer: \",\n",
        "    tokenizer(\n",
        "        \"Hello, world!\",\n",
        "        max_length=4, truncation=True, return_overflowing_tokens=True))\n",
        "print(\n",
        "    \"LLaMA tokenizer: \",\n",
        "    llama_tokenizer(\n",
        "        \"Hello, world!\",\n",
        "        max_length=4, truncation=True, return_overflowing_tokens=True))\n"
      ],
      "metadata": {
        "id": "1pcQ6fuA9lQ8",
        "colab": {
          "base_uri": "https://localhost:8080/"
        },
        "outputId": "3007b56c-e31f-41bc-e7e7-fcc6a6a5efe8"
      },
      "execution_count": null,
      "outputs": [
        {
          "output_type": "stream",
          "name": "stdout",
          "text": [
            "Let's see the default behaiver:\n",
            "GPT-2 tokenizer:  {'input_ids': [15496, 11, 995, 0], 'attention_mask': [1, 1, 1, 1]}\n",
            "LLaMA tokenizer:  {'input_ids': [1, 15043, 29892, 3186, 29991], 'attention_mask': [1, 1, 1, 1, 1]}\n",
            "\n",
            "Now, setting 'max_length=4', 'truncation=True, 'return_overflowing_tokens=True' and 'return_length=True':\n",
            "GPT-2 tokenizer:  {'input_ids': [[15496, 11, 995, 0]], 'attention_mask': [[1, 1, 1, 1]], 'overflow_to_sample_mapping': [0]}\n",
            "LLaMA tokenizer:  {'overflowing_tokens': [29991], 'num_truncated_tokens': 1, 'input_ids': [1, 15043, 29892, 3186], 'attention_mask': [1, 1, 1, 1]}\n"
          ]
        }
      ]
    },
    {
      "cell_type": "markdown",
      "source": [
        "## Tokanizers in Training\n",
        "\n",
        "Here, we analyze how the tokenizers participated in the training of some open-source language models."
      ],
      "metadata": {
        "id": "CaBkLNHTD-Hx"
      }
    },
    {
      "cell_type": "markdown",
      "source": [
        "### Alpaca-LoRA\n",
        "\n",
        "From https://github.com/tloen/alpaca-lora/blob/65fb8225c09af81feb5edb1abb12560f02930703/finetune.py."
      ],
      "metadata": {
        "id": "yzxjUgIjsHQJ"
      }
    },
    {
      "cell_type": "markdown",
      "source": [
        "#### Sample data and default values\n",
        "\n",
        "For simulating the dataset and hyperparams on training."
      ],
      "metadata": {
        "id": "85qNeTpoITsS"
      }
    },
    {
      "cell_type": "code",
      "source": [
        "cutoff_len = 512\n",
        "\n",
        "sample_aplaca_lora_user_prompt = \"\"\"\n",
        "Below is an instruction that describes a task. Write a response that appropriately completes the request.\n",
        "\n",
        "### Instruction:\n",
        "Find the capital of Spain.\n",
        "\n",
        "### Response:\n",
        "\"\"\"\n",
        "\n",
        "sample_aplaca_lora_full_prompt = \"\"\"\n",
        "Below is an instruction that describes a task. Write a response that appropriately completes the request.\n",
        "\n",
        "### Instruction:\n",
        "Find the capital of Spain.\n",
        "\n",
        "### Response:\n",
        "The capital of Spain is Madrid.\n",
        "\"\"\""
      ],
      "metadata": {
        "id": "eZ1fp6NsEKLa"
      },
      "execution_count": null,
      "outputs": []
    },
    {
      "cell_type": "markdown",
      "source": [
        "#### Setup the tokenizer\n",
        "\n",
        "Code below are copied from https://github.com/tloen/alpaca-lora/blob/65fb8225/finetune.py#L126.\n"
      ],
      "metadata": {
        "id": "6fU6YE6GIjNh"
      }
    },
    {
      "cell_type": "code",
      "source": [
        "alpaca_lora_tokenizer = LlamaTokenizer.from_pretrained(llama_model_name)"
      ],
      "metadata": {
        "id": "Mdc-bFDLFMEi"
      },
      "execution_count": null,
      "outputs": []
    },
    {
      "cell_type": "code",
      "source": [
        "# @markdown Not sure why this is needed. The default seems to be `None`.\n",
        "\n",
        "alpaca_lora_tokenizer.pad_token_id = (\n",
        "    0  # unk. we want this to be different from the eos token\n",
        ")"
      ],
      "metadata": {
        "id": "8uORZOqqEyD5"
      },
      "execution_count": null,
      "outputs": []
    },
    {
      "cell_type": "code",
      "source": [
        "# @markdown Not sure why this is needed. The default seems to be `'right'`.\n",
        "\n",
        "alpaca_lora_tokenizer.padding_side = \"left\"  # Allow batched inference"
      ],
      "metadata": {
        "id": "r8Hyz9KAFXD4"
      },
      "execution_count": null,
      "outputs": []
    },
    {
      "cell_type": "code",
      "source": [
        "# @markdown Not sure why this is all 0, it seems to be 1, 2, 0 regarding to the [generation script](https://github.com/tloen/alpaca-lora/blob/630d114/generate.py#L76-L78). <br />\n",
        "# @markdown Update: using `huggyllama/llama-7b` instead of `decapoda-research/llama-7b-hf` fixes this.\n",
        "\n",
        "print(alpaca_lora_tokenizer.bos_token_id)\n",
        "print(alpaca_lora_tokenizer.eos_token_id)\n",
        "print(alpaca_lora_tokenizer.unk_token_id)"
      ],
      "metadata": {
        "id": "4friKHPHOOfZ",
        "colab": {
          "base_uri": "https://localhost:8080/"
        },
        "outputId": "01260cb7-1647-4cad-e738-55e26ef3b831"
      },
      "execution_count": null,
      "outputs": [
        {
          "output_type": "stream",
          "name": "stdout",
          "text": [
            "1\n",
            "2\n",
            "0\n"
          ]
        }
      ]
    },
    {
      "cell_type": "markdown",
      "source": [
        "#### How the tokenizer works in alpaca-lora fine-tuning source code"
      ],
      "metadata": {
        "id": "k18eJRvlmmWe"
      }
    },
    {
      "cell_type": "code",
      "source": [
        "# @markdown From https://github.com/tloen/alpaca-lora/blob/65fb8225/finetune.py#L126.<br />\n",
        "# @markdown * `truncation=True` and `max_length=cutoff_len` is being set to ensure the tokenized prompt is no longer than the cutoff length.<br />\n",
        "# @markdown * I think `padding=False` is set because the padding will be done by the [`transformers.DataCollatorForSeq2Seq` Data Collactor](https://huggingface.co/docs/transformers/v4.28.1/en/main_classes/data_collator#transformers.DataCollatorForSeq2Seq), which is passed to the trainer later and will dynamically pad the inputs received, as well as the labels.\n",
        "# @markdown * `return_tensors=None` is set also because `transformers.DataCollatorForSeq2Seq` is in charge of handling this later, alough `None` seems to be also the default value making this redundant. (Set it to 'pt' will let the tokenizer return PyTorch torch.Tensor objects.)\n",
        "# @markdown * As the comment, \"there's probably a way to do this with the tokenizer settings\", it seems that using the [`TemplateProcessing` post-processor](https://huggingface.co/docs/tokenizers/v0.13.3/en/api/post-processors#tokenizers.processors.TemplateProcessing) can achieve this (adding the eos token at the end of input), but I can't find a way to add [post-processors](https://huggingface.co/docs/tokenizers/v0.13.3/en/pipeline) to LLaMA tokenizer or GPT tokenizer. Maybe it's not the way of using TemplateProcessing. So I guess it make sense to do this manually. \n",
        "\n",
        "def tokenize(prompt, add_eos_token=True):\n",
        "    # there's probably a way to do this with the tokenizer settings\n",
        "    # but again, gotta move fast\n",
        "    result = alpaca_lora_tokenizer(\n",
        "        prompt,\n",
        "        truncation=True,\n",
        "        max_length=cutoff_len,\n",
        "        padding=False,\n",
        "        return_tensors=None,\n",
        "    )\n",
        "    if (\n",
        "        result[\"input_ids\"][-1] != alpaca_lora_tokenizer.eos_token_id\n",
        "        and len(result[\"input_ids\"]) < cutoff_len\n",
        "        and add_eos_token\n",
        "    ):\n",
        "        result[\"input_ids\"].append(alpaca_lora_tokenizer.eos_token_id)\n",
        "        result[\"attention_mask\"].append(1)\n",
        "\n",
        "    result[\"labels\"] = result[\"input_ids\"].copy()\n",
        "\n",
        "    return result\n",
        "\n",
        "# Test it\n",
        "tokenize(sample_aplaca_lora_full_prompt)\n",
        "\n",
        "# Test if long input will be truncated\n",
        "# tokenize(\" a\" * (cutoff_len + 10))\n"
      ],
      "metadata": {
        "id": "y0lpjbZNFi0N",
        "colab": {
          "base_uri": "https://localhost:8080/"
        },
        "outputId": "23ebd585-5130-43c2-db84-03b0ce9a8b2a"
      },
      "execution_count": null,
      "outputs": [
        {
          "output_type": "execute_result",
          "data": {
            "text/plain": [
              "{'input_ids': [1, 29871, 13, 21140, 340, 338, 385, 15278, 393, 16612, 263, 3414, 29889, 14350, 263, 2933, 393, 7128, 2486, 1614, 2167, 278, 2009, 29889, 13, 13, 2277, 29937, 2799, 4080, 29901, 13, 12542, 278, 7483, 310, 13616, 29889, 13, 13, 2277, 29937, 13291, 29901, 13, 1576, 7483, 310, 13616, 338, 9669, 29889, 13, 2], 'attention_mask': [1, 1, 1, 1, 1, 1, 1, 1, 1, 1, 1, 1, 1, 1, 1, 1, 1, 1, 1, 1, 1, 1, 1, 1, 1, 1, 1, 1, 1, 1, 1, 1, 1, 1, 1, 1, 1, 1, 1, 1, 1, 1, 1, 1, 1, 1, 1, 1, 1, 1, 1, 1, 1, 1], 'labels': [1, 29871, 13, 21140, 340, 338, 385, 15278, 393, 16612, 263, 3414, 29889, 14350, 263, 2933, 393, 7128, 2486, 1614, 2167, 278, 2009, 29889, 13, 13, 2277, 29937, 2799, 4080, 29901, 13, 12542, 278, 7483, 310, 13616, 29889, 13, 13, 2277, 29937, 13291, 29901, 13, 1576, 7483, 310, 13616, 338, 9669, 29889, 13, 2]}"
            ]
          },
          "metadata": {},
          "execution_count": 13
        }
      ]
    },
    {
      "cell_type": "code",
      "source": [
        "# @markdown From https://github.com/tloen/alpaca-lora/blob/65fb8225/finetune.py#L148. The arguments are modified so that sample data can be passed into it directly without using the prompter to generate a prompt.<br /><br />\n",
        "# @markdown The main purpose of this function (other then calling `prompter.generate_prompt`) is to deal with `train_on_inputs`, if `train_on_inputs` is set to False, then the ground truth that is used to calcualte the loss, which is `labels`, will be modified so that the \"user input\" tokens will be relpaced by `-100`.\n",
        "# @markdown > <p>In most cases, the `IGNORE_TOKEN_ID` is set to -100. This value is chosen because the PyTorch implementation of common loss functions, such as CrossEntropyLoss, is designed to ignore targets with the value -100 during loss calculation. When the loss function encounters a target with this value, it doesn't contribute to the loss, effectively making the model ignore the corresponding input tokens during training.\n",
        "# @markdown > </p> -- GPT-4\n",
        "\n",
        "def generate_and_tokenize_prompt(user_prompt, full_prompt):\n",
        "    # full_prompt = prompter.generate_prompt(\n",
        "    #     data_point[\"instruction\"],\n",
        "    #     data_point[\"input\"],\n",
        "    #     data_point[\"output\"],\n",
        "    # )\n",
        "    tokenized_full_prompt = tokenize(full_prompt)\n",
        "    if not train_on_inputs:\n",
        "        # user_prompt = prompter.generate_prompt(\n",
        "        #     data_point[\"instruction\"], data_point[\"input\"]\n",
        "        # )\n",
        "        tokenized_user_prompt = tokenize(\n",
        "            user_prompt, add_eos_token=add_eos_token\n",
        "        )\n",
        "        user_prompt_len = len(tokenized_user_prompt[\"input_ids\"])\n",
        "\n",
        "        if add_eos_token:\n",
        "            user_prompt_len -= 1\n",
        "\n",
        "        tokenized_full_prompt[\"labels\"] = [\n",
        "            -100\n",
        "        ] * user_prompt_len + tokenized_full_prompt[\"labels\"][\n",
        "            user_prompt_len:\n",
        "        ]  # could be sped up, probably\n",
        "    return tokenized_full_prompt\n",
        "\n",
        "# Test it. Here the begining of 'labels' should be \"masked\" with a lot of \"-100\".\n",
        "add_eos_token = True\n",
        "train_on_inputs = False\n",
        "generate_and_tokenize_prompt(sample_aplaca_lora_user_prompt, sample_aplaca_lora_full_prompt)"
      ],
      "metadata": {
        "id": "z9MbIP9OFtEt",
        "colab": {
          "base_uri": "https://localhost:8080/"
        },
        "outputId": "41e26498-acea-4624-feae-2d432affe569"
      },
      "execution_count": null,
      "outputs": [
        {
          "output_type": "execute_result",
          "data": {
            "text/plain": [
              "{'input_ids': [1, 29871, 13, 21140, 340, 338, 385, 15278, 393, 16612, 263, 3414, 29889, 14350, 263, 2933, 393, 7128, 2486, 1614, 2167, 278, 2009, 29889, 13, 13, 2277, 29937, 2799, 4080, 29901, 13, 12542, 278, 7483, 310, 13616, 29889, 13, 13, 2277, 29937, 13291, 29901, 13, 1576, 7483, 310, 13616, 338, 9669, 29889, 13, 2], 'attention_mask': [1, 1, 1, 1, 1, 1, 1, 1, 1, 1, 1, 1, 1, 1, 1, 1, 1, 1, 1, 1, 1, 1, 1, 1, 1, 1, 1, 1, 1, 1, 1, 1, 1, 1, 1, 1, 1, 1, 1, 1, 1, 1, 1, 1, 1, 1, 1, 1, 1, 1, 1, 1, 1, 1], 'labels': [-100, -100, -100, -100, -100, -100, -100, -100, -100, -100, -100, -100, -100, -100, -100, -100, -100, -100, -100, -100, -100, -100, -100, -100, -100, -100, -100, -100, -100, -100, -100, -100, -100, -100, -100, -100, -100, -100, -100, -100, -100, -100, -100, -100, -100, 1576, 7483, 310, 13616, 338, 9669, 29889, 13, 2]}"
            ]
          },
          "metadata": {},
          "execution_count": 14
        }
      ]
    },
    {
      "cell_type": "code",
      "source": [
        "# @markdown In the [source code of alpaca-lora](https://github.com/tloen/alpaca-lora/blob/65fb8225/finetune.py#L257-L259), the trainer is being passed a `transformers.DataCollatorForSeq2Seq` data collector as in this code cell.\n",
        "from transformers import DataCollatorForSeq2Seq\n",
        "\n",
        "data_collator = DataCollatorForSeq2Seq(\n",
        "    alpaca_lora_tokenizer,\n",
        "    pad_to_multiple_of=8,\n",
        "    return_tensors=\"pt\",\n",
        "    padding=True\n",
        ")"
      ],
      "metadata": {
        "id": "XGUKoL4NF2C7"
      },
      "execution_count": null,
      "outputs": []
    },
    {
      "cell_type": "code",
      "source": [
        "# @markdown Not sure why but we will get an error\n",
        "# @markdown > ValueError: Asking to pad but the tokenizer does not have a padding token. Please select a token to use as `pad_token` `(tokenizer.pad_token = tokenizer.eos_token e.g.)` or add a new pad token via `tokenizer.add_special_tokens({'pad_token': '[PAD]'})`.\n",
        "# @markdown\n",
        "# @markdown while using the data collector directly ff we don't add the `pad_token` with `alpaca_lora_tokenizer.add_special_tokens`. This part is not seen in the source code of alpaca-lora. I guess there're some magic happening as the trainer uses the data collector, or the version of the transformers lib.\n",
        "alpaca_lora_tokenizer.add_special_tokens({'pad_token': '<unk>'})\n",
        "\n",
        "# Check\n",
        "print(alpaca_lora_tokenizer.special_tokens_map)\n",
        "print(alpaca_lora_tokenizer.pad_token_id)"
      ],
      "metadata": {
        "colab": {
          "base_uri": "https://localhost:8080/"
        },
        "id": "WkzPRz0HjL-i",
        "outputId": "fd7a9820-c612-4016-ea1e-b3bbecc5e06a"
      },
      "execution_count": null,
      "outputs": [
        {
          "output_type": "stream",
          "name": "stdout",
          "text": [
            "{'bos_token': '<s>', 'eos_token': '</s>', 'unk_token': '<unk>', 'pad_token': '<unk>'}\n",
            "0\n"
          ]
        }
      ]
    },
    {
      "cell_type": "code",
      "source": [
        "# @markdown Now, check if the inputs in the same batch (?) will be padded to have the same length.\n",
        "\n",
        "batch_encoding_1 = generate_and_tokenize_prompt(\n",
        "    sample_aplaca_lora_user_prompt,\n",
        "    sample_aplaca_lora_full_prompt\n",
        ")\n",
        "batch_encoding_2 = generate_and_tokenize_prompt(\n",
        "    'Hi',\n",
        "    'Hi there!')\n",
        "features = data_collator([batch_encoding_1, batch_encoding_2])\n",
        "\n",
        "# @markdown In the output, we can see that the shorter input has been padded with lots of `0`s. The pad token is inserted from the left because we have `alpaca_lora_tokenizer.padding_side = \"left\"`. Also, the attention masks has also been set correctly to mask out the pad tokens.\n",
        "print(features)"
      ],
      "metadata": {
        "colab": {
          "base_uri": "https://localhost:8080/"
        },
        "id": "EGZHARpEgxvo",
        "outputId": "ddb8b906-f06a-471c-e179-d0e0a9bcab09"
      },
      "execution_count": null,
      "outputs": [
        {
          "output_type": "stream",
          "name": "stdout",
          "text": [
            "{'input_ids': tensor([[    0,     0,     1, 29871,    13, 21140,   340,   338,   385, 15278,\n",
            "           393, 16612,   263,  3414, 29889, 14350,   263,  2933,   393,  7128,\n",
            "          2486,  1614,  2167,   278,  2009, 29889,    13,    13,  2277, 29937,\n",
            "          2799,  4080, 29901,    13, 12542,   278,  7483,   310, 13616, 29889,\n",
            "            13,    13,  2277, 29937, 13291, 29901,    13,  1576,  7483,   310,\n",
            "         13616,   338,  9669, 29889,    13,     2],\n",
            "        [    0,     0,     0,     0,     0,     0,     0,     0,     0,     0,\n",
            "             0,     0,     0,     0,     0,     0,     0,     0,     0,     0,\n",
            "             0,     0,     0,     0,     0,     0,     0,     0,     0,     0,\n",
            "             0,     0,     0,     0,     0,     0,     0,     0,     0,     0,\n",
            "             0,     0,     0,     0,     0,     0,     0,     0,     0,     0,\n",
            "             0,     1,  6324,   727, 29991,     2]]), 'attention_mask': tensor([[0, 0, 1, 1, 1, 1, 1, 1, 1, 1, 1, 1, 1, 1, 1, 1, 1, 1, 1, 1, 1, 1, 1, 1,\n",
            "         1, 1, 1, 1, 1, 1, 1, 1, 1, 1, 1, 1, 1, 1, 1, 1, 1, 1, 1, 1, 1, 1, 1, 1,\n",
            "         1, 1, 1, 1, 1, 1, 1, 1],\n",
            "        [0, 0, 0, 0, 0, 0, 0, 0, 0, 0, 0, 0, 0, 0, 0, 0, 0, 0, 0, 0, 0, 0, 0, 0,\n",
            "         0, 0, 0, 0, 0, 0, 0, 0, 0, 0, 0, 0, 0, 0, 0, 0, 0, 0, 0, 0, 0, 0, 0, 0,\n",
            "         0, 0, 0, 1, 1, 1, 1, 1]]), 'labels': tensor([[ -100,  -100,  -100,  -100,  -100,  -100,  -100,  -100,  -100,  -100,\n",
            "          -100,  -100,  -100,  -100,  -100,  -100,  -100,  -100,  -100,  -100,\n",
            "          -100,  -100,  -100,  -100,  -100,  -100,  -100,  -100,  -100,  -100,\n",
            "          -100,  -100,  -100,  -100,  -100,  -100,  -100,  -100,  -100,  -100,\n",
            "          -100,  -100,  -100,  -100,  -100,  -100,  -100,  1576,  7483,   310,\n",
            "         13616,   338,  9669, 29889,    13,     2],\n",
            "        [ -100,  -100,  -100,  -100,  -100,  -100,  -100,  -100,  -100,  -100,\n",
            "          -100,  -100,  -100,  -100,  -100,  -100,  -100,  -100,  -100,  -100,\n",
            "          -100,  -100,  -100,  -100,  -100,  -100,  -100,  -100,  -100,  -100,\n",
            "          -100,  -100,  -100,  -100,  -100,  -100,  -100,  -100,  -100,  -100,\n",
            "          -100,  -100,  -100,  -100,  -100,  -100,  -100,  -100,  -100,  -100,\n",
            "          -100,  -100,  -100,   727, 29991,     2]])}\n"
          ]
        }
      ]
    },
    {
      "cell_type": "code",
      "source": [
        "# @markdown Now, we try to decode it back.\n",
        "print(\"features['input_ids'][0]: \")\n",
        "print(\"---\")\n",
        "print(alpaca_lora_tokenizer.decode(features['input_ids'][0]))\n",
        "print(\"---\")\n",
        "print(\"\")\n",
        "\n",
        "# @markdown `features['labels'][0]` can't be decoded directly because those `-100`s will make the tokenizer return an `IndexError: piece id is out of range.`\n",
        "# @markdown Therefore, we map them into `0`s (`<unk>`) before decoding.\n",
        "print(\"features['labels'][0]: \")\n",
        "print(\"---\")\n",
        "print(alpaca_lora_tokenizer.decode([\n",
        "    0 if id < 0 else id for id in features['labels'][0]\n",
        "]))\n",
        "print(\"---\")"
      ],
      "metadata": {
        "colab": {
          "base_uri": "https://localhost:8080/"
        },
        "id": "47wLj1cjlKMn",
        "outputId": "11327cc2-5b6d-4e29-92f3-93ab899308d7"
      },
      "execution_count": null,
      "outputs": [
        {
          "output_type": "stream",
          "name": "stdout",
          "text": [
            "features['input_ids'][0]: \n",
            "---\n",
            "<unk><unk><s> \n",
            "Below is an instruction that describes a task. Write a response that appropriately completes the request.\n",
            "\n",
            "### Instruction:\n",
            "Find the capital of Spain.\n",
            "\n",
            "### Response:\n",
            "The capital of Spain is Madrid.\n",
            "</s>\n",
            "---\n",
            "\n",
            "features['labels'][0]: \n",
            "---\n",
            "<unk><unk><unk><unk><unk><unk><unk><unk><unk><unk><unk><unk><unk><unk><unk><unk><unk><unk><unk><unk><unk><unk><unk><unk><unk><unk><unk><unk><unk><unk><unk><unk><unk><unk><unk><unk><unk><unk><unk><unk><unk><unk><unk><unk><unk><unk><unk> The capital of Spain is Madrid.\n",
            "</s>\n",
            "---\n"
          ]
        }
      ]
    },
    {
      "cell_type": "markdown",
      "source": [
        "## Experiment On Training Tokenizers\n"
      ],
      "metadata": {
        "id": "e-mmFgYoomJU"
      }
    },
    {
      "cell_type": "markdown",
      "source": [
        "### Tool for inspecting tokenize results for CJK characters\n",
        "\n",
        "Since CJK characters often got splitted into multiple tokens, it's hard to see how a sentence is being tokenized by the tokenized result. For example:\n",
        "\n",
        "```python\n",
        ">>> tokenizer.tokenize('好')\n",
        "['å¥', '½']  # Two tokens for a word\n",
        "```\n",
        "\n",
        "```python\n",
        ">>> tokenizer.tokenize('你好世界！')\n",
        "['ä½', 'ł', 'å¥', '½', 'ä¸', 'ĸ', 'çķ', 'Į', 'ï', '¼', 'ģ']\n",
        "# ⬆️ ???\n",
        "```\n",
        "\n",
        "To address this, we define a function that can return full CJK words of a tokenization result, and also how many tokens are used to form that word:"
      ],
      "metadata": {
        "id": "oTjcsZk8GEIK"
      }
    },
    {
      "cell_type": "code",
      "source": [
        "def tokenize_cjk(tokenizer, text):\n",
        "    tokens = tokenizer.tokenize(text)\n",
        "    processed_tokens = 0\n",
        "    i = 1\n",
        "    tokens_to_form_full_word = []\n",
        "    full_word = \"\"\n",
        "    while i <= len(tokens):\n",
        "        test_tokens_to_form_full_word = tokens[processed_tokens:i]\n",
        "        test_full_word = tokenizer.convert_tokens_to_string(test_tokens_to_form_full_word)\n",
        "        if len(test_full_word) > 1:\n",
        "            if full_word:\n",
        "                # We got tokens that should belong to the next word.\n",
        "                # Yield the previous full word and reset the list.\n",
        "                yield (full_word, len(tokens_to_form_full_word))\n",
        "            else:\n",
        "                # We do not have a previous word, so this might be an English word. Yield it.\n",
        "                yield (test_full_word, len(test_tokens_to_form_full_word))\n",
        "                i += 1\n",
        "            # Reset the list of tokens to form a full word.\n",
        "            tokens_to_form_full_word = []\n",
        "            full_word = \"\"\n",
        "            # Set processed_tokens to the first token of the next word.\n",
        "            processed_tokens = i - 1\n",
        "        else:\n",
        "            tokens_to_form_full_word = test_tokens_to_form_full_word\n",
        "            full_word = test_full_word\n",
        "            i += 1  # Try to add another token to the word on the next iteration.\n",
        "    # If we have anything left, yield it.\n",
        "    if full_word:\n",
        "        yield (full_word, len(tokens_to_form_full_word))"
      ],
      "metadata": {
        "id": "4Sbj09gDHdQt"
      },
      "execution_count": null,
      "outputs": []
    },
    {
      "cell_type": "code",
      "source": [
        "# @markdown Here we got `[('你', 2), ('好', 2), ('，', 3), ('Anna', 1), ('！', 3)]`. It means that thw word \"你\" is formed by 2 tokens, \"好\" by 2 tokens and \"，\" by 3 tokens. \"Anna\" is formed by 1 token.\n",
        "\n",
        "tokenizer = \\\n",
        "    AutoTokenizer.from_pretrained(\"gpt2\")\n",
        "list(tokenize_cjk(tokenizer, \"你好，Anna！\"))"
      ],
      "metadata": {
        "colab": {
          "base_uri": "https://localhost:8080/"
        },
        "id": "20GaTE5mHjta",
        "outputId": "4bc672bc-9e5f-4ae4-94a7-9053bd003c77"
      },
      "execution_count": null,
      "outputs": [
        {
          "output_type": "execute_result",
          "data": {
            "text/plain": [
              "[('你', 2), ('好', 2), ('，', 3), ('Anna', 1), ('！', 3)]"
            ]
          },
          "metadata": {},
          "execution_count": 20
        }
      ]
    },
    {
      "cell_type": "markdown",
      "source": [
        "### Prepare Train Data"
      ],
      "metadata": {
        "id": "e5zyDAXZF_Sy"
      }
    },
    {
      "cell_type": "code",
      "source": [
        "!pip install datasets"
      ],
      "metadata": {
        "colab": {
          "base_uri": "https://localhost:8080/"
        },
        "id": "iTKbT8BF6k_I",
        "outputId": "52960724-5108-489b-9eb4-e6d8201216b5"
      },
      "execution_count": null,
      "outputs": [
        {
          "output_type": "stream",
          "name": "stdout",
          "text": [
            "Looking in indexes: https://pypi.org/simple, https://us-python.pkg.dev/colab-wheels/public/simple/\n",
            "Requirement already satisfied: datasets in /usr/local/lib/python3.10/dist-packages (2.11.0)\n",
            "Requirement already satisfied: requests>=2.19.0 in /usr/local/lib/python3.10/dist-packages (from datasets) (2.27.1)\n",
            "Requirement already satisfied: dill<0.3.7,>=0.3.0 in /usr/local/lib/python3.10/dist-packages (from datasets) (0.3.6)\n",
            "Requirement already satisfied: aiohttp in /usr/local/lib/python3.10/dist-packages (from datasets) (3.8.4)\n",
            "Requirement already satisfied: huggingface-hub<1.0.0,>=0.11.0 in /usr/local/lib/python3.10/dist-packages (from datasets) (0.14.1)\n",
            "Requirement already satisfied: pandas in /usr/local/lib/python3.10/dist-packages (from datasets) (1.5.3)\n",
            "Requirement already satisfied: pyarrow>=8.0.0 in /usr/local/lib/python3.10/dist-packages (from datasets) (9.0.0)\n",
            "Requirement already satisfied: xxhash in /usr/local/lib/python3.10/dist-packages (from datasets) (3.2.0)\n",
            "Requirement already satisfied: packaging in /usr/local/lib/python3.10/dist-packages (from datasets) (23.1)\n",
            "Requirement already satisfied: pyyaml>=5.1 in /usr/local/lib/python3.10/dist-packages (from datasets) (6.0)\n",
            "Requirement already satisfied: numpy>=1.17 in /usr/local/lib/python3.10/dist-packages (from datasets) (1.22.4)\n",
            "Requirement already satisfied: fsspec[http]>=2021.11.1 in /usr/local/lib/python3.10/dist-packages (from datasets) (2023.4.0)\n",
            "Requirement already satisfied: tqdm>=4.62.1 in /usr/local/lib/python3.10/dist-packages (from datasets) (4.65.0)\n",
            "Requirement already satisfied: multiprocess in /usr/local/lib/python3.10/dist-packages (from datasets) (0.70.14)\n",
            "Requirement already satisfied: responses<0.19 in /usr/local/lib/python3.10/dist-packages (from datasets) (0.18.0)\n",
            "Requirement already satisfied: aiosignal>=1.1.2 in /usr/local/lib/python3.10/dist-packages (from aiohttp->datasets) (1.3.1)\n",
            "Requirement already satisfied: charset-normalizer<4.0,>=2.0 in /usr/local/lib/python3.10/dist-packages (from aiohttp->datasets) (2.0.12)\n",
            "Requirement already satisfied: frozenlist>=1.1.1 in /usr/local/lib/python3.10/dist-packages (from aiohttp->datasets) (1.3.3)\n",
            "Requirement already satisfied: multidict<7.0,>=4.5 in /usr/local/lib/python3.10/dist-packages (from aiohttp->datasets) (6.0.4)\n",
            "Requirement already satisfied: async-timeout<5.0,>=4.0.0a3 in /usr/local/lib/python3.10/dist-packages (from aiohttp->datasets) (4.0.2)\n",
            "Requirement already satisfied: attrs>=17.3.0 in /usr/local/lib/python3.10/dist-packages (from aiohttp->datasets) (23.1.0)\n",
            "Requirement already satisfied: yarl<2.0,>=1.0 in /usr/local/lib/python3.10/dist-packages (from aiohttp->datasets) (1.9.2)\n",
            "Requirement already satisfied: typing-extensions>=3.7.4.3 in /usr/local/lib/python3.10/dist-packages (from huggingface-hub<1.0.0,>=0.11.0->datasets) (4.5.0)\n",
            "Requirement already satisfied: filelock in /usr/local/lib/python3.10/dist-packages (from huggingface-hub<1.0.0,>=0.11.0->datasets) (3.12.0)\n",
            "Requirement already satisfied: certifi>=2017.4.17 in /usr/local/lib/python3.10/dist-packages (from requests>=2.19.0->datasets) (2022.12.7)\n",
            "Requirement already satisfied: idna<4,>=2.5 in /usr/local/lib/python3.10/dist-packages (from requests>=2.19.0->datasets) (3.4)\n",
            "Requirement already satisfied: urllib3<1.27,>=1.21.1 in /usr/local/lib/python3.10/dist-packages (from requests>=2.19.0->datasets) (1.26.15)\n",
            "Requirement already satisfied: pytz>=2020.1 in /usr/local/lib/python3.10/dist-packages (from pandas->datasets) (2022.7.1)\n",
            "Requirement already satisfied: python-dateutil>=2.8.1 in /usr/local/lib/python3.10/dist-packages (from pandas->datasets) (2.8.2)\n",
            "Requirement already satisfied: six>=1.5 in /usr/local/lib/python3.10/dist-packages (from python-dateutil>=2.8.1->pandas->datasets) (1.16.0)\n"
          ]
        }
      ]
    },
    {
      "cell_type": "code",
      "source": [
        "import itertools\n",
        "import json\n",
        "from datasets import load_dataset\n",
        "# @markdown Load the Wikipedia dataset.\n",
        "wikipedia_ds = load_dataset(\n",
        "    # \"zetavg/wikipedia_random_page_summaries_zh_tw_5k\"\n",
        "    \"zetavg/wikipedia_random_page_summaries_zh_tw_10k\"\n",
        "    # \"zetavg/wikipedia_random_page_summaries_zh_tw_100k\"\n",
        ")['train']\n",
        "\n",
        "wikipedia_ds_count = len(wikipedia_ds)\n",
        "print(\"Wikipedia data count: \", wikipedia_ds_count)\n",
        "\n",
        "def get_wikipedia_page_summaries():\n",
        "    for batch in wikipedia_ds:\n",
        "        yield batch['page_summary']\n",
        "\n",
        "# @markdown Preview it.\n",
        "first_10_items = list(itertools.islice(\n",
        "    get_wikipedia_page_summaries(), 10))\n",
        "print(json.dumps(\n",
        "    first_10_items, indent=2, ensure_ascii=False))"
      ],
      "metadata": {
        "colab": {
          "base_uri": "https://localhost:8080/",
          "height": 549,
          "referenced_widgets": [
            "48d6b1c5ddb04984b16e6c6aaf5721da",
            "b196bf531001484da90b3be7b943e80a",
            "746f7b3965ed47db95bdffcbf3cc2b3c",
            "33306790f3a0427f9da7e9bcd8666b28",
            "14bd419f94a64d45b58af43b0b45daea",
            "39a37368a43c4d1aa80443073dd94953",
            "d5659ef240a84234a6fc65d577e75f4f",
            "5bff51f852ae41538c3a908572f47ffb",
            "bbe7d4a679fb4397a7ac38f42d2011aa",
            "ee9e4a65f8af4c12a0d1bd9c9adbcc87",
            "c0e13aa1fb6d4868acb832e3a316f650",
            "0afa807d836b407790370d17f74bdb51",
            "5c53ad3086534532b85e3b1e66951ddf",
            "443bdc727a2e49b6a5cb3916bd1ab952",
            "56740b6cf4314b06ad21536e1ea63a46",
            "a0599cd01df044c694c0777b0d79c43a",
            "d082cbec3bb14f5b8fae76163ecdaacb",
            "65fc49d6fdf54d2cb8b76d0e76b4bdd5",
            "28ba832a024040448466eb0f69332051",
            "e2e670dfa9ee4831885646ddfa81b6dc",
            "8394f6dab63345819cc204fd3ea39140",
            "546995b104c644f3ac5bc7179ff3d4fe",
            "47add7ce91d24354aa891bf96ae33deb",
            "02cd6fd1760a4cf79dc0f5ceb583dd47",
            "e184f73fb4fb44b496c4b13cdcb1b3ba",
            "2090ae1303e24594b3c707d2dc6f4cce",
            "f81441588cca479cb2595593f8e09601",
            "a2071e0911cc4285be06404d070b0e07",
            "6761cb3d94c64976a1201caa5e597c46",
            "105bdbead64d4e2db01c94c2ed322d83",
            "a9e2f4cf65ec4e8bbf3b0019e3333239",
            "05bc7766e6174171bccdb0f717ad2c43",
            "91b0e57262b94e228d0e2c1b5fe3b795",
            "3acba380fec14d6c9b99d3a822fd8b78",
            "174a2c6c171d46bcbd6e005124cf5b4e",
            "d463b7835a3a4571ab8593cdb479550d",
            "e3b99fc5312e4818a9adcffaea05bd0e",
            "24b5a5bcfcbb4715800802bc7a752c73",
            "cbb1c4f4a1744a05a5ae23204faf9092",
            "abcdc5fb5fe341e9835a6fce497c3704",
            "15a2f26c7d59453b863d6a57d7ad10cf",
            "16a62cd7ed6d4f798792725581940984",
            "29180aafe32d47fa8bf8f9e9d6be3faa",
            "67bd859778b64b11b1814997f47f5849",
            "ef20d3e8ff044de6bc980c544093c4df",
            "7f1c7a091dc146b2806487814420770a",
            "b2e02f0474cb4b21926439fdf3b73f86",
            "d69b3d0b55994385b33e8f76bfce8069",
            "bfac10a9052b45f5adecd68e38e641e7",
            "e21c5189e1a743beb5e252ab274d393f",
            "40d3a8d039e34a6b8312cbffa73bbc23",
            "d35b472f95fb4159a130876104214652",
            "e4a578294f2e453c87051712037609b0",
            "a28ca8d7a89343088ac88654a785abb0",
            "20dbf2d3969940f19d4dcc3ddf8a0d9d",
            "7d2d5cd60b414e438451f415907b663c",
            "57c23d48d34143ed97219aca747bcf52",
            "c80d91d5353744a388fedcae3f3cf6cf",
            "54b0ef8101304fbd92c896b846abdc0d",
            "db37684a17bc4a49a575223d7d658c90",
            "8eea92533bfe443c96367b4965905a45",
            "9f75f7bdaee2457d87d8a0cf49e79f72",
            "196bf264ecaa40fbb798b9a848745b23",
            "73c6ca8551ef47a8824bcb25b530ae72",
            "2390c1d2953644bd8b314ed96f46a846",
            "72e5100ad85d45d0934f4ada921d27d9"
          ]
        },
        "id": "wRnmKofO6Lrr",
        "outputId": "22bb91f4-a9b1-4592-c831-4369f89fc690"
      },
      "execution_count": null,
      "outputs": [
        {
          "output_type": "display_data",
          "data": {
            "text/plain": [
              "Downloading readme:   0%|          | 0.00/658 [00:00<?, ?B/s]"
            ],
            "application/vnd.jupyter.widget-view+json": {
              "version_major": 2,
              "version_minor": 0,
              "model_id": "48d6b1c5ddb04984b16e6c6aaf5721da"
            }
          },
          "metadata": {}
        },
        {
          "output_type": "stream",
          "name": "stdout",
          "text": [
            "Downloading and preparing dataset None/None to /root/.cache/huggingface/datasets/zetavg___parquet/zetavg--wikipedia_random_page_summaries_zh_tw_10k-bf9678c22fef2612/0.0.0/2a3b91fbd88a2c90d1dbbb32b460cf621d31bd5b05b934492fdef7d8d6f236ec...\n"
          ]
        },
        {
          "output_type": "display_data",
          "data": {
            "text/plain": [
              "Downloading data files:   0%|          | 0/1 [00:00<?, ?it/s]"
            ],
            "application/vnd.jupyter.widget-view+json": {
              "version_major": 2,
              "version_minor": 0,
              "model_id": "0afa807d836b407790370d17f74bdb51"
            }
          },
          "metadata": {}
        },
        {
          "output_type": "display_data",
          "data": {
            "text/plain": [
              "Downloading data:   0%|          | 0.00/2.93M [00:00<?, ?B/s]"
            ],
            "application/vnd.jupyter.widget-view+json": {
              "version_major": 2,
              "version_minor": 0,
              "model_id": "47add7ce91d24354aa891bf96ae33deb"
            }
          },
          "metadata": {}
        },
        {
          "output_type": "display_data",
          "data": {
            "text/plain": [
              "Extracting data files:   0%|          | 0/1 [00:00<?, ?it/s]"
            ],
            "application/vnd.jupyter.widget-view+json": {
              "version_major": 2,
              "version_minor": 0,
              "model_id": "3acba380fec14d6c9b99d3a822fd8b78"
            }
          },
          "metadata": {}
        },
        {
          "output_type": "display_data",
          "data": {
            "text/plain": [
              "Generating train split:   0%|          | 0/9997 [00:00<?, ? examples/s]"
            ],
            "application/vnd.jupyter.widget-view+json": {
              "version_major": 2,
              "version_minor": 0,
              "model_id": "ef20d3e8ff044de6bc980c544093c4df"
            }
          },
          "metadata": {}
        },
        {
          "output_type": "stream",
          "name": "stdout",
          "text": [
            "Dataset parquet downloaded and prepared to /root/.cache/huggingface/datasets/zetavg___parquet/zetavg--wikipedia_random_page_summaries_zh_tw_10k-bf9678c22fef2612/0.0.0/2a3b91fbd88a2c90d1dbbb32b460cf621d31bd5b05b934492fdef7d8d6f236ec. Subsequent calls will reuse this data.\n"
          ]
        },
        {
          "output_type": "display_data",
          "data": {
            "text/plain": [
              "  0%|          | 0/1 [00:00<?, ?it/s]"
            ],
            "application/vnd.jupyter.widget-view+json": {
              "version_major": 2,
              "version_minor": 0,
              "model_id": "7d2d5cd60b414e438451f415907b663c"
            }
          },
          "metadata": {}
        },
        {
          "output_type": "stream",
          "name": "stdout",
          "text": [
            "Wikipedia data count:  9997\n",
            "[\n",
            "  \"TCI（The Children Investment Fund Management），是英國投資家 Chris Hohn 創立的對沖基金。\",\n",
            "  \"高元縣，中國舊縣名。\\n1958 年 5 月由高邑縣、元氏縣兩縣合併設置高元縣，治所在今河北省元氏縣槐陽鎮。同年 12 月高元縣撤銷，恢復高邑縣、元氏縣。\",\n",
            "  \"小行星 9649（英語：9649）是一顆圍繞太陽公轉的小行星。1995 年 12 月 2 日，小林隆男在大泉天文台發現了此天體。\\n這顆小行星的絕對星等為 326.1587678462532 等。\",\n",
            "  \"紀堯姆・伊曼紐爾・德霍曼 - 克里斯托（法語：Guillaume Emmanuel de Homem-Christo，法語發音：[ɡi manɥɛl də ɔmɛm kʁisto]，1974 年 2 月 8 日 —）或稱作蓋 - 馬努爾・德霍曼 - 克里斯托（法語：Guy-Manuel de Homem-Christo），是一名法國男音樂家、音樂製作人、歌手、詞曲作家、DJ、作曲家和導演，較著名的是和湯瑪斯・本高特共同組成的樂團傻瓜龐克，這使自己和其作品都獲得了廣大的知名度。他和埃里克・謝德維爾（Eric Chédeville）為唱片公司 Crydamoure 的共同創立者，且也和切德維爾組成了名為 Le Knight Club 的團體。\\n德霍曼 - 克里斯托擁有兩名孩子。\",\n",
            "  \"NGC 1026 是鯨魚座的一個星系。\",\n",
            "  \"蓖麻毒蛋白（英語：Ricin）是從蓖麻籽中所萃取出來的一種毒性蛋白質，幾乎對所有的真核細胞都具有殺傷作用。蓖麻毒蛋白的純品是一種白色粉末或結晶體，無味，可溶於稀酸或鹽類，不溶於苯、甲苯、乙醇、乙醚、三氯甲烷等有機溶劑，乾熱時具有良好的穩定性。蓖麻毒蛋白存在多種類型，如結晶型、B - 型、D 型、E 型、T3 型、G 型等，不同類型的蓖麻毒蛋白毒性不盡相同，其中以 D 型的毒性最大。\\n此種毒素對人類的平均致死量為 0.2 毫克，但也有一些文獻記載的劑量較高。蓖麻毒蛋白具有糖苷酶活性，作用於真核細胞的核糖體 RNA，使其降解，從而阻止蛋白質合成，導致細胞的死亡，進而對生物體造成傷害。研究顯示，8 顆蓖麻種子的毒素可對一名成人產生毒性。不過在已知紀錄中，因攝取植物種子而死亡的案例並不多見。自然界中還存在某些類似蓖麻毒的毒素，例如雞母珠中的雞母珠毒素（Abrin）。\",\n",
            "  \"亞洲金融風暴北京救港傳言，是一個主要在中國大陸及親中共群體流傳的傳言，該傳言指亞洲金融風暴期間，香港股市受到索羅斯為首的國際投機者狙擊，香港特區政府依靠中華人民共和國中央政府（通稱北京政府）幫助成功阻止索羅斯等的行動。但在香港，因對此事的廣泛認知是香港政府自行以外匯儲備穩定股票市場及聯繫匯率，當時主事之政府官員及主流傳媒均未有提及中國政府有實質、直接的協助，該傳言被質疑是虛假訊息。\",\n",
            "  \"楊樓站是一個隴海線上的鐵路車站，位於安徽省宿州市蕭縣楊樓鎮，建於 1915 年，目前為四等站，郵政編碼為 235221。目前客運：辦理旅客乘降；行李、包裹託運；貨運：辦理整車貨物發到；不辦理危險貨物發到。\",\n",
            "  \"紅領巾水庫是中國河北省石家莊市行唐縣境內的一座水庫，位於大清河系沙河上，建於 1958 年。水庫正常庫容為 2120 萬立方米，集雨面積為 73 平方千米，海拔為 167 米。\",\n",
            "  \"噬母（英語：Matriphagy）是生物體食用自己母體或母體局部的一種現象。這種現象經常會在蜘蛛身上出現。目前已知的四萬多種蜘蛛中，噬母行為主要見於以下幾類：管巢蛛科紅螯蛛屬、隆頭蛛科穹蛛屬、暗蛛科暗蛛屬和蟹蛛科狩蛛屬。除此之外，在一些蚓螈目動物中，也發現了這種現象。這些蚓螈目動物的幼體在出生後會啃食母體的皮膚來獲取營養，不過由於皮膚可以更新，所以這種噬母行為不會導致母體死亡。而蜘蛛往往是將活著的母體全部吃下。\"\n",
            "]\n"
          ]
        }
      ]
    },
    {
      "cell_type": "code",
      "source": [
        "# @markdown Load vocab from moedict.\n",
        "\n",
        "import requests\n",
        "import json\n",
        "import pandas as pd\n",
        "from google.colab import data_table\n",
        "data_table.enable_dataframe_formatter()\n",
        "\n",
        "moedict_data_cat_response = requests.get(\n",
        "    \"https://raw.githubusercontent.com/g0v/moedict-data/master/dict-cat.json\")\n",
        "moedict_data_cat = json.loads(moedict_data_cat_response.text)\n",
        "# @markdown Display a table of categories and their sample entries.\n",
        "cat_and_sample_entries = [\n",
        "    {\n",
        "        'name': cat['name'],\n",
        "     'entries_count': len(cat['entries']),\n",
        "        'sample_entries': (\", \").join(cat['entries'][:10]),\n",
        "    } for cat in moedict_data_cat]\n",
        "display(\n",
        "    pd.DataFrame.from_dict(cat_and_sample_entries, orient='columns'))"
      ],
      "metadata": {
        "colab": {
          "base_uri": "https://localhost:8080/",
          "height": 1001
        },
        "id": "B-HOQnZh9Kl2",
        "outputId": "be2590b2-77aa-4b10-d3fa-e076dec43172"
      },
      "execution_count": null,
      "outputs": [
        {
          "output_type": "display_data",
          "data": {
            "text/plain": [
              "    name  entries_count                                     sample_entries\n",
              "0     成語           3008  八千里路雲和月, 八子七婿, 拔本塞原, 拔茅連茹, 拔來報往, 拔葵去織, 拔薤, 拔幟易...\n",
              "1     諺語            891  八輩兒五沒根基, 八竿子打不著, 八棍子撂不著, 拔了蘿蔔地皮寬, 撥火又長，拄門又短, 鵓...\n",
              "2    歇後語            323  八仙桌上擺夜壺, 八十年不下雨, 八十歲學吹鼓手, 被窩裡放屁, 包黑臉斷案子, 斑鳩跌彈,...\n",
              "3     音譯            484           扒魯, 巴, 巴波亞, 巴力門, 巴剎, 巴士, 巴茲卡, 巴爾, 吧, 芭蕾舞\n",
              "4     義譯            112  白皮書, 白領, 白領階級, 筆記型電腦, 配接卡, 魔術數字, 模擬器, 媒體, 免費軟體...\n",
              "..   ...            ...                                                ...\n",
              "61  股票術語             96       拔檔, 寶塔線, 本利比, 本益比, 崩盤, 丙種經紀人, 補空, 盤面, 盤整, 騙線\n",
              "62  大陸用語            633          芭賽, 把口, 把場, 撥改貸, 掰了, 白班, 白條, 白案, 白衣教練, 白煙\n",
              "63    量詞            434                      巴, 巴爾, 撥, 波, 杯, 盃, 倍, 輩, 包, 抱\n",
              "64    節氣             34            八節, 白露, 芒種, 大寒, 大雪, 大暑, 冬至, 太陰曆, 農曆, 立冬\n",
              "65    節日             29  美術節, 佛誕節, 佛誕日, 逢年過節, 逢時按節, 逢時遇節, 復活節, 端午節, 年節,...\n",
              "\n",
              "[66 rows x 3 columns]"
            ],
            "text/html": [
              "\n",
              "  <div id=\"df-40897ee2-c7c1-4ff4-b0ce-b524ed73395b\">\n",
              "    <div class=\"colab-df-container\">\n",
              "      <div>\n",
              "<style scoped>\n",
              "    .dataframe tbody tr th:only-of-type {\n",
              "        vertical-align: middle;\n",
              "    }\n",
              "\n",
              "    .dataframe tbody tr th {\n",
              "        vertical-align: top;\n",
              "    }\n",
              "\n",
              "    .dataframe thead th {\n",
              "        text-align: right;\n",
              "    }\n",
              "</style>\n",
              "<table border=\"1\" class=\"dataframe\">\n",
              "  <thead>\n",
              "    <tr style=\"text-align: right;\">\n",
              "      <th></th>\n",
              "      <th>name</th>\n",
              "      <th>entries_count</th>\n",
              "      <th>sample_entries</th>\n",
              "    </tr>\n",
              "  </thead>\n",
              "  <tbody>\n",
              "    <tr>\n",
              "      <th>0</th>\n",
              "      <td>成語</td>\n",
              "      <td>3008</td>\n",
              "      <td>八千里路雲和月, 八子七婿, 拔本塞原, 拔茅連茹, 拔來報往, 拔葵去織, 拔薤, 拔幟易...</td>\n",
              "    </tr>\n",
              "    <tr>\n",
              "      <th>1</th>\n",
              "      <td>諺語</td>\n",
              "      <td>891</td>\n",
              "      <td>八輩兒五沒根基, 八竿子打不著, 八棍子撂不著, 拔了蘿蔔地皮寬, 撥火又長，拄門又短, 鵓...</td>\n",
              "    </tr>\n",
              "    <tr>\n",
              "      <th>2</th>\n",
              "      <td>歇後語</td>\n",
              "      <td>323</td>\n",
              "      <td>八仙桌上擺夜壺, 八十年不下雨, 八十歲學吹鼓手, 被窩裡放屁, 包黑臉斷案子, 斑鳩跌彈,...</td>\n",
              "    </tr>\n",
              "    <tr>\n",
              "      <th>3</th>\n",
              "      <td>音譯</td>\n",
              "      <td>484</td>\n",
              "      <td>扒魯, 巴, 巴波亞, 巴力門, 巴剎, 巴士, 巴茲卡, 巴爾, 吧, 芭蕾舞</td>\n",
              "    </tr>\n",
              "    <tr>\n",
              "      <th>4</th>\n",
              "      <td>義譯</td>\n",
              "      <td>112</td>\n",
              "      <td>白皮書, 白領, 白領階級, 筆記型電腦, 配接卡, 魔術數字, 模擬器, 媒體, 免費軟體...</td>\n",
              "    </tr>\n",
              "    <tr>\n",
              "      <th>...</th>\n",
              "      <td>...</td>\n",
              "      <td>...</td>\n",
              "      <td>...</td>\n",
              "    </tr>\n",
              "    <tr>\n",
              "      <th>61</th>\n",
              "      <td>股票術語</td>\n",
              "      <td>96</td>\n",
              "      <td>拔檔, 寶塔線, 本利比, 本益比, 崩盤, 丙種經紀人, 補空, 盤面, 盤整, 騙線</td>\n",
              "    </tr>\n",
              "    <tr>\n",
              "      <th>62</th>\n",
              "      <td>大陸用語</td>\n",
              "      <td>633</td>\n",
              "      <td>芭賽, 把口, 把場, 撥改貸, 掰了, 白班, 白條, 白案, 白衣教練, 白煙</td>\n",
              "    </tr>\n",
              "    <tr>\n",
              "      <th>63</th>\n",
              "      <td>量詞</td>\n",
              "      <td>434</td>\n",
              "      <td>巴, 巴爾, 撥, 波, 杯, 盃, 倍, 輩, 包, 抱</td>\n",
              "    </tr>\n",
              "    <tr>\n",
              "      <th>64</th>\n",
              "      <td>節氣</td>\n",
              "      <td>34</td>\n",
              "      <td>八節, 白露, 芒種, 大寒, 大雪, 大暑, 冬至, 太陰曆, 農曆, 立冬</td>\n",
              "    </tr>\n",
              "    <tr>\n",
              "      <th>65</th>\n",
              "      <td>節日</td>\n",
              "      <td>29</td>\n",
              "      <td>美術節, 佛誕節, 佛誕日, 逢年過節, 逢時按節, 逢時遇節, 復活節, 端午節, 年節,...</td>\n",
              "    </tr>\n",
              "  </tbody>\n",
              "</table>\n",
              "<p>66 rows × 3 columns</p>\n",
              "</div>\n",
              "      <button class=\"colab-df-convert\" onclick=\"convertToInteractive('df-40897ee2-c7c1-4ff4-b0ce-b524ed73395b')\"\n",
              "              title=\"Convert this dataframe to an interactive table.\"\n",
              "              style=\"display:none;\">\n",
              "        \n",
              "  <svg xmlns=\"http://www.w3.org/2000/svg\" height=\"24px\"viewBox=\"0 0 24 24\"\n",
              "       width=\"24px\">\n",
              "    <path d=\"M0 0h24v24H0V0z\" fill=\"none\"/>\n",
              "    <path d=\"M18.56 5.44l.94 2.06.94-2.06 2.06-.94-2.06-.94-.94-2.06-.94 2.06-2.06.94zm-11 1L8.5 8.5l.94-2.06 2.06-.94-2.06-.94L8.5 2.5l-.94 2.06-2.06.94zm10 10l.94 2.06.94-2.06 2.06-.94-2.06-.94-.94-2.06-.94 2.06-2.06.94z\"/><path d=\"M17.41 7.96l-1.37-1.37c-.4-.4-.92-.59-1.43-.59-.52 0-1.04.2-1.43.59L10.3 9.45l-7.72 7.72c-.78.78-.78 2.05 0 2.83L4 21.41c.39.39.9.59 1.41.59.51 0 1.02-.2 1.41-.59l7.78-7.78 2.81-2.81c.8-.78.8-2.07 0-2.86zM5.41 20L4 18.59l7.72-7.72 1.47 1.35L5.41 20z\"/>\n",
              "  </svg>\n",
              "      </button>\n",
              "      \n",
              "  <style>\n",
              "    .colab-df-container {\n",
              "      display:flex;\n",
              "      flex-wrap:wrap;\n",
              "      gap: 12px;\n",
              "    }\n",
              "\n",
              "    .colab-df-convert {\n",
              "      background-color: #E8F0FE;\n",
              "      border: none;\n",
              "      border-radius: 50%;\n",
              "      cursor: pointer;\n",
              "      display: none;\n",
              "      fill: #1967D2;\n",
              "      height: 32px;\n",
              "      padding: 0 0 0 0;\n",
              "      width: 32px;\n",
              "    }\n",
              "\n",
              "    .colab-df-convert:hover {\n",
              "      background-color: #E2EBFA;\n",
              "      box-shadow: 0px 1px 2px rgba(60, 64, 67, 0.3), 0px 1px 3px 1px rgba(60, 64, 67, 0.15);\n",
              "      fill: #174EA6;\n",
              "    }\n",
              "\n",
              "    [theme=dark] .colab-df-convert {\n",
              "      background-color: #3B4455;\n",
              "      fill: #D2E3FC;\n",
              "    }\n",
              "\n",
              "    [theme=dark] .colab-df-convert:hover {\n",
              "      background-color: #434B5C;\n",
              "      box-shadow: 0px 1px 3px 1px rgba(0, 0, 0, 0.15);\n",
              "      filter: drop-shadow(0px 1px 2px rgba(0, 0, 0, 0.3));\n",
              "      fill: #FFFFFF;\n",
              "    }\n",
              "  </style>\n",
              "\n",
              "      <script>\n",
              "        const buttonEl =\n",
              "          document.querySelector('#df-40897ee2-c7c1-4ff4-b0ce-b524ed73395b button.colab-df-convert');\n",
              "        buttonEl.style.display =\n",
              "          google.colab.kernel.accessAllowed ? 'block' : 'none';\n",
              "\n",
              "        async function convertToInteractive(key) {\n",
              "          const element = document.querySelector('#df-40897ee2-c7c1-4ff4-b0ce-b524ed73395b');\n",
              "          const dataTable =\n",
              "            await google.colab.kernel.invokeFunction('convertToInteractive',\n",
              "                                                     [key], {});\n",
              "          if (!dataTable) return;\n",
              "\n",
              "          const docLinkHtml = 'Like what you see? Visit the ' +\n",
              "            '<a target=\"_blank\" href=https://colab.research.google.com/notebooks/data_table.ipynb>data table notebook</a>'\n",
              "            + ' to learn more about interactive tables.';\n",
              "          element.innerHTML = '';\n",
              "          dataTable['output_type'] = 'display_data';\n",
              "          await google.colab.output.renderOutput(dataTable, element);\n",
              "          const docLink = document.createElement('div');\n",
              "          docLink.innerHTML = docLinkHtml;\n",
              "          element.appendChild(docLink);\n",
              "        }\n",
              "      </script>\n",
              "    </div>\n",
              "  </div>\n",
              "  "
            ],
            "application/vnd.google.colaboratory.module+javascript": "\n      import \"https://ssl.gstatic.com/colaboratory/data_table/99dac6621f6ae8c4/data_table.js\";\n\n      window.createDataTable({\n        data: [[{\n            'v': 0,\n            'f': \"0\",\n        },\n\"\\u6210\\u8a9e\",\n{\n            'v': 3008,\n            'f': \"3008\",\n        },\n\"\\u516b\\u5343\\u91cc\\u8def\\u96f2\\u548c\\u6708, \\u516b\\u5b50\\u4e03\\u5a7f, \\u62d4\\u672c\\u585e\\u539f, \\u62d4\\u8305\\u9023\\u8339, \\u62d4\\u4f86\\u5831\\u5f80, \\u62d4\\u8475\\u53bb\\u7e54, \\u62d4\\u85a4, \\u62d4\\u5e5f\\u6613\\u5e5f, \\u62d4\\u5c71\\u84cb\\u4e16, \\u62d4\\u5c71\\u625b\\u9f0e\"],\n [{\n            'v': 1,\n            'f': \"1\",\n        },\n\"\\u8afa\\u8a9e\",\n{\n            'v': 891,\n            'f': \"891\",\n        },\n\"\\u516b\\u8f29\\u5152\\u4e94\\u6c92\\u6839\\u57fa, \\u516b\\u7aff\\u5b50\\u6253\\u4e0d\\u8457, \\u516b\\u68cd\\u5b50\\u6482\\u4e0d\\u8457, \\u62d4\\u4e86\\u863f\\u8514\\u5730\\u76ae\\u5bec, \\u64a5\\u706b\\u53c8\\u9577\\uff0c\\u62c4\\u9580\\u53c8\\u77ed, \\u9d53\\u9d3f\\u63c0\\u8457\\u65fa\\u8655\\u98db, \\u9d53\\u9d3f\\u5b50\\u65fa\\u908a\\u98db, \\u767d\\u5200\\u5b50\\u9032\\u53bb\\uff0c\\u7d05\\u5200\\u5b50\\u51fa\\u4f86, \\u767d\\u5929\\u4e0d\\u505a\\u8667\\u5fc3\\u4e8b\\uff0c\\u534a\\u591c\\u4e0d\\u6015\\u9b3c\\u6572\\u9580, \\u767e\\u8db3\\u4e0d\\u50f5\"],\n [{\n            'v': 2,\n            'f': \"2\",\n        },\n\"\\u6b47\\u5f8c\\u8a9e\",\n{\n            'v': 323,\n            'f': \"323\",\n        },\n\"\\u516b\\u4ed9\\u684c\\u4e0a\\u64fa\\u591c\\u58fa, \\u516b\\u5341\\u5e74\\u4e0d\\u4e0b\\u96e8, \\u516b\\u5341\\u6b72\\u5b78\\u5439\\u9f13\\u624b, \\u88ab\\u7aa9\\u88e1\\u653e\\u5c41, \\u5305\\u9ed1\\u81c9\\u65b7\\u6848\\u5b50, \\u6591\\u9ce9\\u8dcc\\u5f48, \\u534a\\u9053\\u5152\\u8a8d\\u59d0\\u59d0, \\u534a\\u7a7a\\u88e1\\u7ffb\\u89d4\\u6597, \\u534a\\u591c\\u88e1\\u53eb\\u57ce\\u9580, \\u9f3b\\u5b50\\u4e0a\\u639b\\u9bd7\\u9b5a\"],\n [{\n            'v': 3,\n            'f': \"3\",\n        },\n\"\\u97f3\\u8b6f\",\n{\n            'v': 484,\n            'f': \"484\",\n        },\n\"\\u6252\\u9b6f, \\u5df4, \\u5df4\\u6ce2\\u4e9e, \\u5df4\\u529b\\u9580, \\u5df4\\u524e, \\u5df4\\u58eb, \\u5df4\\u8332\\u5361, \\u5df4\\u723e, \\u5427, \\u82ad\\u857e\\u821e\"],\n [{\n            'v': 4,\n            'f': \"4\",\n        },\n\"\\u7fa9\\u8b6f\",\n{\n            'v': 112,\n            'f': \"112\",\n        },\n\"\\u767d\\u76ae\\u66f8, \\u767d\\u9818, \\u767d\\u9818\\u968e\\u7d1a, \\u7b46\\u8a18\\u578b\\u96fb\\u8166, \\u914d\\u63a5\\u5361, \\u9b54\\u8853\\u6578\\u5b57, \\u6a21\\u64ec\\u5668, \\u5a92\\u9ad4, \\u514d\\u8cbb\\u8edf\\u9ad4, \\u767c\\u52d5\\u6a5f\"],\n [{\n            'v': 5,\n            'f': \"5\",\n        },\n\"\\u97f3\\u7fa9\\u5408\\u8b6f\",\n{\n            'v': 46,\n            'f': \"46\",\n        },\n\"\\u8584\\u4f3d\\u68b5, \\u767d\\u812b\\u6cb9, \\u51b0\\u6dc7\\u6dcb, \\u99ac\\u5fb7\\u5821\\u534a\\u7403, \\u7c73\\u8001\\u9f20, \\u6cd5\\u862d\\u7d68, \\u6cd5\\u90ce, \\u83f2\\u5217\\u725b\\u6392, \\u83f2\\u6d1b\\u666e\\u74b0, \\u9053\\u6797\\u7d19\"],\n [{\n            'v': 6,\n            'f': \"6\",\n        },\n\"\\u7121\\u6cd5\\u8003\\u8b49\\u8005\",\n{\n            'v': 67,\n            'f': \"67\",\n        },\n\"\\u516b\\u90fd\\u9b6f, \\u516b\\u90fd\\u5152, \\u5df4\\u90fd\\u5152, \\u5df4\\u5716\\u9b6f, \\u5df4\\u5716\\u9b6f\\u574e\\u80a9, \\u5df4\\u5716\\u723e, \\u62d4\\u90fd, \\u62d4\\u90fd\\u9b6f, \\u62d4\\u7779\\u5152, \\u62d4\\u7a81\"],\n [{\n            'v': 7,\n            'f': \"7\",\n        },\n\"\\u570b\\u540d\",\n{\n            'v': 519,\n            'f': \"519\",\n        },\n\"\\u5df4, \\u5df4\\u8c9d\\u591a, \\u5df4\\u6bd4\\u502b, \\u5df4\\u5e03\\u4e9e\\u7d10\\u5e7e\\u5167\\u4e9e, \\u5df4\\u62ff\\u99ac, \\u5df4\\u62ff\\u99ac\\u5171\\u548c\\u570b, \\u5df4\\u62c9\\u572d, \\u5df4\\u62c9\\u572d\\u5171\\u548c\\u570b, \\u5df4\\u6797, \\u5df4\\u54c8\\u99ac\"],\n [{\n            'v': 8,\n            'f': \"8\",\n        },\n\"\\u671d\\u4ee3\\u540d\",\n{\n            'v': 87,\n            'f': \"87\",\n        },\n\"\\u6ce2\\u65c1\\u738b\\u671d, \\u5317\\u6dbc, \\u5317\\u6f22, \\u5317\\u9f4a, \\u5317\\u5468, \\u5317\\u5b8b, \\u5317\\u71d5, \\u95a9, \\u660e, \\u660e\\u671d\"],\n [{\n            'v': 9,\n            'f': \"9\",\n        },\n\"\\u4eba\\u540d\",\n{\n            'v': 2182,\n            'f': \"2182\",\n        },\n\"\\u516b\\u601d\\u5df4, \\u5df4\\u6ce2\\u4e9e, \\u5df4\\u8c9d\\u57fa, \\u5df4\\u7c73\\u52a0\\u5c3c\\u8afe, \\u5df4\\u592b\\u6d1b\\u592b, \\u5df4\\u591a\\u5c3c, \\u5df4\\u9813, \\u5df4\\u52d2\\u7279, \\u5df4\\u52d2\\u7dad, \\u5df4\\u96f7\\u5229\"],\n [{\n            'v': 10,\n            'f': \"10\",\n        },\n\"\\u5e1d\\u865f\",\n{\n            'v': 78,\n            'f': \"78\",\n        },\n\"\\u5317\\u9b4f\\u5b5d\\u6587\\u5e1d, \\u660e\\u592a\\u7956, \\u660e\\u6cbb\\u5929\\u7687, \\u592a\\u660a, \\u592a\\u769e, \\u5510\\u660e\\u7687, \\u5510\\u592a\\u5b97, \\u5510\\u9ad8\\u7956, \\u5510\\u7384\\u5b97, \\u5510\\u582f\"],\n [{\n            'v': 11,\n            'f': \"11\",\n        },\n\"\\u661f\\u540d\",\n{\n            'v': 118,\n            'f': \"118\",\n        },\n\"\\u4f2f\\u6a02, \\u767d\\u864e, \\u5317\\u6975\\u661f, \\u5b5b, \\u7562\\u62c9\\u5f57\\u661f, \\u7562\\u5bbf, \\u99ac\\u7956, \\u8108\\u52d5\\u661f, \\u65c4\\u982d, \\u9ae6\\u982d\"],\n [{\n            'v': 12,\n            'f': \"12\",\n        },\n\"\\u661f\\u5ea7\\u540d\",\n{\n            'v': 89,\n            'f': \"89\",\n        },\n\"\\u767d\\u7f8a\\u5bae, \\u767d\\u7f8a\\u5ea7, \\u5317\\u5195\\u5ea7, \\u5317\\u6597, \\u5317\\u6597\\u4e03\\u661f, \\u5bf6\\u74f6\\u5ea7, \\u5bf6\\u5a7a, \\u534a\\u4eba\\u99ac\\u661f\\u5ea7, \\u7562, \\u58c1\"],\n [{\n            'v': 13,\n            'f': \"13\",\n        },\n\"\\u8853\\u6578\\u7528\\u8a9e\",\n{\n            'v': 64,\n            'f': \"64\",\n        },\n\"\\u516b\\u6557\\u547d, \\u516b\\u9580, \\u516b\\u5c08, \\u99c1\\u96dc, \\u6557\\u8ca1, \\u547d\\u9580, \\u547d\\u5e36\\u6843\\u82b1, \\u547d\\u5bae, \\u7267\\u990a\\u7d0d\\u755c, \\u53cd\\u9670\\u5fa9\\u9670\"],\n [{\n            'v': 14,\n            'f': \"14\",\n        },\n\"\\u66f8\\u540d\",\n{\n            'v': 774,\n            'f': \"774\",\n        },\n\"\\u516b\\u9762\\u92d2, \\u516b\\u5bb6\\u56db\\u516d\\u6587\\u9214, \\u822c\\u82e5\\u6ce2\\u7f85\\u871c\\u591a\\u5fc3\\u7d93, \\u535a\\u53e4\\u5716\\u9304, \\u535a\\u5b78\\u7bc7, \\u535a\\u96c5, \\u535a\\u7269\\u5fd7, \\u767d\\u5b54\\u516d\\u5e16, \\u767d\\u864e\\u901a\\u7fa9, \\u767d\\u9be8\\u8a18\"],\n [{\n            'v': 15,\n            'f': \"15\",\n        },\n\"\\u66f8\\u9ad4\\u540d\",\n{\n            'v': 25,\n            'f': \"25\",\n        },\n\"\\u516b\\u5206, \\u516b\\u5206\\u66f8, \\u64d8\\u7aa0\\u66f8, \\u699c\\u66f8, \\u7253\\u66f8, \\u5206\\u66f8, \\u5927\\u7bc6, \\u96d5\\u87f2\\u7bc6, \\u9ce5\\u87f2\\u66f8, \\u96b8\\u66f8\"],\n [{\n            'v': 16,\n            'f': \"16\",\n        },\n\"\\u6587\\u7ae0\\u540d\",\n{\n            'v': 50,\n            'f': \"50\",\n        },\n\"\\u5317\\u7891\\u5357\\u5e16\\u8ad6, \\u5317\\u5c71\\u79fb\\u6587, \\u5831\\u4efb\\u5b89\\u66f8, \\u7b46\\u8ad6, \\u5225\\u8ce6, \\u670b\\u9ee8\\u8ad6, \\u6ed5\\u738b\\u95a3\\u5e8f, \\u964b\\u5ba4\\u9298, \\u862d\\u4ead\\u96c6\\u5e8f, \\u7559\\u4faf\\u8ad6\"],\n [{\n            'v': 17,\n            'f': \"17\",\n        },\n\"\\u6587\\u9ad4\\u540d\",\n{\n            'v': 68,\n            'f': \"68\",\n        },\n\"\\u516b\\u80a1\\u6587, \\u8dcb, \\u7891, \\u8868\\u8a18, \\u8fa8, \\u8faf, \\u99e2, \\u99e2\\u9ad4\\u6587, \\u99e2\\u6587, \\u8a55\"],\n [{\n            'v': 18,\n            'f': \"18\",\n        },\n\"\\u6566\\u714c\\u8b8a\\u6587\\u540d\",\n{\n            'v': 2,\n            'f': \"2\",\n        },\n\"\\u5510\\u592a\\u5b97\\u5165\\u51a5\\u8a18, \\u97d3\\u670b\\u8ce6\"],\n [{\n            'v': 19,\n            'f': \"19\",\n        },\n\"\\u8a69\\u540d\",\n{\n            'v': 48,\n            'f': \"48\",\n        },\n\"\\u516b\\u9663\\u5716, \\u6cca\\u79e6\\u6dee, \\u767e\\u4e00\\u8a69, \\u60b2\\u61a4\\u8a69, \\u5317\\u671b, \\u8c9d\\u5967\\u6b66\\u592b, \\u5175\\u8eca\\u884c, \\u7435\\u7436\\u884c, \\u99ac\\u5d6c\\u5761, \\u9ea5\\u79c0\\u6b4c\"],\n [{\n            'v': 20,\n            'f': \"20\",\n        },\n\"\\u8a5e\\u724c\\u540d\",\n{\n            'v': 32,\n            'f': \"32\",\n        },\n\"\\u6b65\\u6708, \\u5a46\\u7f85\\u9580, \\u7834\\u9663\\u6a02, \\u6eff\\u5ead\\u82b3, \\u6eff\\u6c5f\\u7d05, \\u5927\\u917a, \\u8e0f\\u6708, \\u6d6a\\u6dd8\\u6c99, \\u843d\\u6885\\u98a8, \\u9ad8\\u5c71\\u6d41\\u6c34\"],\n [{\n            'v': 21,\n            'f': \"21\",\n        },\n\"\\u66f2\\u724c\\u540d\",\n{\n            'v': 25,\n            'f': \"25\",\n        },\n\"\\u6eff\\u5ead\\u82b3, \\u98a8\\u5165\\u677e, \\u9b25\\u9d6a\\u9d89, \\u6d6a\\u6dd8\\u6c99, \\u516d\\u4e48, \\u5feb\\u6d3b\\u4e09, \\u4f55\\u6eff\\u5b50, \\u5f8c\\u5ead\\u82b1, \\u6025\\u4e09\\u69cd, \\u7bc0\\u7bc0\\u9ad8\"],\n [{\n            'v': 22,\n            'f': \"22\",\n        },\n\"\\u6a02\\u66f2\\u540d\",\n{\n            'v': 90,\n            'f': \"90\",\n        },\n\"\\u516b\\u99ff\\u99ac, \\u9738\\u738b\\u5378\\u7532, \\u4f2f\\u76ca, \\u52c3\\u9732\\u65af, \\u767d\\u982d\\u541f, \\u767d\\u96ea, \\u767d\\u96ea\\u6b4c, \\u767d\\u96ea\\u66f2, \\u767d\\u96ea\\u967d\\u6625, \\u767d\\u7d35\\u6b4c\"],\n [{\n            'v': 23,\n            'f': \"23\",\n        },\n\"\\u6a02\\u5668\\u540d\",\n{\n            'v': 241,\n            'f': \"241\",\n        },\n\"\\u516b\\u89d2\\u9f13, \\u516b\\u97f3\\u76d2, \\u516b\\u97f3\\u7434, \\u516b\\u97f3\\u5323, \\u5df4\\u62c9\\u62c9\\u5361\\u7434, \\u5df4\\u6717\\u5b5c\\u95ca\\u6728, \\u5df4\\u70cf, \\u9238, \\u4f2f\\u58ce\\u4ef2\\u7bea, \\u640f\\u62ca\"],\n [{\n            'v': 24,\n            'f': \"24\",\n        },\n\"\\u6232\\u5287\\u66f2\\u85dd\",\n{\n            'v': 205,\n            'f': \"205\",\n        },\n\"\\u516b\\u5927\\u9318, \\u5df4\\u99f1\\u548c, \\u9738\\u738b\\u5225\\u59ec, \\u535a\\u671b\\u5761, \\u767d\\u99ac\\u5761, \\u767d\\u9580\\u6a13, \\u767d\\u86c7\\u50b3, \\u767d\\u6c34\\u7058, \\u5bf6\\u84ee\\u71c8, \\u68d2\\u6253\\u8584\\u60c5\\u90ce\"],\n [{\n            'v': 25,\n            'f': \"25\",\n        },\n\"\\u96dc\\u5287\",\n{\n            'v': 26,\n            'f': \"26\",\n        },\n\"\\u516b\\u4ed9\\u904e\\u6d77, \\u62dc\\u6708\\u4ead, \\u4e0d\\u4f0f\\u8001, \\u7ac7\\u5a25\\u51a4, \\u8abf\\u98a8\\u6708, \\u5357\\u897f\\u5ec2, \\u67f3\\u6bc5\\u50b3\\u66f8, \\u5169\\u4e16\\u59fb\\u7de3, \\u9b6f\\u9f4b\\u90ce, \\u6f22\\u5bae\\u79cb\"],\n [{\n            'v': 26,\n            'f': \"26\",\n        },\n\"\\u50b3\\u5947\",\n{\n            'v': 36,\n            'f': \"36\",\n        },\n\"\\u767d\\u5154\\u8a18, \\u62dc\\u6708\\u4ead, \\u7435\\u7436\\u8a18, \\u7261\\u4e39\\u4ead, \\u6843\\u82b1\\u6247, \\u5357\\u67ef\\u5922, \\u96e2\\u9b42\\u8a18, \\u5289\\u77e5\\u9060, \\u67f3\\u6bc5\\u50b3, \\u90af\\u9132\\u5922\"],\n [{\n            'v': 27,\n            'f': \"27\",\n        },\n\"\\u5730\\u540d\",\n{\n            'v': 655,\n            'f': \"655\",\n        },\n\"\\u516b\\u5e61, \\u516b\\u5fb7, \\u516b\\u5fb7\\u5e02, \\u516b\\u6597\\u5b50, \\u516b\\u91cc, \\u5df4\\u7c73\\u63da, \\u5df4\\u9054\\u6851, \\u5df4\\u6771, \\u5df4\\u5854\\u54e5\\u5c3c\\u4e9e\\u9ad8\\u539f, \\u5df4\\u62ff\\u99ac\\u5730\\u5cfd\"],\n [{\n            'v': 28,\n            'f': \"28\",\n        },\n\"\\u5dde\\u540d\",\n{\n            'v': 49,\n            'f': \"49\",\n        },\n\"\\u5317\\u9054\\u79d1\\u4ed6\\u5dde, \\u5317\\u5361\\u7f85\\u840a\\u7d0d\\u5dde, \\u4fdd\\u5b89, \\u8cd3\\u5915\\u6cd5\\u5c3c\\u4e9e\\u5dde, \\u6ab3\\u6994\\u5dbc, \\u7c73\\u862d, \\u5bc6\\u897f\\u6839\\u5dde, \\u5bc6\\u897f\\u897f\\u6bd4\\u5dde, \\u5bc6\\u8607\\u91cc\\u5dde, \\u4f5b\\u8499\\u7279\\u5dde\"],\n [{\n            'v': 29,\n            'f': \"29\",\n        },\n\"\\u7701\\u540d\",\n{\n            'v': 48,\n            'f': \"48\",\n        },\n\"\\u798f\\u5efa\\u7701, \\u81fa\\u7063\\u7701, \\u5ae9\\u6c5f, \\u5ae9\\u6c5f\\u7701, \\u5be7\\u590f, \\u5be7\\u590f\\u7701, \\u907c\\u5317\\u7701, \\u907c\\u5be7\\u7701, \\u6d1b\\u6797, \\u7518\\u8085\\u7701\"],\n [{\n            'v': 30,\n            'f': \"30\",\n        },\n\"\\u57ce\\u5e02\\u540d\",\n{\n            'v': 391,\n            'f': \"391\",\n        },\n\"\\u516b\\u83ab, \\u5df4\\u8c9d\\u514b, \\u5df4\\u6bd4\\u502b, \\u5df4\\u7279\\u90a3, \\u5df4\\u7d71, \\u5df4\\u62ff\\u99ac, \\u5df4\\u62ff\\u99ac\\u5e02, \\u5df4\\u62c9\\u99ac\\u5229\\u6ce2\\u5e02, \\u5df4\\u52d2\\u6469, \\u5df4\\u9ece\"],\n [{\n            'v': 31,\n            'f': \"31\",\n        },\n\"\\u7e23\\u540d\",\n{\n            'v': 387,\n            'f': \"387\",\n        },\n\"\\u5df4\\u6771, \\u5df4\\u6771\\u7e23, \\u5df4\\u4e18, \\u5df4\\u7e23, \\u5df4\\u695a\\u7e23, \\u5df4\\u5c71, \\u5df4\\u5c71\\u7e23, \\u5df4\\u5b89\\u7e23, \\u9738\\u9675\\u7e23, \\u9738\\u7e23\"],\n [{\n            'v': 32,\n            'f': \"32\",\n        },\n\"\\u9109\\u93ae\\u540d\",\n{\n            'v': 94,\n            'f': \"94\",\n        },\n\"\\u767d\\u6c99, \\u767d\\u6c99\\u9109, \\u5351\\u5357\\u9109, \\u5317\\u57d4\\u9109, \\u5317\\u6597\\u93ae, \\u5317\\u6e2f\\u93ae, \\u8912\\u5fe0\\u9109, \\u5e03\\u888b, \\u5e03\\u888b\\u93ae, \\u5f6d\\u57ce\"],\n [{\n            'v': 33,\n            'f': \"33\",\n        },\n\"\\u90e1\\u540d\",\n{\n            'v': 25,\n            'f': \"25\",\n        },\n\"\\u5df4\\u6771, \\u5df4\\u9675, \\u5df4\\u9675\\u90e1, \\u6e24\\u6d77, \\u6a02\\u6d6a, \\u862d\\u9675, \\u7405\\u90aa, \\u746f\\u740a, \\u907c\\u6771, \\u907c\\u897f\"],\n [{\n            'v': 34,\n            'f': \"34\",\n        },\n\"\\u5cf6\\u540d\",\n{\n            'v': 73,\n            'f': \"73\",\n        },\n\"\\u5df4\\u82ac\\u5cf6, \\u5df4\\u91cc\\u5cf6, \\u6ce2\\u591a\\u9ece\\u5404, \\u6ce2\\u7d0d\\u723e, \\u767d\\u6c99\\u5cf6, \\u5317\\u5cf6, \\u5317\\u6d77\\u9053, \\u5317\\u6240\\u7f85\\u9580, \\u73ed\\u514b\\u65af\\u5cf6, \\u73ed\\u827e\\u5cf6\"],\n [{\n            'v': 35,\n            'f': \"35\",\n        },\n\"\\u534a\\u5cf6\\u540d\",\n{\n            'v': 29,\n            'f': \"29\",\n        },\n\"\\u5df4\\u4e39\\u534a\\u5cf6, \\u5df4\\u723e\\u5e79\\u534a\\u5cf6, \\u4f2f\\u7f85\\u5954\\u5c3c\\u6492\\u534a\\u5cf6, \\u99ac\\u4f86, \\u99ac\\u4f86\\u534a\\u5cf6, \\u62c9\\u5e03\\u62c9\\u591a\\u534a\\u5cf6, \\u96f7\\u5dde\\u534a\\u5cf6, \\u907c\\u6771\\u534a\\u5cf6, \\u514b\\u91cc\\u7c73\\u4e9e\\u534a\\u5cf6, \\u582a\\u5bdf\\u52a0\\u534a\\u5cf6\"],\n [{\n            'v': 36,\n            'f': \"36\",\n        },\n\"\\u7fa4\\u5cf6\\u540d\",\n{\n            'v': 47,\n            'f': \"47\",\n        },\n\"\\u5df4\\u54c8\\u99ac\\u7fa4\\u5cf6, \\u6ce2\\u91cc\\u5c3c\\u897f\\u4e9e, \\u767e\\u6155\\u9054\\u7fa4\\u5cf6, \\u73ed\\u9054\\u7fa4\\u5cf6, \\u73ed\\u514b\\u65af\\u7fa4\\u5cf6, \\u4e0d\\u5217\\u985b\\u7fa4\\u5cf6, \\u6f8e\\u6e56\\u7fa4\\u5cf6, \\u99ac\\u4f86\\u7fa4\\u5cf6, \\u6469\\u9e7f\\u52a0\\u7fa4\\u5cf6, \\u7f8e\\u62c9\\u5c3c\\u897f\\u4e9e\"],\n [{\n            'v': 37,\n            'f': \"37\",\n        },\n\"\\u65b9\\u4f4d\\u540d\",\n{\n            'v': 15,\n            'f': \"15\",\n        },\n\"\\u5317, \\u5317\\u908a, \\u5317\\u65b9, \\u6771, \\u6771\\u5317, \\u6771\\u5357, \\u5357, \\u5357\\u908a, \\u5357\\u65b9, \\u826e\"],\n [{\n            'v': 38,\n            'f': \"38\",\n        },\n\"\\u5c71\\u540d\",\n{\n            'v': 257,\n            'f': \"257\",\n        },\n\"\\u516b\\u9054\\u5dba, \\u516b\\u5366\\u5c71, \\u516b\\u516c\\u5c71, \\u516b\\u4ed9\\u5c71, \\u6252\\u62c9\\u5927\\u5c71, \\u5df4\\u91cc\\u5eab\\u5ef7\\u706b\\u5c71, \\u5df4\\u9675, \\u5df4\\u9675\\u5c71, \\u5df4\\u4e18, \\u5df4\\u5c71\"],\n [{\n            'v': 39,\n            'f': \"39\",\n        },\n\"\\u5c71\\u8108\\u540d\",\n{\n            'v': 51,\n            'f': \"51\",\n        },\n\"\\u5df4\\u5dba\\u5c71\\u8108, \\u5df4\\u723e\\u5e79\\u5c71\\u8108, \\u5df4\\u984f\\u5580\\u5587\\u5c71, \\u4f2f\\u8212\\u62c9\\u5dba, \\u5317\\u5dba, \\u5927\\u5df4\\u5c71, \\u5927\\u5df4\\u5c71\\u8108, \\u5927\\u767d\\u5c71\\u8108, \\u5927\\u5225\\u5c71\\u8108, \\u5927\\u96ea\\u5c71\\u8108\"],\n [{\n            'v': 40,\n            'f': \"40\",\n        },\n\"\\u5c71\\u5cf0\\u540d\",\n{\n            'v': 12,\n            'f': \"12\",\n        },\n\"\\u52c3\\u6717\\u5cf0, \\u535a\\u514b\\u9054\\u5c71, \\u767d\\u6717\\u5cf0, \\u98db\\u4f86\\u5cf0, \\u9748\\u9df2\\u5c71, \\u5ca3\\u5d81, \\u83ef\\u9802\\u5cf0, \\u9999\\u7210\\u5cf0, \\u4e08\\u4eba\\u5cf0, \\u8056\\u6bcd\\u5cf0\"],\n [{\n            'v': 41,\n            'f': \"41\",\n        },\n\"\\u6cb3\\u5ddd\\u540d\",\n{\n            'v': 323,\n            'f': \"323\",\n        },\n\"\\u516b\\u529f\\u5fb7\\u6c34, \\u516b\\u638c\\u6eaa, \\u5df4\\u62c9\\u572d\\u6cb3, \\u5df4\\u6c5f, \\u5df4\\u6c34, \\u9738, \\u705e, \\u705e\\u6c34, \\u6ce2\\u6cb3, \\u73bb\\u7483\\u6cc9\"],\n [{\n            'v': 42,\n            'f': \"42\",\n        },\n\"\\u6e56\\u6cca\\u540d\",\n{\n            'v': 76,\n            'f': \"76\",\n        },\n\"\\u5df4\\u62c9\\u9813\\u6e56, \\u5df4\\u723e\\u5580\\u4ec0\\u6e56, \\u5df4\\u6cb9\\u6c60, \\u535a\\u65af\\u9a30\\u6e56, \\u8c9d\\u52a0\\u723e\\u6e56, \\u8c9d\\u723e\\u6e56, \\u78a7\\u6f6d, \\u5e03\\u502b\\u6258\\u6d77, \\u9131, \\u9131\\u967d\\u6e56\"],\n [{\n            'v': 43,\n            'f': \"43\",\n        },\n\"\\u6d77\\u6d0b\\u540d\",\n{\n            'v': 27,\n            'f': \"27\",\n        },\n\"\\u5df4\\u502b\\u652f\\u6d77, \\u6ce2\\u7f85\\u7684\\u6d77, \\u6e24\\u6d77, \\u767d\\u4ee4\\u6d77, \\u5317\\u51b0\\u6d0b, \\u5317\\u6d77, \\u5317\\u6975\\u6d77, \\u73ed\\u9054\\u6d77, \\u5927\\u897f\\u6d0b, \\u5730\\u4e2d\\u6d77\"],\n [{\n            'v': 44,\n            'f': \"44\",\n        },\n\"\\u6d77\\u5cfd\\u540d\",\n{\n            'v': 18,\n            'f': \"18\",\n        },\n\"\\u5df4\\u66fc\\u5f97\\u6d77\\u5cfd, \\u5df4\\u58eb\\u6d77\\u5cfd, \\u6e24\\u6d77\\u6d77\\u5cfd, \\u535a\\u65af\\u666e\\u9b6f\\u65af\\u6d77\\u5cfd, \\u767d\\u4ee4\\u6d77\\u5cfd, \\u9ebb\\u516d\\u7532, \\u9ebb\\u516d\\u7532\\u6d77\\u5cfd, \\u9ea5\\u54f2\\u502b\\u6d77\\u5cfd, \\u9054\\u9054\\u5c3c\\u723e\\u6d77\\u5cfd, \\u97c3\\u977c\\u6d77\\u5cfd\"],\n [{\n            'v': 45,\n            'f': \"45\",\n        },\n\"\\u6d77\\u7063\\u540d\",\n{\n            'v': 22,\n            'f': \"22\",\n        },\n\"\\u6ce2\\u65af\\u7063, \\u767d\\u6d77, \\u58a8\\u897f\\u54e5\\u7063, \\u5b5f\\u52a0\\u62c9, \\u5927\\u9023\\u7063, \\u6771\\u4eac\\u7063, \\u907c\\u6771\\u7063, \\u6599\\u7f85\\u7063, \\u5ee3\\u6771\\u7063, \\u5ee3\\u5dde\\u7063\"],\n [{\n            'v': 46,\n            'f': \"46\",\n        },\n\"\\u904b\\u6cb3\\u540d\",\n{\n            'v': 9,\n            'f': \"9\",\n        },\n\"\\u5df4\\u62ff\\u99ac\\u904b\\u6cb3, \\u5317\\u904b\\u6cb3, \\u901a\\u6fdf\\u6e20, \\u5357\\u904b\\u6cb3, \\u9748\\u6e20, \\u5ee3\\u901a\\u6e20, \\u9097\\u6e9d, \\u6c5f\\u5357\\u6cb3, \\u8607\\u4f0a\\u58eb\\u904b\\u6cb3\"],\n [{\n            'v': 47,\n            'f': \"47\",\n        },\n\"\\u6c34\\u5eab\\u540d\",\n{\n            'v': 4,\n            'f': \"4\",\n        },\n\"\\u7fe1\\u7fe0\\u6c34\\u5eab, \\u5fb7\\u57fa\\u6c34\\u5eab, \\u77f3\\u9580\\u6c34\\u5eab, \\u66fe\\u6587\\u6c34\\u5eab\"],\n [{\n            'v': 48,\n            'f': \"48\",\n        },\n\"\\u52d5\\u7269\\u540d\",\n{\n            'v': 1051,\n            'f': \"1051\",\n        },\n\"\\u516b\\u54e5, \\u516b\\u8272\\u9ce5, \\u5df4\\u86fe, \\u9f25, \\u4f2f\\u52de, \\u4f2f\\u52de\\u9ce5, \\u9d53\\u9d3f, \\u9d53\\u9d23, \\u8584\\u7fc5\\u9ec3\\u8776, \\u9e14\"],\n [{\n            'v': 49,\n            'f': \"49\",\n        },\n\"\\u690d\\u7269\\u540d\",\n{\n            'v': 1302,\n            'f': \"1302\",\n        },\n\"\\u516b\\u89d2\\u84ee, \\u516b\\u89d2\\u8334\\u9999, \\u516b\\u89d2\\u91d1\\u76e4, \\u516b\\u4ed9\\u82b1, \\u5df4\\u8c46, \\u5df4\\u65e6\\u674f, \\u5df4\\u621f\\u5929, \\u82ad\\u8292, \\u82ad\\u8549, \\u83dd\"],\n [{\n            'v': 50,\n            'f': \"50\",\n        },\n\"\\u5fae\\u751f\\u7269\",\n{\n            'v': 32,\n            'f': \"32\",\n        },\n\"\\u5df4\\u6c0f\\u687f\\u83cc, \\u767d\\u9ef4, \\u7834\\u50b7\\u98a8\\u687f\\u83cc, \\u62ab\\u8863\\u83cc, \\u8461\\u8404\\u7403\\u83cc, \\u5927\\u8178\\u687f\\u83cc, \\u5927\\u8178\\u83cc, \\u93c8\\u7403\\u83cc, \\u6dcb\\u83cc, \\u87ba\\u65cb\\u9ad4\"],\n [{\n            'v': 51,\n            'f': \"51\",\n        },\n\"\\u8077\\u5b98\\u540d\",\n{\n            'v': 566,\n            'f': \"566\",\n        },\n\"\\u516b\\u65d7\\u90fd\\u7d71, \\u628a\\u7e3d, \\u4f2f\\u8d99\\u6c0f, \\u52c3\\u6975\\u70c8, \\u535a\\u58eb, \\u767e\\u592b\\u9577, \\u767e\\u6236, \\u4f70, \\u4fdd, \\u4fdd\\u5bae\"],\n [{\n            'v': 52,\n            'f': \"52\",\n        },\n\"\\u6b66\\u5668\\u540d\",\n{\n            'v': 126,\n            'f': \"126\",\n        },\n\"\\u9200, \\u74dd\\u69ca, \\u99c1\\u6bbc\\u69cd, \\u767d\\u6717\\u5be7, \\u6f51\\u98a8\\u5200, \\u7834\\u98a8\\u5200, \\u70ae, \\u5224\\u5b98\\u7b46, \\u5674\\u706b\\u5668, \\u5e73\\u5c04\\u70ae\"],\n [{\n            'v': 53,\n            'f': \"53\",\n        },\n\"\\u7a31\\u8b02\",\n{\n            'v': 506,\n            'f': \"506\",\n        },\n\"\\u7238, \\u4f2f, \\u4f2f\\u4f2f, \\u4f2f\\u5a46, \\u4f2f\\u6bcd, \\u4f2f\\u7236, \\u4f2f\\u5a18, \\u4f2f\\u516c, \\u4f2f\\u5144, \\u4f2f\\u53d4\"],\n [{\n            'v': 54,\n            'f': \"54\",\n        },\n\"\\u75c5\\u540d\",\n{\n            'v': 328,\n            'f': \"328\",\n        },\n\"\\u5df4\\u91d1\\u68ee\\u6c0f\\u75c7, \\u6ce2\\u6069\\u75c5, \\u67cf\\u91d1\\u68ee\\u6c0f\\u75c5, \\u767d\\u6591, \\u767d\\u765c\\u98a8, \\u767d\\u5167\\u969c, \\u767d\\u7ce0\\u75b9, \\u767d\\u5589, \\u767d\\u864e\\u98a8, \\u767d\\u8840\\u75c5\"],\n [{\n            'v': 55,\n            'f': \"55\",\n        },\n\"\\u795e\\u8a71\",\n{\n            'v': 203,\n            'f': \"203\",\n        },\n\"\\u516b\\u9f8d, \\u516b\\u6975, \\u516b\\u4ed9, \\u516b\\u67f1, \\u5df4\\u570b, \\u5df4\\u86c7, \\u4f2f\\u616e\\u570b, \\u4f2f\\u5f37, \\u4f2f\\u5937, \\u4f2f\\u5937\\u7236\"],\n [{\n            'v': 56,\n            'f': \"56\",\n        },\n\"\\u65b9\\u8a00\",\n{\n            'v': 592,\n            'f': \"592\",\n        },\n\"\\u516b\\u5927\\u80e1\\u540c, \\u5df4\\u5152\\u72d7, \\u7b06\\u7c6c\\u5b50, \\u62d4\\u812f\\u5b50, \\u62d4\\u812f\\u5152, \\u62d4\\u7887, \\u62d4\\u817f, \\u9911\\u9911, \\u5b5b\\u76f8, \\u8584\\u76f8\"],\n [{\n            'v': 57,\n            'f': \"57\",\n        },\n\"\\u5b97\\u6559\",\n{\n            'v': 289,\n            'f': \"289\",\n        },\n\"\\u516b\\u98a8, \\u516b\\u96e3, \\u516b\\u8b58, \\u516b\\u5b97, \\u516b\\u7121\\u6687, \\u62d4\\u6fdf\\u706b\\u5b85, \\u767d\\u6cd5, \\u5bf6\\u74f6, \\u672c\\u4f86\\u9762\\u76ee, \\u672c\\u7121\"],\n [{\n            'v': 58,\n            'f': \"58\",\n        },\n\"\\u821e\\u66f2\\u821e\\u8e48\",\n{\n            'v': 35,\n            'f': \"35\",\n        },\n\"\\u6ce2\\u96f7\\u7f85\\u821e\\u66f2, \\u6ce2\\u862d\\u821e\\u66f2, \\u6ce2\\u723e\\u5361\\u821e, \\u6ce2\\u723e\\u5361\\u821e\\u66f2, \\u52c3\\u9732\\u65af, \\u9739\\u9742\\u821e, \\u99ac\\u539d\\u5361\\u821e\\u66f2, \\u65b9\\u821e, \\u5e17\\u821e, \\u8e22\\u8e0f\\u821e\"],\n [{\n            'v': 59,\n            'f': \"59\",\n        },\n\"\\u7403\\u985e\",\n{\n            'v': 143,\n            'f': \"143\",\n        },\n\"\\u767e\\u7c73\\u8cfd\\u8dd1, \\u4fdd\\u91e3\\u904b\\u52d5, \\u4fdd\\u9f61\\u7403, \\u4fdd\\u8b77\\u6d88\\u8cbb\\u8005\\u904b\\u52d5, \\u4fdd\\u5065\\u64cd, \\u677f\\u7246\\u7403, \\u68d2\\u7403, \\u58c1\\u7403, \\u81c2\\u8dd1, \\u6a19\\u69cd\"],\n [{\n            'v': 60,\n            'f': \"60\",\n        },\n\"\\u7a2e\\u65cf\\u3001\\u6c11\\u65cf\",\n{\n            'v': 156,\n            'f': \"156\",\n        },\n\"\\u50f0, \\u50f0\\u4eba, \\u767d\\u65cf, \\u64fa\\u5937, \\u62dc\\u8863\\u65cf, \\u5351\\u5357\\u65cf, \\u5317\\u72c4, \\u4fdd\\u5b89\\u65cf, \\u7562\\u62c9\\u723e, \\u5e03\\u8fb2\\u65cf\"],\n [{\n            'v': 61,\n            'f': \"61\",\n        },\n\"\\u80a1\\u7968\\u8853\\u8a9e\",\n{\n            'v': 96,\n            'f': \"96\",\n        },\n\"\\u62d4\\u6a94, \\u5bf6\\u5854\\u7dda, \\u672c\\u5229\\u6bd4, \\u672c\\u76ca\\u6bd4, \\u5d29\\u76e4, \\u4e19\\u7a2e\\u7d93\\u7d00\\u4eba, \\u88dc\\u7a7a, \\u76e4\\u9762, \\u76e4\\u6574, \\u9a19\\u7dda\"],\n [{\n            'v': 62,\n            'f': \"62\",\n        },\n\"\\u5927\\u9678\\u7528\\u8a9e\",\n{\n            'v': 633,\n            'f': \"633\",\n        },\n\"\\u82ad\\u8cfd, \\u628a\\u53e3, \\u628a\\u5834, \\u64a5\\u6539\\u8cb8, \\u63b0\\u4e86, \\u767d\\u73ed, \\u767d\\u689d, \\u767d\\u6848, \\u767d\\u8863\\u6559\\u7df4, \\u767d\\u7159\"],\n [{\n            'v': 63,\n            'f': \"63\",\n        },\n\"\\u91cf\\u8a5e\",\n{\n            'v': 434,\n            'f': \"434\",\n        },\n\"\\u5df4, \\u5df4\\u723e, \\u64a5, \\u6ce2, \\u676f, \\u76c3, \\u500d, \\u8f29, \\u5305, \\u62b1\"],\n [{\n            'v': 64,\n            'f': \"64\",\n        },\n\"\\u7bc0\\u6c23\",\n{\n            'v': 34,\n            'f': \"34\",\n        },\n\"\\u516b\\u7bc0, \\u767d\\u9732, \\u8292\\u7a2e, \\u5927\\u5bd2, \\u5927\\u96ea, \\u5927\\u6691, \\u51ac\\u81f3, \\u592a\\u9670\\u66c6, \\u8fb2\\u66c6, \\u7acb\\u51ac\"],\n [{\n            'v': 65,\n            'f': \"65\",\n        },\n\"\\u7bc0\\u65e5\",\n{\n            'v': 29,\n            'f': \"29\",\n        },\n\"\\u7f8e\\u8853\\u7bc0, \\u4f5b\\u8a95\\u7bc0, \\u4f5b\\u8a95\\u65e5, \\u9022\\u5e74\\u904e\\u7bc0, \\u9022\\u6642\\u6309\\u7bc0, \\u9022\\u6642\\u9047\\u7bc0, \\u5fa9\\u6d3b\\u7bc0, \\u7aef\\u5348\\u7bc0, \\u5e74\\u7bc0, \\u52de\\u52d5\\u7bc0\"]],\n        columns: [[\"number\", \"index\"], [\"string\", \"name\"], [\"number\", \"entries_count\"], [\"string\", \"sample_entries\"]],\n        columnOptions: [{\"width\": \"1px\", \"className\": \"index_column\"}],\n        rowsPerPage: 25,\n        helpUrl: \"https://colab.research.google.com/notebooks/data_table.ipynb\",\n        suppressOutputScrolling: true,\n        minimumWidth: undefined,\n      });\n    "
          },
          "metadata": {}
        }
      ]
    },
    {
      "cell_type": "markdown",
      "source": [
        "Select only some categories from moedict data so that we won't have too many words:\n"
      ],
      "metadata": {
        "id": "3LgYcsKVOOsG"
      }
    },
    {
      "cell_type": "code",
      "source": [
        "selected_categories = [\n",
        "    '量詞',\n",
        "    # '成語',\n",
        "    '音譯', '義譯', '音義合譯',\n",
        "    '動物名', '植物名',\n",
        "    # '微生物',\n",
        "    '稱謂', '職官名',\n",
        "    # '節氣',\n",
        "    # '節日',\n",
        "    '國名', \n",
        "    # '朝代名', '帝號',\n",
        "    '人名',  \n",
        "    # '種族、民族',\n",
        "    '地名', '州名', '省名', '城市名', '縣名', '鄉鎮名', '郡名', '島名', '半島名', '群島名',\n",
        "    '方位名', '山名', '山脈名', '山峰名', '河川名', '湖泊名', '海洋名', '海峽名', '海灣名', '運河名', '水庫名',\n",
        "    # '星名',\n",
        "    '星座名',\n",
        "    # '書名', '書體名', '文體名',\n",
        "    # '詩名', '詞牌名', '曲牌名', \n",
        "    '樂曲名', '樂器名', \n",
        "    # '戲劇曲藝', '雜劇', '傳奇',\n",
        "    '舞曲舞蹈', '球類',\n",
        "    # '神話',\n",
        "    # '武器名',\n",
        "    # '病名',\n",
        "    # '股票術語',\n",
        "]\n",
        "filtered_moedict_data_cat = [\n",
        "    cat for cat in moedict_data_cat\n",
        "    if cat['name'] in selected_categories]\n",
        "print(\"Selected categories: \", len(filtered_moedict_data_cat))\n",
        "filtered_moedict_entries = [\n",
        "    entry\n",
        "    for cat in filtered_moedict_data_cat\n",
        "    for entry in cat['entries']]\n",
        "print(\"Entries: \", len(filtered_moedict_entries))"
      ],
      "metadata": {
        "colab": {
          "base_uri": "https://localhost:8080/"
        },
        "id": "lO4Z9U9UCi40",
        "outputId": "b3fe1095-93ef-45f6-bcc1-b93f8dc9bb0f"
      },
      "execution_count": null,
      "outputs": [
        {
          "output_type": "stream",
          "name": "stdout",
          "text": [
            "Selected categories:  36\n",
            "Entries:  10412\n"
          ]
        }
      ]
    },
    {
      "cell_type": "code",
      "source": [
        "# @markdown Mix moedict entries and random wikipedia page summaries for training.\n",
        "import itertools\n",
        "import random\n",
        "\n",
        "word_connectors = [\"和\", \"的\", \"及\", \"以及\", \"與\", \"或\", \"或者\", \"跟\", \"既\", \"又\", \"還\", \"還有\",\n",
        "                   \"而\", \"而且\", \"同\", \"並\", \"並且\", \"即\", \"就\", \"總之\", \"因此\", \"如\", \"若\", \"若是\", \"假若\", \"假如\"]\n",
        "# cycling_word_connectors = itertools.cycle(word_connectors)\n",
        "\n",
        "def get_training_words_text():\n",
        "    # return (\"\").join([\n",
        "    #     f\"{word}{connector}\" for word, connector\n",
        "    #     in list(\n",
        "    #         zip(filtered_moedict_entries, cycling_word_connectors)\n",
        "    #     )])\n",
        "    return (\"\").join([\n",
        "        f\"{word}{random.choice(word_connectors)}\" for word\n",
        "        in filtered_moedict_entries])\n",
        "\n",
        "print(\"Sample training words text: \", get_training_words_text()[:100])\n",
        "print(\"Sample wikipedia page_summary: \", wikipedia_ds[0]['page_summary'])\n",
        "\n",
        "# word_text_iterations = int(wikipedia_ds_count / 20)\n",
        "word_text_iterations = 100\n",
        "\n",
        "def get_training_corpus():\n",
        "    for _ in range(word_text_iterations):\n",
        "        yield get_training_words_text()\n",
        "    for batch in wikipedia_ds:\n",
        "        yield batch['page_summary']\n",
        "\n",
        "training_corpus_count = word_text_iterations + wikipedia_ds_count\n",
        "print(\"Training corpus count: \", training_corpus_count)"
      ],
      "metadata": {
        "colab": {
          "base_uri": "https://localhost:8080/"
        },
        "id": "zsgbuA7oFpC4",
        "outputId": "94ec08ef-7d08-470d-ac99-fb7934b4d5ae"
      },
      "execution_count": null,
      "outputs": [
        {
          "output_type": "stream",
          "name": "stdout",
          "text": [
            "Sample training words text:  扒魯即巴或巴波亞或者巴力門或巴剎或者巴士與巴茲卡還巴爾同吧同芭蕾舞即波特酒若是波雷羅舞曲又波羅蜜跟波羅提木叉以及波羅夷或者波爾卡舞而般若的泊車總之柏青哥假若勃露斯假若白蘭地與百靈舌假如百事可樂又拜拜的\n",
            "Sample wikipedia page_summary:  TCI（The Children Investment Fund Management），是英國投資家 Chris Hohn 創立的對沖基金。\n",
            "Training corpus count:  10097\n"
          ]
        }
      ]
    },
    {
      "cell_type": "markdown",
      "source": [
        "### Prepare Tokenizer and Train"
      ],
      "metadata": {
        "id": "WE46hoScWxVA"
      }
    },
    {
      "cell_type": "code",
      "source": [
        "# @markdown Prepare tokenizer for training\n",
        "old_tokenizer = \\\n",
        "    AutoTokenizer.from_pretrained('EleutherAI/gpt-j-6b')\n",
        "old_tokenizer"
      ],
      "metadata": {
        "colab": {
          "base_uri": "https://localhost:8080/"
        },
        "id": "sYYpFqkRjoLn",
        "outputId": "89971782-cea2-49bd-fdbe-8a86aa1d5c5d"
      },
      "execution_count": null,
      "outputs": [
        {
          "output_type": "execute_result",
          "data": {
            "text/plain": [
              "GPT2TokenizerFast(name_or_path='EleutherAI/gpt-j-6b', vocab_size=50257, model_max_length=2048, is_fast=True, padding_side='right', truncation_side='right', special_tokens={'bos_token': AddedToken(\"<|endoftext|>\", rstrip=False, lstrip=False, single_word=False, normalized=True), 'eos_token': AddedToken(\"<|endoftext|>\", rstrip=False, lstrip=False, single_word=False, normalized=True), 'unk_token': AddedToken(\"<|endoftext|>\", rstrip=False, lstrip=False, single_word=False, normalized=True)}, clean_up_tokenization_spaces=True)"
            ]
          },
          "metadata": {},
          "execution_count": 26
        }
      ]
    },
    {
      "cell_type": "code",
      "source": [
        "# @markdown Check how the tokenizer behaves.\n",
        "import json\n",
        "example_text = \"網際網路（英語：Internet）是指 20 世紀末期興起電腦網路與電腦網路之間所串連成的龐大網路系統。\"\n",
        "# @markdown This is not an efficient tokenizer for Chinese words, as most of the word are broken into 2 ~ 3 tokens. The phrases \"網際網路\" occupies 11 tokens in total.\n",
        "print(list(tokenize_cjk(old_tokenizer, example_text)))"
      ],
      "metadata": {
        "colab": {
          "base_uri": "https://localhost:8080/"
        },
        "id": "RshkJON1j71Y",
        "outputId": "55aad71a-81b6-41dc-a4d3-892afbf8c149"
      },
      "execution_count": null,
      "outputs": [
        {
          "output_type": "stream",
          "name": "stdout",
          "text": [
            "[('網', 3), ('際', 2), ('網', 3), ('路', 3), ('（', 3), ('英', 3), ('語', 2), ('：', 3), ('Internet', 1), ('）', 3), ('是', 1), ('指', 3), (' 20', 1), (' ', 1), ('世', 2), ('紀', 3), ('末', 2), ('期', 2), ('�', 1), ('��', 1), ('�', 1), ('�', 1), ('電', 2), ('腦', 3), ('網', 3), ('路', 3), ('與', 2), ('電', 2), ('腦', 3), ('網', 3), ('路', 3), ('之', 1), ('間', 2), ('所', 2), ('串', 2), ('連', 2), ('成', 2), ('的', 1), ('龐', 2), ('大', 1), ('網', 3), ('路', 3), ('系', 3), ('統', 3), ('。', 1)]\n"
          ]
        }
      ]
    },
    {
      "cell_type": "code",
      "source": [
        "print(\"old_tokenizer.vocab_size: \", old_tokenizer.vocab_size)"
      ],
      "metadata": {
        "colab": {
          "base_uri": "https://localhost:8080/"
        },
        "id": "iF7wi2mmxz73",
        "outputId": "8b75d748-ecd5-423f-e184-8422e9ec20c7"
      },
      "execution_count": null,
      "outputs": [
        {
          "output_type": "stream",
          "name": "stdout",
          "text": [
            "old_tokenizer.vocab_size:  50257\n"
          ]
        }
      ]
    },
    {
      "cell_type": "code",
      "source": [
        "vocabs_to_add = 20000\n",
        "\n",
        "# @markdown Train a new tokenizer with `zh-tw` corpus.\n",
        "new_trained_tokenizer = old_tokenizer.train_new_from_iterator(\n",
        "    get_training_corpus(), \n",
        "    vocab_size=vocabs_to_add,\n",
        "    length=training_corpus_count\n",
        ")"
      ],
      "metadata": {
        "id": "8m9DlbmHWnA0"
      },
      "execution_count": null,
      "outputs": []
    },
    {
      "cell_type": "code",
      "source": [
        "# @markdown Merge the new trained tokenizer with the original tokenizer to form a new tokenizer.\n",
        "import os\n",
        "import shutil\n",
        "\n",
        "old_tokenizer.save_pretrained('/tmp/old_tokenizer')\n",
        "new_trained_tokenizer.save_pretrained('/tmp/new_trained_tokenizer')\n",
        "os.makedirs(\"/tmp/merged_tokenizer\", exist_ok=True)\n",
        "\n",
        "shutil.copy(\"/tmp/old_tokenizer/tokenizer_config.json\", \"/tmp/merged_tokenizer/tokenizer_config.json\")\n",
        "shutil.copy(\"/tmp/old_tokenizer/special_tokens_map.json\", \"/tmp/merged_tokenizer/special_tokens_map.json\")\n",
        "# ValueError: Non-consecutive added token '<|extratoken_1|>' found. Should have index 51693 but has index 50257 in saved vocabulary.\n",
        "# shutil.copy(\"/tmp/old_tokenizer/added_tokens.json\", \"/tmp/merged_tokenizer/added_tokens.json\")\n",
        "\n",
        "vocab = json.load(open('/tmp/old_tokenizer/vocab.json'))\n",
        "new_vocab = json.load(open('/tmp/new_trained_tokenizer/vocab.json'))\n",
        "idx = max(list(vocab.values())) + 1\n",
        "for word in new_vocab.keys():\n",
        "    if word not in vocab.keys():\n",
        "        vocab[word] = idx\n",
        "        idx += 1\n",
        "\n",
        "with open('/tmp/merged_tokenizer/vocab.json', 'w') as f:\n",
        "    json.dump(vocab, f, ensure_ascii=False)\n",
        "print(\"New vocab size: \", len(vocab.values()))\n",
        "\n",
        "with open('/tmp/old_tokenizer/merges.txt', 'r') as original_merges,\\\n",
        "     open('/tmp/new_trained_tokenizer/merges.txt', 'r') as new_merges,\\\n",
        "     open('/tmp/merged_tokenizer/merges.txt', 'w') as output_merges:\n",
        "\n",
        "    output_merges.write(original_merges.read())\n",
        "    lines = new_merges.readlines()[1:]\n",
        "    output_merges.writelines(lines)\n",
        "\n",
        "new_tokenizer = AutoTokenizer.from_pretrained('/tmp/merged_tokenizer')\n",
        "new_tokenizer"
      ],
      "metadata": {
        "id": "3ymJL-s7XT08",
        "colab": {
          "base_uri": "https://localhost:8080/"
        },
        "outputId": "23452352-56bc-4423-fb36-383821af7a33"
      },
      "execution_count": null,
      "outputs": [
        {
          "output_type": "stream",
          "name": "stdout",
          "text": [
            "New vocab size:  68965\n"
          ]
        },
        {
          "output_type": "execute_result",
          "data": {
            "text/plain": [
              "GPT2TokenizerFast(name_or_path='/tmp/merged_tokenizer', vocab_size=68965, model_max_length=2048, is_fast=True, padding_side='right', truncation_side='right', special_tokens={'bos_token': AddedToken(\"<|endoftext|>\", rstrip=False, lstrip=False, single_word=False, normalized=True), 'eos_token': AddedToken(\"<|endoftext|>\", rstrip=False, lstrip=False, single_word=False, normalized=True), 'unk_token': AddedToken(\"<|endoftext|>\", rstrip=False, lstrip=False, single_word=False, normalized=True)}, clean_up_tokenization_spaces=True)"
            ]
          },
          "metadata": {},
          "execution_count": 30
        }
      ]
    },
    {
      "cell_type": "markdown",
      "source": [
        "### Results"
      ],
      "metadata": {
        "id": "wT4nplWsWzxG"
      }
    },
    {
      "cell_type": "code",
      "source": [
        "import pandas as pd\n",
        "\n",
        "print(\"Old vocab size: \", old_tokenizer.vocab_size)\n",
        "print(\"New vocab size: \", new_tokenizer.vocab_size)\n",
        "\n",
        "old_vocab = old_tokenizer.vocab\n",
        "new_vocab = new_tokenizer.vocab\n",
        "modified_vocab_table = []\n",
        "for key, value in old_vocab.items():\n",
        "    if key not in new_vocab:\n",
        "        modified_vocab_table.append([key, value, None])\n",
        "    elif value != new_vocab[key]:\n",
        "        modified_vocab_table.append([key, value, new_vocab[key]])\n",
        "modified_vocab_count = len(modified_vocab_table)\n",
        "if modified_vocab_count:\n",
        "    print(f\"{modified_vocab_count} modified vocabs.\")\n",
        "    # print(json.dumps(modified_vocab_table, indent=2))\n",
        "    df = pd.DataFrame(modified_vocab_table, columns=['Vocab', 'Original ID', 'New ID'])\n",
        "    display(df)"
      ],
      "metadata": {
        "id": "Kgncn-Il_Rjk",
        "colab": {
          "base_uri": "https://localhost:8080/",
          "height": 691
        },
        "outputId": "12a55556-e59b-491a-aeac-d282a162e98f"
      },
      "execution_count": null,
      "outputs": [
        {
          "output_type": "stream",
          "name": "stdout",
          "text": [
            "Old vocab size:  50257\n",
            "New vocab size:  68965\n",
            "143 modified vocabs.\n"
          ]
        },
        {
          "output_type": "display_data",
          "data": {
            "text/plain": [
              "                  Vocab  Original ID New ID\n",
              "0    <|extratoken_122|>        50378   None\n",
              "1     <|extratoken_77|>        50333   None\n",
              "2     <|extratoken_17|>        50273   None\n",
              "3     <|extratoken_43|>        50299   None\n",
              "4     <|extratoken_32|>        50288   None\n",
              "..                  ...          ...    ...\n",
              "138   <|extratoken_86|>        50342   None\n",
              "139  <|extratoken_114|>        50370   None\n",
              "140  <|extratoken_128|>        50384   None\n",
              "141   <|extratoken_84|>        50340   None\n",
              "142  <|extratoken_136|>        50392   None\n",
              "\n",
              "[143 rows x 3 columns]"
            ],
            "text/html": [
              "\n",
              "  <div id=\"df-b711ddd2-5c56-459d-a9aa-ced84499e347\">\n",
              "    <div class=\"colab-df-container\">\n",
              "      <div>\n",
              "<style scoped>\n",
              "    .dataframe tbody tr th:only-of-type {\n",
              "        vertical-align: middle;\n",
              "    }\n",
              "\n",
              "    .dataframe tbody tr th {\n",
              "        vertical-align: top;\n",
              "    }\n",
              "\n",
              "    .dataframe thead th {\n",
              "        text-align: right;\n",
              "    }\n",
              "</style>\n",
              "<table border=\"1\" class=\"dataframe\">\n",
              "  <thead>\n",
              "    <tr style=\"text-align: right;\">\n",
              "      <th></th>\n",
              "      <th>Vocab</th>\n",
              "      <th>Original ID</th>\n",
              "      <th>New ID</th>\n",
              "    </tr>\n",
              "  </thead>\n",
              "  <tbody>\n",
              "    <tr>\n",
              "      <th>0</th>\n",
              "      <td>&lt;|extratoken_122|&gt;</td>\n",
              "      <td>50378</td>\n",
              "      <td>None</td>\n",
              "    </tr>\n",
              "    <tr>\n",
              "      <th>1</th>\n",
              "      <td>&lt;|extratoken_77|&gt;</td>\n",
              "      <td>50333</td>\n",
              "      <td>None</td>\n",
              "    </tr>\n",
              "    <tr>\n",
              "      <th>2</th>\n",
              "      <td>&lt;|extratoken_17|&gt;</td>\n",
              "      <td>50273</td>\n",
              "      <td>None</td>\n",
              "    </tr>\n",
              "    <tr>\n",
              "      <th>3</th>\n",
              "      <td>&lt;|extratoken_43|&gt;</td>\n",
              "      <td>50299</td>\n",
              "      <td>None</td>\n",
              "    </tr>\n",
              "    <tr>\n",
              "      <th>4</th>\n",
              "      <td>&lt;|extratoken_32|&gt;</td>\n",
              "      <td>50288</td>\n",
              "      <td>None</td>\n",
              "    </tr>\n",
              "    <tr>\n",
              "      <th>...</th>\n",
              "      <td>...</td>\n",
              "      <td>...</td>\n",
              "      <td>...</td>\n",
              "    </tr>\n",
              "    <tr>\n",
              "      <th>138</th>\n",
              "      <td>&lt;|extratoken_86|&gt;</td>\n",
              "      <td>50342</td>\n",
              "      <td>None</td>\n",
              "    </tr>\n",
              "    <tr>\n",
              "      <th>139</th>\n",
              "      <td>&lt;|extratoken_114|&gt;</td>\n",
              "      <td>50370</td>\n",
              "      <td>None</td>\n",
              "    </tr>\n",
              "    <tr>\n",
              "      <th>140</th>\n",
              "      <td>&lt;|extratoken_128|&gt;</td>\n",
              "      <td>50384</td>\n",
              "      <td>None</td>\n",
              "    </tr>\n",
              "    <tr>\n",
              "      <th>141</th>\n",
              "      <td>&lt;|extratoken_84|&gt;</td>\n",
              "      <td>50340</td>\n",
              "      <td>None</td>\n",
              "    </tr>\n",
              "    <tr>\n",
              "      <th>142</th>\n",
              "      <td>&lt;|extratoken_136|&gt;</td>\n",
              "      <td>50392</td>\n",
              "      <td>None</td>\n",
              "    </tr>\n",
              "  </tbody>\n",
              "</table>\n",
              "<p>143 rows × 3 columns</p>\n",
              "</div>\n",
              "      <button class=\"colab-df-convert\" onclick=\"convertToInteractive('df-b711ddd2-5c56-459d-a9aa-ced84499e347')\"\n",
              "              title=\"Convert this dataframe to an interactive table.\"\n",
              "              style=\"display:none;\">\n",
              "        \n",
              "  <svg xmlns=\"http://www.w3.org/2000/svg\" height=\"24px\"viewBox=\"0 0 24 24\"\n",
              "       width=\"24px\">\n",
              "    <path d=\"M0 0h24v24H0V0z\" fill=\"none\"/>\n",
              "    <path d=\"M18.56 5.44l.94 2.06.94-2.06 2.06-.94-2.06-.94-.94-2.06-.94 2.06-2.06.94zm-11 1L8.5 8.5l.94-2.06 2.06-.94-2.06-.94L8.5 2.5l-.94 2.06-2.06.94zm10 10l.94 2.06.94-2.06 2.06-.94-2.06-.94-.94-2.06-.94 2.06-2.06.94z\"/><path d=\"M17.41 7.96l-1.37-1.37c-.4-.4-.92-.59-1.43-.59-.52 0-1.04.2-1.43.59L10.3 9.45l-7.72 7.72c-.78.78-.78 2.05 0 2.83L4 21.41c.39.39.9.59 1.41.59.51 0 1.02-.2 1.41-.59l7.78-7.78 2.81-2.81c.8-.78.8-2.07 0-2.86zM5.41 20L4 18.59l7.72-7.72 1.47 1.35L5.41 20z\"/>\n",
              "  </svg>\n",
              "      </button>\n",
              "      \n",
              "  <style>\n",
              "    .colab-df-container {\n",
              "      display:flex;\n",
              "      flex-wrap:wrap;\n",
              "      gap: 12px;\n",
              "    }\n",
              "\n",
              "    .colab-df-convert {\n",
              "      background-color: #E8F0FE;\n",
              "      border: none;\n",
              "      border-radius: 50%;\n",
              "      cursor: pointer;\n",
              "      display: none;\n",
              "      fill: #1967D2;\n",
              "      height: 32px;\n",
              "      padding: 0 0 0 0;\n",
              "      width: 32px;\n",
              "    }\n",
              "\n",
              "    .colab-df-convert:hover {\n",
              "      background-color: #E2EBFA;\n",
              "      box-shadow: 0px 1px 2px rgba(60, 64, 67, 0.3), 0px 1px 3px 1px rgba(60, 64, 67, 0.15);\n",
              "      fill: #174EA6;\n",
              "    }\n",
              "\n",
              "    [theme=dark] .colab-df-convert {\n",
              "      background-color: #3B4455;\n",
              "      fill: #D2E3FC;\n",
              "    }\n",
              "\n",
              "    [theme=dark] .colab-df-convert:hover {\n",
              "      background-color: #434B5C;\n",
              "      box-shadow: 0px 1px 3px 1px rgba(0, 0, 0, 0.15);\n",
              "      filter: drop-shadow(0px 1px 2px rgba(0, 0, 0, 0.3));\n",
              "      fill: #FFFFFF;\n",
              "    }\n",
              "  </style>\n",
              "\n",
              "      <script>\n",
              "        const buttonEl =\n",
              "          document.querySelector('#df-b711ddd2-5c56-459d-a9aa-ced84499e347 button.colab-df-convert');\n",
              "        buttonEl.style.display =\n",
              "          google.colab.kernel.accessAllowed ? 'block' : 'none';\n",
              "\n",
              "        async function convertToInteractive(key) {\n",
              "          const element = document.querySelector('#df-b711ddd2-5c56-459d-a9aa-ced84499e347');\n",
              "          const dataTable =\n",
              "            await google.colab.kernel.invokeFunction('convertToInteractive',\n",
              "                                                     [key], {});\n",
              "          if (!dataTable) return;\n",
              "\n",
              "          const docLinkHtml = 'Like what you see? Visit the ' +\n",
              "            '<a target=\"_blank\" href=https://colab.research.google.com/notebooks/data_table.ipynb>data table notebook</a>'\n",
              "            + ' to learn more about interactive tables.';\n",
              "          element.innerHTML = '';\n",
              "          dataTable['output_type'] = 'display_data';\n",
              "          await google.colab.output.renderOutput(dataTable, element);\n",
              "          const docLink = document.createElement('div');\n",
              "          docLink.innerHTML = docLinkHtml;\n",
              "          element.appendChild(docLink);\n",
              "        }\n",
              "      </script>\n",
              "    </div>\n",
              "  </div>\n",
              "  "
            ],
            "application/vnd.google.colaboratory.module+javascript": "\n      import \"https://ssl.gstatic.com/colaboratory/data_table/99dac6621f6ae8c4/data_table.js\";\n\n      window.createDataTable({\n        data: [[{\n            'v': 0,\n            'f': \"0\",\n        },\n\"<|extratoken_122|>\",\n{\n            'v': 50378,\n            'f': \"50378\",\n        },\n{\n            'v': null,\n            'f': \"null\",\n        }],\n [{\n            'v': 1,\n            'f': \"1\",\n        },\n\"<|extratoken_77|>\",\n{\n            'v': 50333,\n            'f': \"50333\",\n        },\n{\n            'v': null,\n            'f': \"null\",\n        }],\n [{\n            'v': 2,\n            'f': \"2\",\n        },\n\"<|extratoken_17|>\",\n{\n            'v': 50273,\n            'f': \"50273\",\n        },\n{\n            'v': null,\n            'f': \"null\",\n        }],\n [{\n            'v': 3,\n            'f': \"3\",\n        },\n\"<|extratoken_43|>\",\n{\n            'v': 50299,\n            'f': \"50299\",\n        },\n{\n            'v': null,\n            'f': \"null\",\n        }],\n [{\n            'v': 4,\n            'f': \"4\",\n        },\n\"<|extratoken_32|>\",\n{\n            'v': 50288,\n            'f': \"50288\",\n        },\n{\n            'v': null,\n            'f': \"null\",\n        }],\n [{\n            'v': 5,\n            'f': \"5\",\n        },\n\"<|extratoken_124|>\",\n{\n            'v': 50380,\n            'f': \"50380\",\n        },\n{\n            'v': null,\n            'f': \"null\",\n        }],\n [{\n            'v': 6,\n            'f': \"6\",\n        },\n\"<|extratoken_34|>\",\n{\n            'v': 50290,\n            'f': \"50290\",\n        },\n{\n            'v': null,\n            'f': \"null\",\n        }],\n [{\n            'v': 7,\n            'f': \"7\",\n        },\n\"<|extratoken_117|>\",\n{\n            'v': 50373,\n            'f': \"50373\",\n        },\n{\n            'v': null,\n            'f': \"null\",\n        }],\n [{\n            'v': 8,\n            'f': \"8\",\n        },\n\"<|extratoken_132|>\",\n{\n            'v': 50388,\n            'f': \"50388\",\n        },\n{\n            'v': null,\n            'f': \"null\",\n        }],\n [{\n            'v': 9,\n            'f': \"9\",\n        },\n\"<|extratoken_93|>\",\n{\n            'v': 50349,\n            'f': \"50349\",\n        },\n{\n            'v': null,\n            'f': \"null\",\n        }],\n [{\n            'v': 10,\n            'f': \"10\",\n        },\n\"<|extratoken_71|>\",\n{\n            'v': 50327,\n            'f': \"50327\",\n        },\n{\n            'v': null,\n            'f': \"null\",\n        }],\n [{\n            'v': 11,\n            'f': \"11\",\n        },\n\"<|extratoken_58|>\",\n{\n            'v': 50314,\n            'f': \"50314\",\n        },\n{\n            'v': null,\n            'f': \"null\",\n        }],\n [{\n            'v': 12,\n            'f': \"12\",\n        },\n\"<|extratoken_95|>\",\n{\n            'v': 50351,\n            'f': \"50351\",\n        },\n{\n            'v': null,\n            'f': \"null\",\n        }],\n [{\n            'v': 13,\n            'f': \"13\",\n        },\n\"<|extratoken_109|>\",\n{\n            'v': 50365,\n            'f': \"50365\",\n        },\n{\n            'v': null,\n            'f': \"null\",\n        }],\n [{\n            'v': 14,\n            'f': \"14\",\n        },\n\"<|extratoken_69|>\",\n{\n            'v': 50325,\n            'f': \"50325\",\n        },\n{\n            'v': null,\n            'f': \"null\",\n        }],\n [{\n            'v': 15,\n            'f': \"15\",\n        },\n\"<|extratoken_18|>\",\n{\n            'v': 50274,\n            'f': \"50274\",\n        },\n{\n            'v': null,\n            'f': \"null\",\n        }],\n [{\n            'v': 16,\n            'f': \"16\",\n        },\n\"<|extratoken_12|>\",\n{\n            'v': 50268,\n            'f': \"50268\",\n        },\n{\n            'v': null,\n            'f': \"null\",\n        }],\n [{\n            'v': 17,\n            'f': \"17\",\n        },\n\"<|extratoken_134|>\",\n{\n            'v': 50390,\n            'f': \"50390\",\n        },\n{\n            'v': null,\n            'f': \"null\",\n        }],\n [{\n            'v': 18,\n            'f': \"18\",\n        },\n\"<|extratoken_112|>\",\n{\n            'v': 50368,\n            'f': \"50368\",\n        },\n{\n            'v': null,\n            'f': \"null\",\n        }],\n [{\n            'v': 19,\n            'f': \"19\",\n        },\n\"<|extratoken_133|>\",\n{\n            'v': 50389,\n            'f': \"50389\",\n        },\n{\n            'v': null,\n            'f': \"null\",\n        }],\n [{\n            'v': 20,\n            'f': \"20\",\n        },\n\"<|extratoken_42|>\",\n{\n            'v': 50298,\n            'f': \"50298\",\n        },\n{\n            'v': null,\n            'f': \"null\",\n        }],\n [{\n            'v': 21,\n            'f': \"21\",\n        },\n\"<|extratoken_125|>\",\n{\n            'v': 50381,\n            'f': \"50381\",\n        },\n{\n            'v': null,\n            'f': \"null\",\n        }],\n [{\n            'v': 22,\n            'f': \"22\",\n        },\n\"<|extratoken_36|>\",\n{\n            'v': 50292,\n            'f': \"50292\",\n        },\n{\n            'v': null,\n            'f': \"null\",\n        }],\n [{\n            'v': 23,\n            'f': \"23\",\n        },\n\"<|extratoken_26|>\",\n{\n            'v': 50282,\n            'f': \"50282\",\n        },\n{\n            'v': null,\n            'f': \"null\",\n        }],\n [{\n            'v': 24,\n            'f': \"24\",\n        },\n\"<|extratoken_44|>\",\n{\n            'v': 50300,\n            'f': \"50300\",\n        },\n{\n            'v': null,\n            'f': \"null\",\n        }],\n [{\n            'v': 25,\n            'f': \"25\",\n        },\n\"<|extratoken_57|>\",\n{\n            'v': 50313,\n            'f': \"50313\",\n        },\n{\n            'v': null,\n            'f': \"null\",\n        }],\n [{\n            'v': 26,\n            'f': \"26\",\n        },\n\"<|extratoken_66|>\",\n{\n            'v': 50322,\n            'f': \"50322\",\n        },\n{\n            'v': null,\n            'f': \"null\",\n        }],\n [{\n            'v': 27,\n            'f': \"27\",\n        },\n\"<|extratoken_51|>\",\n{\n            'v': 50307,\n            'f': \"50307\",\n        },\n{\n            'v': null,\n            'f': \"null\",\n        }],\n [{\n            'v': 28,\n            'f': \"28\",\n        },\n\"<|extratoken_91|>\",\n{\n            'v': 50347,\n            'f': \"50347\",\n        },\n{\n            'v': null,\n            'f': \"null\",\n        }],\n [{\n            'v': 29,\n            'f': \"29\",\n        },\n\"<|extratoken_53|>\",\n{\n            'v': 50309,\n            'f': \"50309\",\n        },\n{\n            'v': null,\n            'f': \"null\",\n        }],\n [{\n            'v': 30,\n            'f': \"30\",\n        },\n\"<|extratoken_116|>\",\n{\n            'v': 50372,\n            'f': \"50372\",\n        },\n{\n            'v': null,\n            'f': \"null\",\n        }],\n [{\n            'v': 31,\n            'f': \"31\",\n        },\n\"<|extratoken_47|>\",\n{\n            'v': 50303,\n            'f': \"50303\",\n        },\n{\n            'v': null,\n            'f': \"null\",\n        }],\n [{\n            'v': 32,\n            'f': \"32\",\n        },\n\"<|extratoken_111|>\",\n{\n            'v': 50367,\n            'f': \"50367\",\n        },\n{\n            'v': null,\n            'f': \"null\",\n        }],\n [{\n            'v': 33,\n            'f': \"33\",\n        },\n\"<|extratoken_50|>\",\n{\n            'v': 50306,\n            'f': \"50306\",\n        },\n{\n            'v': null,\n            'f': \"null\",\n        }],\n [{\n            'v': 34,\n            'f': \"34\",\n        },\n\"<|extratoken_101|>\",\n{\n            'v': 50357,\n            'f': \"50357\",\n        },\n{\n            'v': null,\n            'f': \"null\",\n        }],\n [{\n            'v': 35,\n            'f': \"35\",\n        },\n\"<|extratoken_64|>\",\n{\n            'v': 50320,\n            'f': \"50320\",\n        },\n{\n            'v': null,\n            'f': \"null\",\n        }],\n [{\n            'v': 36,\n            'f': \"36\",\n        },\n\"<|extratoken_135|>\",\n{\n            'v': 50391,\n            'f': \"50391\",\n        },\n{\n            'v': null,\n            'f': \"null\",\n        }],\n [{\n            'v': 37,\n            'f': \"37\",\n        },\n\"<|extratoken_2|>\",\n{\n            'v': 50258,\n            'f': \"50258\",\n        },\n{\n            'v': null,\n            'f': \"null\",\n        }],\n [{\n            'v': 38,\n            'f': \"38\",\n        },\n\"<|extratoken_19|>\",\n{\n            'v': 50275,\n            'f': \"50275\",\n        },\n{\n            'v': null,\n            'f': \"null\",\n        }],\n [{\n            'v': 39,\n            'f': \"39\",\n        },\n\"<|extratoken_29|>\",\n{\n            'v': 50285,\n            'f': \"50285\",\n        },\n{\n            'v': null,\n            'f': \"null\",\n        }],\n [{\n            'v': 40,\n            'f': \"40\",\n        },\n\"<|extratoken_38|>\",\n{\n            'v': 50294,\n            'f': \"50294\",\n        },\n{\n            'v': null,\n            'f': \"null\",\n        }],\n [{\n            'v': 41,\n            'f': \"41\",\n        },\n\"<|extratoken_79|>\",\n{\n            'v': 50335,\n            'f': \"50335\",\n        },\n{\n            'v': null,\n            'f': \"null\",\n        }],\n [{\n            'v': 42,\n            'f': \"42\",\n        },\n\"<|extratoken_63|>\",\n{\n            'v': 50319,\n            'f': \"50319\",\n        },\n{\n            'v': null,\n            'f': \"null\",\n        }],\n [{\n            'v': 43,\n            'f': \"43\",\n        },\n\"<|extratoken_22|>\",\n{\n            'v': 50278,\n            'f': \"50278\",\n        },\n{\n            'v': null,\n            'f': \"null\",\n        }],\n [{\n            'v': 44,\n            'f': \"44\",\n        },\n\"<|extratoken_7|>\",\n{\n            'v': 50263,\n            'f': \"50263\",\n        },\n{\n            'v': null,\n            'f': \"null\",\n        }],\n [{\n            'v': 45,\n            'f': \"45\",\n        },\n\"<|extratoken_102|>\",\n{\n            'v': 50358,\n            'f': \"50358\",\n        },\n{\n            'v': null,\n            'f': \"null\",\n        }],\n [{\n            'v': 46,\n            'f': \"46\",\n        },\n\"<|extratoken_14|>\",\n{\n            'v': 50270,\n            'f': \"50270\",\n        },\n{\n            'v': null,\n            'f': \"null\",\n        }],\n [{\n            'v': 47,\n            'f': \"47\",\n        },\n\"<|extratoken_5|>\",\n{\n            'v': 50261,\n            'f': \"50261\",\n        },\n{\n            'v': null,\n            'f': \"null\",\n        }],\n [{\n            'v': 48,\n            'f': \"48\",\n        },\n\"<|extratoken_61|>\",\n{\n            'v': 50317,\n            'f': \"50317\",\n        },\n{\n            'v': null,\n            'f': \"null\",\n        }],\n [{\n            'v': 49,\n            'f': \"49\",\n        },\n\"<|extratoken_35|>\",\n{\n            'v': 50291,\n            'f': \"50291\",\n        },\n{\n            'v': null,\n            'f': \"null\",\n        }],\n [{\n            'v': 50,\n            'f': \"50\",\n        },\n\"<|extratoken_33|>\",\n{\n            'v': 50289,\n            'f': \"50289\",\n        },\n{\n            'v': null,\n            'f': \"null\",\n        }],\n [{\n            'v': 51,\n            'f': \"51\",\n        },\n\"<|extratoken_20|>\",\n{\n            'v': 50276,\n            'f': \"50276\",\n        },\n{\n            'v': null,\n            'f': \"null\",\n        }],\n [{\n            'v': 52,\n            'f': \"52\",\n        },\n\"<|extratoken_55|>\",\n{\n            'v': 50311,\n            'f': \"50311\",\n        },\n{\n            'v': null,\n            'f': \"null\",\n        }],\n [{\n            'v': 53,\n            'f': \"53\",\n        },\n\"<|extratoken_39|>\",\n{\n            'v': 50295,\n            'f': \"50295\",\n        },\n{\n            'v': null,\n            'f': \"null\",\n        }],\n [{\n            'v': 54,\n            'f': \"54\",\n        },\n\"<|extratoken_143|>\",\n{\n            'v': 50399,\n            'f': \"50399\",\n        },\n{\n            'v': null,\n            'f': \"null\",\n        }],\n [{\n            'v': 55,\n            'f': \"55\",\n        },\n\"<|extratoken_9|>\",\n{\n            'v': 50265,\n            'f': \"50265\",\n        },\n{\n            'v': null,\n            'f': \"null\",\n        }],\n [{\n            'v': 56,\n            'f': \"56\",\n        },\n\"<|extratoken_15|>\",\n{\n            'v': 50271,\n            'f': \"50271\",\n        },\n{\n            'v': null,\n            'f': \"null\",\n        }],\n [{\n            'v': 57,\n            'f': \"57\",\n        },\n\"<|extratoken_72|>\",\n{\n            'v': 50328,\n            'f': \"50328\",\n        },\n{\n            'v': null,\n            'f': \"null\",\n        }],\n [{\n            'v': 58,\n            'f': \"58\",\n        },\n\"<|extratoken_80|>\",\n{\n            'v': 50336,\n            'f': \"50336\",\n        },\n{\n            'v': null,\n            'f': \"null\",\n        }],\n [{\n            'v': 59,\n            'f': \"59\",\n        },\n\"<|extratoken_85|>\",\n{\n            'v': 50341,\n            'f': \"50341\",\n        },\n{\n            'v': null,\n            'f': \"null\",\n        }],\n [{\n            'v': 60,\n            'f': \"60\",\n        },\n\"<|extratoken_119|>\",\n{\n            'v': 50375,\n            'f': \"50375\",\n        },\n{\n            'v': null,\n            'f': \"null\",\n        }],\n [{\n            'v': 61,\n            'f': \"61\",\n        },\n\"<|extratoken_3|>\",\n{\n            'v': 50259,\n            'f': \"50259\",\n        },\n{\n            'v': null,\n            'f': \"null\",\n        }],\n [{\n            'v': 62,\n            'f': \"62\",\n        },\n\"<|extratoken_40|>\",\n{\n            'v': 50296,\n            'f': \"50296\",\n        },\n{\n            'v': null,\n            'f': \"null\",\n        }],\n [{\n            'v': 63,\n            'f': \"63\",\n        },\n\"<|extratoken_140|>\",\n{\n            'v': 50396,\n            'f': \"50396\",\n        },\n{\n            'v': null,\n            'f': \"null\",\n        }],\n [{\n            'v': 64,\n            'f': \"64\",\n        },\n\"<|extratoken_67|>\",\n{\n            'v': 50323,\n            'f': \"50323\",\n        },\n{\n            'v': null,\n            'f': \"null\",\n        }],\n [{\n            'v': 65,\n            'f': \"65\",\n        },\n\"<|extratoken_87|>\",\n{\n            'v': 50343,\n            'f': \"50343\",\n        },\n{\n            'v': null,\n            'f': \"null\",\n        }],\n [{\n            'v': 66,\n            'f': \"66\",\n        },\n\"<|extratoken_103|>\",\n{\n            'v': 50359,\n            'f': \"50359\",\n        },\n{\n            'v': null,\n            'f': \"null\",\n        }],\n [{\n            'v': 67,\n            'f': \"67\",\n        },\n\"<|extratoken_139|>\",\n{\n            'v': 50395,\n            'f': \"50395\",\n        },\n{\n            'v': null,\n            'f': \"null\",\n        }],\n [{\n            'v': 68,\n            'f': \"68\",\n        },\n\"<|extratoken_75|>\",\n{\n            'v': 50331,\n            'f': \"50331\",\n        },\n{\n            'v': null,\n            'f': \"null\",\n        }],\n [{\n            'v': 69,\n            'f': \"69\",\n        },\n\"<|extratoken_129|>\",\n{\n            'v': 50385,\n            'f': \"50385\",\n        },\n{\n            'v': null,\n            'f': \"null\",\n        }],\n [{\n            'v': 70,\n            'f': \"70\",\n        },\n\"<|extratoken_98|>\",\n{\n            'v': 50354,\n            'f': \"50354\",\n        },\n{\n            'v': null,\n            'f': \"null\",\n        }],\n [{\n            'v': 71,\n            'f': \"71\",\n        },\n\"<|extratoken_10|>\",\n{\n            'v': 50266,\n            'f': \"50266\",\n        },\n{\n            'v': null,\n            'f': \"null\",\n        }],\n [{\n            'v': 72,\n            'f': \"72\",\n        },\n\"<|extratoken_97|>\",\n{\n            'v': 50353,\n            'f': \"50353\",\n        },\n{\n            'v': null,\n            'f': \"null\",\n        }],\n [{\n            'v': 73,\n            'f': \"73\",\n        },\n\"<|extratoken_76|>\",\n{\n            'v': 50332,\n            'f': \"50332\",\n        },\n{\n            'v': null,\n            'f': \"null\",\n        }],\n [{\n            'v': 74,\n            'f': \"74\",\n        },\n\"<|extratoken_90|>\",\n{\n            'v': 50346,\n            'f': \"50346\",\n        },\n{\n            'v': null,\n            'f': \"null\",\n        }],\n [{\n            'v': 75,\n            'f': \"75\",\n        },\n\"<|extratoken_137|>\",\n{\n            'v': 50393,\n            'f': \"50393\",\n        },\n{\n            'v': null,\n            'f': \"null\",\n        }],\n [{\n            'v': 76,\n            'f': \"76\",\n        },\n\"<|extratoken_16|>\",\n{\n            'v': 50272,\n            'f': \"50272\",\n        },\n{\n            'v': null,\n            'f': \"null\",\n        }],\n [{\n            'v': 77,\n            'f': \"77\",\n        },\n\"<|extratoken_113|>\",\n{\n            'v': 50369,\n            'f': \"50369\",\n        },\n{\n            'v': null,\n            'f': \"null\",\n        }],\n [{\n            'v': 78,\n            'f': \"78\",\n        },\n\"<|extratoken_118|>\",\n{\n            'v': 50374,\n            'f': \"50374\",\n        },\n{\n            'v': null,\n            'f': \"null\",\n        }],\n [{\n            'v': 79,\n            'f': \"79\",\n        },\n\"<|extratoken_108|>\",\n{\n            'v': 50364,\n            'f': \"50364\",\n        },\n{\n            'v': null,\n            'f': \"null\",\n        }],\n [{\n            'v': 80,\n            'f': \"80\",\n        },\n\"<|extratoken_41|>\",\n{\n            'v': 50297,\n            'f': \"50297\",\n        },\n{\n            'v': null,\n            'f': \"null\",\n        }],\n [{\n            'v': 81,\n            'f': \"81\",\n        },\n\"<|extratoken_60|>\",\n{\n            'v': 50316,\n            'f': \"50316\",\n        },\n{\n            'v': null,\n            'f': \"null\",\n        }],\n [{\n            'v': 82,\n            'f': \"82\",\n        },\n\"<|extratoken_105|>\",\n{\n            'v': 50361,\n            'f': \"50361\",\n        },\n{\n            'v': null,\n            'f': \"null\",\n        }],\n [{\n            'v': 83,\n            'f': \"83\",\n        },\n\"<|extratoken_106|>\",\n{\n            'v': 50362,\n            'f': \"50362\",\n        },\n{\n            'v': null,\n            'f': \"null\",\n        }],\n [{\n            'v': 84,\n            'f': \"84\",\n        },\n\"<|extratoken_92|>\",\n{\n            'v': 50348,\n            'f': \"50348\",\n        },\n{\n            'v': null,\n            'f': \"null\",\n        }],\n [{\n            'v': 85,\n            'f': \"85\",\n        },\n\"<|extratoken_142|>\",\n{\n            'v': 50398,\n            'f': \"50398\",\n        },\n{\n            'v': null,\n            'f': \"null\",\n        }],\n [{\n            'v': 86,\n            'f': \"86\",\n        },\n\"<|extratoken_100|>\",\n{\n            'v': 50356,\n            'f': \"50356\",\n        },\n{\n            'v': null,\n            'f': \"null\",\n        }],\n [{\n            'v': 87,\n            'f': \"87\",\n        },\n\"<|extratoken_62|>\",\n{\n            'v': 50318,\n            'f': \"50318\",\n        },\n{\n            'v': null,\n            'f': \"null\",\n        }],\n [{\n            'v': 88,\n            'f': \"88\",\n        },\n\"<|extratoken_8|>\",\n{\n            'v': 50264,\n            'f': \"50264\",\n        },\n{\n            'v': null,\n            'f': \"null\",\n        }],\n [{\n            'v': 89,\n            'f': \"89\",\n        },\n\"<|extratoken_48|>\",\n{\n            'v': 50304,\n            'f': \"50304\",\n        },\n{\n            'v': null,\n            'f': \"null\",\n        }],\n [{\n            'v': 90,\n            'f': \"90\",\n        },\n\"<|extratoken_37|>\",\n{\n            'v': 50293,\n            'f': \"50293\",\n        },\n{\n            'v': null,\n            'f': \"null\",\n        }],\n [{\n            'v': 91,\n            'f': \"91\",\n        },\n\"<|extratoken_27|>\",\n{\n            'v': 50283,\n            'f': \"50283\",\n        },\n{\n            'v': null,\n            'f': \"null\",\n        }],\n [{\n            'v': 92,\n            'f': \"92\",\n        },\n\"<|extratoken_74|>\",\n{\n            'v': 50330,\n            'f': \"50330\",\n        },\n{\n            'v': null,\n            'f': \"null\",\n        }],\n [{\n            'v': 93,\n            'f': \"93\",\n        },\n\"<|extratoken_59|>\",\n{\n            'v': 50315,\n            'f': \"50315\",\n        },\n{\n            'v': null,\n            'f': \"null\",\n        }],\n [{\n            'v': 94,\n            'f': \"94\",\n        },\n\"<|extratoken_126|>\",\n{\n            'v': 50382,\n            'f': \"50382\",\n        },\n{\n            'v': null,\n            'f': \"null\",\n        }],\n [{\n            'v': 95,\n            'f': \"95\",\n        },\n\"<|extratoken_30|>\",\n{\n            'v': 50286,\n            'f': \"50286\",\n        },\n{\n            'v': null,\n            'f': \"null\",\n        }],\n [{\n            'v': 96,\n            'f': \"96\",\n        },\n\"<|extratoken_70|>\",\n{\n            'v': 50326,\n            'f': \"50326\",\n        },\n{\n            'v': null,\n            'f': \"null\",\n        }],\n [{\n            'v': 97,\n            'f': \"97\",\n        },\n\"<|extratoken_89|>\",\n{\n            'v': 50345,\n            'f': \"50345\",\n        },\n{\n            'v': null,\n            'f': \"null\",\n        }],\n [{\n            'v': 98,\n            'f': \"98\",\n        },\n\"<|extratoken_4|>\",\n{\n            'v': 50260,\n            'f': \"50260\",\n        },\n{\n            'v': null,\n            'f': \"null\",\n        }],\n [{\n            'v': 99,\n            'f': \"99\",\n        },\n\"<|extratoken_99|>\",\n{\n            'v': 50355,\n            'f': \"50355\",\n        },\n{\n            'v': null,\n            'f': \"null\",\n        }],\n [{\n            'v': 100,\n            'f': \"100\",\n        },\n\"<|extratoken_46|>\",\n{\n            'v': 50302,\n            'f': \"50302\",\n        },\n{\n            'v': null,\n            'f': \"null\",\n        }],\n [{\n            'v': 101,\n            'f': \"101\",\n        },\n\"<|extratoken_88|>\",\n{\n            'v': 50344,\n            'f': \"50344\",\n        },\n{\n            'v': null,\n            'f': \"null\",\n        }],\n [{\n            'v': 102,\n            'f': \"102\",\n        },\n\"<|extratoken_11|>\",\n{\n            'v': 50267,\n            'f': \"50267\",\n        },\n{\n            'v': null,\n            'f': \"null\",\n        }],\n [{\n            'v': 103,\n            'f': \"103\",\n        },\n\"<|extratoken_73|>\",\n{\n            'v': 50329,\n            'f': \"50329\",\n        },\n{\n            'v': null,\n            'f': \"null\",\n        }],\n [{\n            'v': 104,\n            'f': \"104\",\n        },\n\"<|extratoken_138|>\",\n{\n            'v': 50394,\n            'f': \"50394\",\n        },\n{\n            'v': null,\n            'f': \"null\",\n        }],\n [{\n            'v': 105,\n            'f': \"105\",\n        },\n\"<|extratoken_115|>\",\n{\n            'v': 50371,\n            'f': \"50371\",\n        },\n{\n            'v': null,\n            'f': \"null\",\n        }],\n [{\n            'v': 106,\n            'f': \"106\",\n        },\n\"<|extratoken_123|>\",\n{\n            'v': 50379,\n            'f': \"50379\",\n        },\n{\n            'v': null,\n            'f': \"null\",\n        }],\n [{\n            'v': 107,\n            'f': \"107\",\n        },\n\"<|extratoken_81|>\",\n{\n            'v': 50337,\n            'f': \"50337\",\n        },\n{\n            'v': null,\n            'f': \"null\",\n        }],\n [{\n            'v': 108,\n            'f': \"108\",\n        },\n\"<|extratoken_54|>\",\n{\n            'v': 50310,\n            'f': \"50310\",\n        },\n{\n            'v': null,\n            'f': \"null\",\n        }],\n [{\n            'v': 109,\n            'f': \"109\",\n        },\n\"<|extratoken_94|>\",\n{\n            'v': 50350,\n            'f': \"50350\",\n        },\n{\n            'v': null,\n            'f': \"null\",\n        }],\n [{\n            'v': 110,\n            'f': \"110\",\n        },\n\"<|extratoken_13|>\",\n{\n            'v': 50269,\n            'f': \"50269\",\n        },\n{\n            'v': null,\n            'f': \"null\",\n        }],\n [{\n            'v': 111,\n            'f': \"111\",\n        },\n\"<|extratoken_25|>\",\n{\n            'v': 50281,\n            'f': \"50281\",\n        },\n{\n            'v': null,\n            'f': \"null\",\n        }],\n [{\n            'v': 112,\n            'f': \"112\",\n        },\n\"<|extratoken_104|>\",\n{\n            'v': 50360,\n            'f': \"50360\",\n        },\n{\n            'v': null,\n            'f': \"null\",\n        }],\n [{\n            'v': 113,\n            'f': \"113\",\n        },\n\"<|extratoken_82|>\",\n{\n            'v': 50338,\n            'f': \"50338\",\n        },\n{\n            'v': null,\n            'f': \"null\",\n        }],\n [{\n            'v': 114,\n            'f': \"114\",\n        },\n\"<|extratoken_45|>\",\n{\n            'v': 50301,\n            'f': \"50301\",\n        },\n{\n            'v': null,\n            'f': \"null\",\n        }],\n [{\n            'v': 115,\n            'f': \"115\",\n        },\n\"<|extratoken_130|>\",\n{\n            'v': 50386,\n            'f': \"50386\",\n        },\n{\n            'v': null,\n            'f': \"null\",\n        }],\n [{\n            'v': 116,\n            'f': \"116\",\n        },\n\"<|extratoken_131|>\",\n{\n            'v': 50387,\n            'f': \"50387\",\n        },\n{\n            'v': null,\n            'f': \"null\",\n        }],\n [{\n            'v': 117,\n            'f': \"117\",\n        },\n\"<|extratoken_141|>\",\n{\n            'v': 50397,\n            'f': \"50397\",\n        },\n{\n            'v': null,\n            'f': \"null\",\n        }],\n [{\n            'v': 118,\n            'f': \"118\",\n        },\n\"<|extratoken_52|>\",\n{\n            'v': 50308,\n            'f': \"50308\",\n        },\n{\n            'v': null,\n            'f': \"null\",\n        }],\n [{\n            'v': 119,\n            'f': \"119\",\n        },\n\"<|extratoken_68|>\",\n{\n            'v': 50324,\n            'f': \"50324\",\n        },\n{\n            'v': null,\n            'f': \"null\",\n        }],\n [{\n            'v': 120,\n            'f': \"120\",\n        },\n\"<|extratoken_31|>\",\n{\n            'v': 50287,\n            'f': \"50287\",\n        },\n{\n            'v': null,\n            'f': \"null\",\n        }],\n [{\n            'v': 121,\n            'f': \"121\",\n        },\n\"<|extratoken_1|>\",\n{\n            'v': 50257,\n            'f': \"50257\",\n        },\n{\n            'v': null,\n            'f': \"null\",\n        }],\n [{\n            'v': 122,\n            'f': \"122\",\n        },\n\"<|extratoken_120|>\",\n{\n            'v': 50376,\n            'f': \"50376\",\n        },\n{\n            'v': null,\n            'f': \"null\",\n        }],\n [{\n            'v': 123,\n            'f': \"123\",\n        },\n\"<|extratoken_56|>\",\n{\n            'v': 50312,\n            'f': \"50312\",\n        },\n{\n            'v': null,\n            'f': \"null\",\n        }],\n [{\n            'v': 124,\n            'f': \"124\",\n        },\n\"<|extratoken_23|>\",\n{\n            'v': 50279,\n            'f': \"50279\",\n        },\n{\n            'v': null,\n            'f': \"null\",\n        }],\n [{\n            'v': 125,\n            'f': \"125\",\n        },\n\"<|extratoken_78|>\",\n{\n            'v': 50334,\n            'f': \"50334\",\n        },\n{\n            'v': null,\n            'f': \"null\",\n        }],\n [{\n            'v': 126,\n            'f': \"126\",\n        },\n\"<|extratoken_96|>\",\n{\n            'v': 50352,\n            'f': \"50352\",\n        },\n{\n            'v': null,\n            'f': \"null\",\n        }],\n [{\n            'v': 127,\n            'f': \"127\",\n        },\n\"<|extratoken_110|>\",\n{\n            'v': 50366,\n            'f': \"50366\",\n        },\n{\n            'v': null,\n            'f': \"null\",\n        }],\n [{\n            'v': 128,\n            'f': \"128\",\n        },\n\"<|extratoken_21|>\",\n{\n            'v': 50277,\n            'f': \"50277\",\n        },\n{\n            'v': null,\n            'f': \"null\",\n        }],\n [{\n            'v': 129,\n            'f': \"129\",\n        },\n\"<|extratoken_49|>\",\n{\n            'v': 50305,\n            'f': \"50305\",\n        },\n{\n            'v': null,\n            'f': \"null\",\n        }],\n [{\n            'v': 130,\n            'f': \"130\",\n        },\n\"<|extratoken_83|>\",\n{\n            'v': 50339,\n            'f': \"50339\",\n        },\n{\n            'v': null,\n            'f': \"null\",\n        }],\n [{\n            'v': 131,\n            'f': \"131\",\n        },\n\"<|extratoken_24|>\",\n{\n            'v': 50280,\n            'f': \"50280\",\n        },\n{\n            'v': null,\n            'f': \"null\",\n        }],\n [{\n            'v': 132,\n            'f': \"132\",\n        },\n\"<|extratoken_65|>\",\n{\n            'v': 50321,\n            'f': \"50321\",\n        },\n{\n            'v': null,\n            'f': \"null\",\n        }],\n [{\n            'v': 133,\n            'f': \"133\",\n        },\n\"<|extratoken_107|>\",\n{\n            'v': 50363,\n            'f': \"50363\",\n        },\n{\n            'v': null,\n            'f': \"null\",\n        }],\n [{\n            'v': 134,\n            'f': \"134\",\n        },\n\"<|extratoken_127|>\",\n{\n            'v': 50383,\n            'f': \"50383\",\n        },\n{\n            'v': null,\n            'f': \"null\",\n        }],\n [{\n            'v': 135,\n            'f': \"135\",\n        },\n\"<|extratoken_6|>\",\n{\n            'v': 50262,\n            'f': \"50262\",\n        },\n{\n            'v': null,\n            'f': \"null\",\n        }],\n [{\n            'v': 136,\n            'f': \"136\",\n        },\n\"<|extratoken_28|>\",\n{\n            'v': 50284,\n            'f': \"50284\",\n        },\n{\n            'v': null,\n            'f': \"null\",\n        }],\n [{\n            'v': 137,\n            'f': \"137\",\n        },\n\"<|extratoken_121|>\",\n{\n            'v': 50377,\n            'f': \"50377\",\n        },\n{\n            'v': null,\n            'f': \"null\",\n        }],\n [{\n            'v': 138,\n            'f': \"138\",\n        },\n\"<|extratoken_86|>\",\n{\n            'v': 50342,\n            'f': \"50342\",\n        },\n{\n            'v': null,\n            'f': \"null\",\n        }],\n [{\n            'v': 139,\n            'f': \"139\",\n        },\n\"<|extratoken_114|>\",\n{\n            'v': 50370,\n            'f': \"50370\",\n        },\n{\n            'v': null,\n            'f': \"null\",\n        }],\n [{\n            'v': 140,\n            'f': \"140\",\n        },\n\"<|extratoken_128|>\",\n{\n            'v': 50384,\n            'f': \"50384\",\n        },\n{\n            'v': null,\n            'f': \"null\",\n        }],\n [{\n            'v': 141,\n            'f': \"141\",\n        },\n\"<|extratoken_84|>\",\n{\n            'v': 50340,\n            'f': \"50340\",\n        },\n{\n            'v': null,\n            'f': \"null\",\n        }],\n [{\n            'v': 142,\n            'f': \"142\",\n        },\n\"<|extratoken_136|>\",\n{\n            'v': 50392,\n            'f': \"50392\",\n        },\n{\n            'v': null,\n            'f': \"null\",\n        }]],\n        columns: [[\"number\", \"index\"], [\"string\", \"Vocab\"], [\"number\", \"Original ID\"], [\"number\", \"New ID\"]],\n        columnOptions: [{\"width\": \"1px\", \"className\": \"index_column\"}],\n        rowsPerPage: 25,\n        helpUrl: \"https://colab.research.google.com/notebooks/data_table.ipynb\",\n        suppressOutputScrolling: true,\n        minimumWidth: undefined,\n      });\n    "
          },
          "metadata": {}
        }
      ]
    },
    {
      "cell_type": "code",
      "source": [
        "# @markdown Compare old and new trained tokenizer. After reading thousands of zh-tw wiki summaries, the trained tokenizer performs much better.\n",
        "\n",
        "print(\"new_trained_tokenizer.vocab_size: \", new_trained_tokenizer.vocab_size)\n",
        "print(\"example_text: \", example_text)\n",
        "print(\"old: \",\n",
        "      list(tokenize_cjk(old_tokenizer, example_text)))\n",
        "print(\"new: \",\n",
        "      list(tokenize_cjk(new_tokenizer, example_text)))"
      ],
      "metadata": {
        "id": "LcvCsHGC8WXu",
        "colab": {
          "base_uri": "https://localhost:8080/"
        },
        "outputId": "b7fa76ce-007d-41d3-f958-13b391d05069"
      },
      "execution_count": null,
      "outputs": [
        {
          "output_type": "stream",
          "name": "stdout",
          "text": [
            "new_trained_tokenizer.vocab_size:  20000\n",
            "example_text:  網際網路（英語：Internet）是指 20 世紀末期興起電腦網路與電腦網路之間所串連成的龐大網路系統。\n",
            "old:  [('網', 3), ('際', 2), ('網', 3), ('路', 3), ('（', 3), ('英', 3), ('語', 2), ('：', 3), ('Internet', 1), ('）', 3), ('是', 1), ('指', 3), (' 20', 1), (' ', 1), ('世', 2), ('紀', 3), ('末', 2), ('期', 2), ('�', 1), ('��', 1), ('�', 1), ('�', 1), ('電', 2), ('腦', 3), ('網', 3), ('路', 3), ('與', 2), ('電', 2), ('腦', 3), ('網', 3), ('路', 3), ('之', 1), ('間', 2), ('所', 2), ('串', 2), ('連', 2), ('成', 2), ('的', 1), ('龐', 2), ('大', 1), ('網', 3), ('路', 3), ('系', 3), ('統', 3), ('。', 1)]\n",
            "new:  [('網際網路', 1), ('（', 1), ('英語', 1), ('：', 1), ('Internet', 1), ('）', 1), ('是指', 1), (' 20', 1), (' 世紀', 1), ('末期', 1), ('�', 1), ('��', 1), ('�', 1), ('�', 1), ('電腦', 1), ('網路', 1), ('與', 1), ('電腦', 1), ('網路', 1), ('之間', 1), ('所', 1), ('串', 1), ('連', 1), ('成的', 1), ('龐', 1), ('大', 1), ('網路', 1), ('系統', 1), ('。', 1)]\n"
          ]
        }
      ]
    },
    {
      "cell_type": "code",
      "source": [
        "# @markdown Compare old and new trained tokenizer. After reading thousands of zh-tw wiki summaries, the trained tokenizer performs much better.\n",
        "\n",
        "sample_text_list = [\n",
        "    \"人工智慧是電腦科學、心理學、哲學等學科融合的跨領域學科。\",\n",
        "    \"高雄市充滿藝術氣息與海港風情，擁有獨具特色的駁二藝術特區、充滿藝術氛圍的美術館、現代化的高雄流行音樂中心、大型展覽館與會議中心、以及壯觀的高雄港等多元旅遊景點。透過便捷的輕軌與大眾運輸工具，到訪的旅客可以輕鬆地往返這些地點，體驗高雄豐富的文化與歷史並享受美好的時光。\"\n",
        "    \"程式設計師們越來越依賴 Git 進行版本控制、使用 Python、Java 或 JavaScript 等程式語言開發 Web 應用程式，還需要在 Linux 或 Windows 作業系統上操作，並熟悉各種資料庫系統如 MySQL、MongoDB 和 PostgreSQL，以及對 API、RESTful 架構和 Docker 容器化技術有深入了解，這都是為了追求在軟體開發領域的卓越表現。\",\n",
        "    \"在機器學習領域，研究人員利用各種算法如 SVM、Random Forest 和 Neural Networks 來分析大量數據，並對應用如自然語言處理（NLP）、圖像識別（Image Recognition）以及強化學習（Reinforcement Learning）進行深入研究，同時，他們也需要掌握 TensorFlow、PyTorch 等深度學習框架，以實現更為高效、準確的模型訓練和預測，以期在人工智能（AI）領域取得突破性的成果。\",\n",
        "    \"過幾天天天天氣不好。\",\n",
        "]\n",
        "\n",
        "for text in sample_text_list:\n",
        "    print(\"sample_text: \", text)\n",
        "    print(\"old: \",\n",
        "          list(tokenize_cjk(old_tokenizer, text)))\n",
        "    print(\"new: \",\n",
        "          list(tokenize_cjk(new_tokenizer, text)))\n",
        "    print()"
      ],
      "metadata": {
        "id": "rhKgkewsKFY6",
        "colab": {
          "base_uri": "https://localhost:8080/"
        },
        "outputId": "d309ff22-553d-4425-9371-d2c02992ecad"
      },
      "execution_count": null,
      "outputs": [
        {
          "output_type": "stream",
          "name": "stdout",
          "text": [
            "sample_text:  人工智慧是電腦科學、心理學、哲學等學科融合的跨領域學科。\n",
            "old:  [('人', 1), ('工', 2), ('智', 3), ('慧', 3), ('是', 1), ('電', 2), ('腦', 3), ('科', 3), ('學', 2), ('、', 1), ('心', 2), ('理', 2), ('學', 2), ('、', 1), ('哲', 3), ('學', 2), ('等', 3), ('學', 2), ('科', 3), ('融', 3), ('合', 2), ('的', 1), ('跨', 3), ('領', 3), ('域', 3), ('學', 2), ('科', 3), ('。', 1)]\n",
            "new:  [('人工智慧', 1), ('是', 1), ('電腦', 1), ('科學', 1), ('、', 1), ('心理', 1), ('學', 1), ('、', 1), ('哲學', 1), ('等', 1), ('學科', 1), ('融', 1), ('合', 1), ('的', 1), ('跨', 1), ('領域', 1), ('學科', 1), ('。', 1)]\n",
            "\n",
            "sample_text:  高雄市充滿藝術氣息與海港風情，擁有獨具特色的駁二藝術特區、充滿藝術氛圍的美術館、現代化的高雄流行音樂中心、大型展覽館與會議中心、以及壯觀的高雄港等多元旅遊景點。透過便捷的輕軌與大眾運輸工具，到訪的旅客可以輕鬆地往返這些地點，體驗高雄豐富的文化與歷史並享受美好的時光。程式設計師們越來越依賴 Git 進行版本控制、使用 Python、Java 或 JavaScript 等程式語言開發 Web 應用程式，還需要在 Linux 或 Windows 作業系統上操作，並熟悉各種資料庫系統如 MySQL、MongoDB 和 PostgreSQL，以及對 API、RESTful 架構和 Docker 容器化技術有深入了解，這都是為了追求在軟體開發領域的卓越表現。\n",
            "old:  [('高', 2), ('雄', 2), ('市', 2), ('充', 2), ('滿', 3), ('藝', 3), ('術', 2), ('氣', 2), ('息', 3), ('與', 2), ('海', 2), ('港', 3), ('風', 3), ('情', 2), ('，', 3), ('擁', 3), ('有', 2), ('獨', 3), ('具', 2), ('特', 2), ('色', 3), ('的', 1), ('駁', 3), ('二', 2), ('藝', 3), ('術', 2), ('特', 2), ('區', 2), ('、', 1), ('充', 2), ('滿', 3), ('藝', 3), ('術', 2), ('氛', 2), ('圍', 2), ('的', 1), ('美', 3), ('術', 2), ('館', 3), ('、', 1), ('現', 3), ('代', 1), ('化', 2), ('的', 1), ('高', 2), ('雄', 2), ('流', 2), ('行', 2), ('音', 3), ('樂', 3), ('中', 1), ('心', 2), ('、', 1), ('大', 1), ('型', 3), ('展', 3), ('覽', 2), ('館', 3), ('與', 2), ('會', 2), ('議', 3), ('中', 1), ('心', 2), ('、', 1), ('以', 2), ('及', 2), ('壯', 2), ('觀', 3), ('的', 1), ('高', 2), ('雄', 2), ('港', 3), ('等', 3), ('多', 2), ('元', 2), ('旅', 2), ('遊', 2), ('景', 3), ('點', 3), ('。', 1), ('透', 2), ('過', 2), ('便', 3), ('捷', 3), ('的', 1), ('輕', 3), ('軌', 2), ('與', 2), ('大', 1), ('眾', 2), ('運', 2), ('輸', 3), ('工', 2), ('具', 2), ('，', 3), ('到', 2), ('訪', 3), ('的', 1), ('旅', 2), ('客', 2), ('可', 2), ('以', 2), ('輕', 3), ('鬆', 3), ('地', 2), ('往', 2), ('返', 2), ('這', 2), ('些', 2), ('地', 2), ('點', 3), ('，', 3), ('體', 3), ('驗', 3), ('高', 2), ('雄', 2), ('豐', 3), ('富', 2), ('的', 1), ('文', 2), ('化', 2), ('與', 2), ('歷', 2), ('史', 2), ('並', 2), ('享', 2), ('受', 2), ('美', 3), ('好', 2), ('的', 1), ('時', 2), ('光', 1), ('。', 1), ('程', 3), ('式', 2), ('設', 3), ('計', 3), ('師', 2), ('們', 3), ('越', 3), ('來', 3), ('越', 3), ('依', 3), ('賴', 3), (' Git', 1), (' �', 1), ('�', 1), ('�', 1), ('行', 2), ('版', 1), ('本', 2), ('控', 3), ('制', 2), ('、', 1), ('使', 1), ('用', 2), (' Python', 1), ('、', 1), ('Java', 1), (' �', 1), ('�', 1), ('�', 1), (' JavaScript', 1), (' �', 1), ('�', 1), ('�', 1), ('程', 3), ('式', 2), ('語', 2), ('言', 3), ('開', 2), ('發', 3), (' Web', 1), (' �', 1), ('�', 1), ('�', 1), ('用', 2), ('程', 3), ('式', 2), ('，', 3), ('還', 3), ('需', 3), ('要', 2), ('在', 2), (' Linux', 1), (' �', 1), ('�', 1), ('�', 1), (' Windows', 1), (' ', 1), ('作', 1), ('業', 3), ('系', 3), ('統', 3), ('上', 1), ('操', 3), ('作', 1), ('，', 3), ('並', 2), ('熟', 3), ('悉', 3), ('各', 2), ('種', 3), ('資', 3), ('料', 2), ('庫', 2), ('系', 3), ('統', 3), ('如', 2), (' MySQL', 1), ('、', 1), ('M', 1), ('ongo', 1), ('DB', 1), (' �', 1), ('�', 1), ('�', 1), (' Post', 1), ('greSQL', 1), ('，', 3), ('以', 2), ('及', 2), ('對', 2), (' API', 1), ('、', 1), ('R', 1), ('EST', 1), ('ful', 1), (' �', 1), ('�', 1), ('��', 1), ('�', 1), ('�', 1), ('和', 3), (' Docker', 1), (' �', 1), ('�', 1), ('�', 1), ('器', 3), ('化', 2), ('技', 3), ('術', 2), ('有', 2), ('深', 3), ('入', 2), ('了', 2), ('解', 3), ('，', 3), ('這', 2), ('都', 2), ('是', 1), ('為', 3), ('了', 2), ('追', 2), ('求', 3), ('在', 2), ('軟', 2), ('體', 3), ('開', 2), ('發', 3), ('領', 3), ('域', 3), ('的', 1), ('卓', 2), ('越', 3), ('表', 2), ('現', 3), ('。', 1)]\n",
            "new:  [('高', 2), ('雄', 1), ('市', 1), ('充', 1), ('滿', 1), ('藝術', 1), ('氣', 1), ('息', 1), ('與海', 1), ('港', 1), ('風', 1), ('情', 1), ('，', 1), ('擁有', 1), ('獨', 1), ('具', 1), ('特', 1), ('色的', 1), ('駁', 2), ('二', 1), ('藝術', 1), ('特區', 1), ('、', 1), ('充', 1), ('滿', 1), ('藝術', 1), ('氛', 2), ('圍', 1), ('的美', 1), ('術', 1), ('館', 1), ('、', 1), ('現代', 1), ('化的', 1), ('高', 2), ('雄', 1), ('流行', 1), ('音樂', 1), ('中心', 1), ('、', 1), ('大型', 1), ('展覽', 1), ('館', 1), ('與', 1), ('會議', 1), ('中心', 1), ('、', 1), ('以及', 1), ('壯', 1), ('觀', 1), ('的', 1), ('高', 2), ('雄', 1), ('港', 1), ('等', 1), ('多', 1), ('元', 1), ('旅遊', 1), ('景點', 1), ('。', 1), ('透過', 1), ('便', 1), ('捷', 1), ('的', 1), ('輕', 1), ('軌', 1), ('與大', 1), ('眾', 1), ('運輸', 1), ('工具', 1), ('，', 1), ('到', 1), ('訪', 1), ('的', 1), ('旅客', 1), ('可以', 1), ('輕', 1), ('鬆', 2), ('地', 1), ('往', 1), ('返', 1), ('這些', 1), ('地點', 1), ('，', 1), ('體', 1), ('驗', 1), ('高', 2), ('雄', 1), ('豐富', 1), ('的', 1), ('文化', 1), ('與', 1), ('歷史', 1), ('並', 1), ('享', 1), ('受', 1), ('美', 1), ('好的', 1), ('時', 2), ('光', 1), ('。', 1), ('程式', 1), ('設計師', 1), ('們', 1), ('越', 1), ('來', 1), ('越', 1), ('依', 1), ('賴', 1), (' Git', 1), (' �', 1), ('�', 1), ('�', 1), ('行', 1), ('版本', 1), ('控制', 1), ('、', 1), ('使用', 1), (' Python', 1), ('、', 1), ('Java', 1), (' �', 1), ('�', 1), ('�', 1), (' JavaScript', 1), (' �', 1), ('�', 1), ('�', 1), ('程式', 1), ('語言', 1), ('開發', 1), (' Web', 1), (' �', 1), ('�', 1), ('�', 1), ('用', 1), ('程式', 1), ('，', 1), ('還', 1), ('需要', 1), ('在', 1), (' Linux', 1), (' �', 1), ('�', 1), ('�', 1), (' Windows', 1), (' ', 1), ('作業', 1), ('系統', 1), ('上', 1), ('操作', 1), ('，', 1), ('並', 1), ('熟', 1), ('悉', 1), ('各種', 1), ('資料庫', 1), ('系統', 1), ('如', 1), (' MySQL', 1), ('、', 1), ('M', 1), ('ongo', 1), ('DB', 1), (' �', 1), ('�', 1), ('�', 1), (' Post', 1), ('greSQL', 1), ('，', 1), ('以及', 1), ('對', 1), (' API', 1), ('、', 1), ('R', 1), ('EST', 1), ('ful', 1), (' �', 1), ('�', 1), ('��', 1), ('�', 1), ('�', 1), ('和', 1), (' Docker', 1), (' �', 1), ('�', 1), ('�', 1), ('器', 1), ('化', 1), ('技術', 1), ('有', 1), ('深', 1), ('入', 1), ('了', 1), ('解', 1), ('，', 1), ('這', 1), ('都是', 1), ('為了', 1), ('追', 2), ('求', 1), ('在', 1), ('軟體', 1), ('開發', 1), ('領域', 1), ('的', 1), ('卓', 1), ('越', 1), ('表現', 1), ('。', 1)]\n",
            "\n",
            "sample_text:  在機器學習領域，研究人員利用各種算法如 SVM、Random Forest 和 Neural Networks 來分析大量數據，並對應用如自然語言處理（NLP）、圖像識別（Image Recognition）以及強化學習（Reinforcement Learning）進行深入研究，同時，他們也需要掌握 TensorFlow、PyTorch 等深度學習框架，以實現更為高效、準確的模型訓練和預測，以期在人工智能（AI）領域取得突破性的成果。\n",
            "old:  [('在', 2), ('機', 1), ('器', 3), ('學', 2), ('習', 3), ('領', 3), ('域', 3), ('，', 3), ('研', 3), ('究', 3), ('人', 1), ('員', 3), ('利', 2), ('用', 2), ('各', 2), ('種', 3), ('算', 3), ('法', 2), ('如', 2), (' S', 1), ('VM', 1), ('、', 1), ('Random', 1), (' Forest', 1), (' �', 1), ('�', 1), ('�', 1), (' Neural', 1), (' Networks', 1), (' ', 1), ('來', 3), ('分', 2), ('析', 3), ('大', 1), ('量', 2), ('數', 2), ('據', 3), ('，', 3), ('並', 2), ('對', 2), ('應', 3), ('用', 2), ('如', 2), ('自', 3), ('然', 2), ('語', 2), ('言', 3), ('處', 3), ('理', 2), ('（', 3), ('N', 1), ('LP', 1), ('）', 3), ('、', 1), ('圖', 2), ('像', 3), ('識', 3), ('別', 2), ('（', 3), ('Image', 1), (' Recogn', 1), ('ition', 1), ('）', 3), ('以', 2), ('及', 2), ('強', 2), ('化', 2), ('學', 2), ('習', 3), ('（', 3), ('Re', 1), ('in', 1), ('forcement', 1), (' Learning', 1), ('）', 3), ('進', 2), ('行', 2), ('深', 3), ('入', 2), ('研', 3), ('究', 3), ('，', 3), ('同', 2), ('時', 2), ('，', 3), ('他', 2), ('們', 3), ('也', 2), ('需', 3), ('要', 2), ('掌', 3), ('握', 3), (' T', 1), ('ensor', 1), ('Flow', 1), ('、', 1), ('Py', 1), ('Tor', 1), ('ch', 1), (' �', 1), ('�', 1), ('�', 1), ('深', 3), ('度', 2), ('學', 2), ('習', 3), ('框', 3), ('架', 3), ('，', 3), ('以', 2), ('實', 2), ('現', 3), ('更', 3), ('為', 3), ('高', 2), ('效', 2), ('、', 1), ('準', 3), ('確', 3), ('的', 1), ('模', 3), ('型', 3), ('訓', 3), ('練', 2), ('和', 3), ('預', 3), ('測', 3), ('，', 3), ('以', 2), ('期', 2), ('在', 2), ('人', 1), ('工', 2), ('智', 3), ('能', 2), ('（', 3), ('AI', 1), ('）', 3), ('領', 3), ('域', 3), ('取', 2), ('得', 2), ('突', 3), ('破', 3), ('性', 2), ('的', 1), ('成', 2), ('果', 3), ('。', 1)]\n",
            "new:  [('在', 1), ('機器', 1), ('學習', 1), ('領域', 1), ('，', 1), ('研究', 1), ('人員', 1), ('利用', 1), ('各種', 1), ('算法', 1), ('如', 1), (' S', 1), ('VM', 1), ('、', 1), ('Random', 1), (' Forest', 1), (' �', 1), ('�', 1), ('�', 1), (' Neural', 1), (' Networks', 1), (' ', 1), ('來', 1), ('分析', 1), ('大量', 1), ('數據', 1), ('，', 1), ('並', 1), ('對', 1), ('應用', 1), ('如', 1), ('自然', 1), ('語言', 1), ('處理', 1), ('（', 1), ('N', 1), ('LP', 1), ('）、', 1), ('圖', 1), ('像', 1), ('識', 1), ('別', 1), ('（', 1), ('Image', 1), (' Recogn', 1), ('ition', 1), ('）', 1), ('以及', 1), ('強', 1), ('化學', 1), ('習', 1), ('（', 1), ('Re', 1), ('in', 1), ('forcement', 1), (' Learning', 1), ('）', 1), ('進行', 1), ('深', 1), ('入', 1), ('研究', 1), ('，', 1), ('同', 1), ('時', 2), ('，', 1), ('他們', 1), ('也', 1), ('需要', 1), ('掌', 1), ('握', 1), (' T', 1), ('ensor', 1), ('Flow', 1), ('、', 1), ('Py', 1), ('Tor', 1), ('ch', 1), (' �', 1), ('�', 1), ('�', 1), ('深度', 1), ('學習', 1), ('框', 2), ('架', 1), ('，', 1), ('以', 1), ('實現', 1), ('更為', 1), ('高', 2), ('效', 1), ('、', 1), ('準', 1), ('確', 1), ('的', 1), ('模型', 1), ('訓練', 1), ('和', 1), ('預', 1), ('測', 1), ('，', 1), ('以', 1), ('期', 1), ('在', 1), ('人工', 1), ('智', 1), ('能', 1), ('（', 1), ('AI', 1), ('）', 1), ('領域', 1), ('取得', 1), ('突', 1), ('破', 1), ('性的', 1), ('成', 1), ('果', 1), ('。', 1)]\n",
            "\n",
            "sample_text:  過幾天天天天氣不好。\n",
            "old:  [('過', 2), ('幾', 2), ('天', 1), ('天', 1), ('天', 1), ('天', 1), ('氣', 2), ('不', 1), ('好', 2), ('。', 1)]\n",
            "new:  [('過', 1), ('幾', 1), ('天', 1), ('天', 1), ('天', 1), ('天', 1), ('氣', 1), ('不', 1), ('好', 1), ('。', 1)]\n",
            "\n"
          ]
        }
      ]
    },
    {
      "cell_type": "code",
      "source": [
        "# @markdown For generating random sample text\n",
        "!pip install git+https://github.com/zetavg/python_wikipedia pangu\n",
        "import wikipedia\n",
        "import pangu\n",
        "wikipedia.set_lang(\"zh-tw\")\n"
      ],
      "metadata": {
        "id": "q6lxa1vi89eV",
        "colab": {
          "base_uri": "https://localhost:8080/"
        },
        "outputId": "69354a08-8e5e-4d80-bafa-db76663abc31"
      },
      "execution_count": null,
      "outputs": [
        {
          "output_type": "stream",
          "name": "stdout",
          "text": [
            "Looking in indexes: https://pypi.org/simple, https://us-python.pkg.dev/colab-wheels/public/simple/\n",
            "Collecting git+https://github.com/zetavg/python_wikipedia\n",
            "  Cloning https://github.com/zetavg/python_wikipedia to /tmp/pip-req-build-keqzyuk6\n",
            "  Running command git clone --filter=blob:none --quiet https://github.com/zetavg/python_wikipedia /tmp/pip-req-build-keqzyuk6\n",
            "  Resolved https://github.com/zetavg/python_wikipedia to commit 2e9c2bfc63217af36cf7355e0c157a63c4738a2e\n",
            "  Preparing metadata (setup.py) ... \u001b[?25l\u001b[?25hdone\n",
            "Collecting pangu\n",
            "  Downloading pangu-4.0.6.1-py3-none-any.whl (6.4 kB)\n",
            "Requirement already satisfied: beautifulsoup4 in /usr/local/lib/python3.10/dist-packages (from wikipedia==1.4.0) (4.11.2)\n",
            "Requirement already satisfied: requests<3.0.0,>=2.0.0 in /usr/local/lib/python3.10/dist-packages (from wikipedia==1.4.0) (2.27.1)\n",
            "Requirement already satisfied: idna<4,>=2.5 in /usr/local/lib/python3.10/dist-packages (from requests<3.0.0,>=2.0.0->wikipedia==1.4.0) (3.4)\n",
            "Requirement already satisfied: certifi>=2017.4.17 in /usr/local/lib/python3.10/dist-packages (from requests<3.0.0,>=2.0.0->wikipedia==1.4.0) (2022.12.7)\n",
            "Requirement already satisfied: urllib3<1.27,>=1.21.1 in /usr/local/lib/python3.10/dist-packages (from requests<3.0.0,>=2.0.0->wikipedia==1.4.0) (1.26.15)\n",
            "Requirement already satisfied: charset-normalizer~=2.0.0 in /usr/local/lib/python3.10/dist-packages (from requests<3.0.0,>=2.0.0->wikipedia==1.4.0) (2.0.12)\n",
            "Requirement already satisfied: soupsieve>1.2 in /usr/local/lib/python3.10/dist-packages (from beautifulsoup4->wikipedia==1.4.0) (2.4.1)\n",
            "Building wheels for collected packages: wikipedia\n",
            "  Building wheel for wikipedia (setup.py) ... \u001b[?25l\u001b[?25hdone\n",
            "  Created wheel for wikipedia: filename=wikipedia-1.4.0-py3-none-any.whl size=11802 sha256=9cff5c34610009ac9ada049d05ca573df14a2ff0e3f19c8b903d77ad61c0f679\n",
            "  Stored in directory: /tmp/pip-ephem-wheel-cache-vav8k9ci/wheels/9b/d3/d8/2d3cc48d53fdd151a7ddbe0bf6f56c91bce355ef96777fc6d1\n",
            "Successfully built wikipedia\n",
            "Installing collected packages: pangu, wikipedia\n",
            "Successfully installed pangu-4.0.6.1 wikipedia-1.4.0\n"
          ]
        }
      ]
    },
    {
      "cell_type": "code",
      "source": [
        "# @markdown More random examples\n",
        "\n",
        "for i in range(0, 20):\n",
        "    page = wikipedia.random()\n",
        "    try:\n",
        "        text = pangu.spacing_text(\n",
        "            wikipedia.summary(page, sentences=1)\n",
        "        )\n",
        "        if not example_text:\n",
        "            continue\n",
        "        print(\"example_text: \", text)\n",
        "        print(\"old: \",\n",
        "              list(tokenize_cjk(old_tokenizer, text)))\n",
        "        print(\"new: \",\n",
        "              list(tokenize_cjk(new_tokenizer, text)))\n",
        "        print(\"\")\n",
        "    except:\n",
        "        pass"
      ],
      "metadata": {
        "id": "h8dof7kNW641",
        "colab": {
          "base_uri": "https://localhost:8080/"
        },
        "outputId": "c4fc274d-6ae9-4ad3-c4dd-6dc503614b90"
      },
      "execution_count": null,
      "outputs": [
        {
          "output_type": "stream",
          "name": "stdout",
          "text": [
            "example_text:  大青山戰鬥遺址，位於山東省臨沂市沂南縣沂南縣、費縣交界區，是中華人民共和國山東省文物保護單位之一。\n",
            "old:  [('大', 1), ('青', 3), ('山', 3), ('戰', 2), ('鬥', 3), ('遺', 2), ('址', 3), ('，', 3), ('位', 2), ('於', 2), ('山', 3), ('東', 2), ('省', 2), ('臨', 3), ('沂', 3), ('市', 2), ('沂', 3), ('南', 2), ('縣', 3), ('沂', 3), ('南', 2), ('縣', 3), ('、', 1), ('費', 3), ('縣', 3), ('交', 2), ('界', 2), ('區', 2), ('，', 3), ('是', 1), ('中', 1), ('華', 3), ('人', 1), ('民', 2), ('共', 2), ('和', 3), ('國', 2), ('山', 3), ('東', 2), ('省', 2), ('文', 2), ('物', 2), ('保', 2), ('護', 2), ('單', 3), ('位', 2), ('之', 1), ('一', 1), ('。', 1)]\n",
            "new:  [('大', 1), ('青', 1), ('山', 1), ('戰鬥', 1), ('遺址', 1), ('，', 1), ('位於', 1), ('山東省', 1), ('臨', 1), ('沂', 1), ('市', 1), ('沂', 1), ('南', 1), ('縣', 1), ('沂', 1), ('南', 1), ('縣', 1), ('、', 1), ('費', 1), ('縣', 1), ('交界', 1), ('區', 1), ('，', 1), ('是中華人民共和國', 1), ('山東省', 1), ('文物', 1), ('保', 1), ('護', 2), ('單位', 1), ('之一', 1), ('。', 1)]\n",
            "\n",
            "example_text:  十方控股有限公司（英語：ShiFang Holding Limited），（港交所：1831），是一所綜合性印刷電子媒體廣告服務供應商，公司地址位於中國福建省福州市鼓樓區東街 59 號三山大廈 6 樓。\n",
            "old:  [('十', 2), ('方', 1), ('控', 3), ('股', 3), ('有', 2), ('限', 3), ('公', 2), ('司', 2), ('（', 3), ('英', 3), ('語', 2), ('：', 3), ('Sh', 1), ('i', 1), ('F', 1), ('ang', 1), (' Holding', 1), (' Limited', 1), ('）', 3), ('，', 3), ('（', 3), ('港', 3), ('交', 2), ('所', 2), ('：', 3), ('18', 1), ('31', 1), ('）', 3), ('，', 3), ('是', 1), ('一', 1), ('所', 2), ('綜', 3), ('合', 2), ('性', 2), ('印', 2), ('刷', 2), ('電', 2), ('子', 1), ('媒', 3), ('體', 3), ('廣', 3), ('告', 2), ('服', 2), ('務', 2), ('供', 3), ('應', 3), ('商', 3), ('，', 3), ('公', 2), ('司', 2), ('地', 2), ('址', 3), ('位', 2), ('於', 2), ('中', 1), ('國', 2), ('福', 3), ('建', 3), ('省', 2), ('福', 3), ('州', 2), ('市', 2), ('鼓', 3), ('樓', 3), ('區', 2), ('東', 2), ('街', 2), (' 59', 1), (' �', 1), ('�', 1), ('�', 1), ('三', 1), ('山', 3), ('大', 1), ('廈', 3), (' 6', 1), (' �', 1), ('�', 1), ('�', 1), ('。', 1)]\n",
            "new:  [('十', 1), ('方', 1), ('控股', 1), ('有限公司', 1), ('（', 1), ('英語', 1), ('：', 1), ('Sh', 1), ('i', 1), ('F', 1), ('ang', 1), (' Holding', 1), (' Limited', 1), ('），', 1), ('（', 1), ('港', 1), ('交', 1), ('所', 1), ('：', 1), ('18', 1), ('31', 1), ('），', 1), ('是一所', 1), ('綜合', 1), ('性', 1), ('印刷', 1), ('電子', 1), ('媒體', 1), ('廣告', 1), ('服務', 1), ('供', 1), ('應', 1), ('商', 1), ('，', 1), ('公司', 1), ('地', 1), ('址', 1), ('位於中國', 1), ('福建省', 1), ('福州市', 1), ('鼓', 1), ('樓', 1), ('區', 1), ('東', 1), ('街', 1), (' 59', 1), (' �', 1), ('�', 1), ('�', 1), ('三', 1), ('山', 1), ('大廈', 1), (' 6', 1), (' �', 1), ('�', 1), ('�', 1), ('。', 1)]\n",
            "\n",
            "example_text:  小行星 38454（38454 Boroson）是一顆繞太陽運轉的小行星，為主小行星帶小行星。\n",
            "old:  [('小', 2), ('行', 2), ('星', 2), (' 38', 1), ('454', 1), ('（', 3), ('38', 1), ('454', 1), (' Bor', 1), ('os', 1), ('on', 1), ('）', 3), ('是', 1), ('一', 1), ('顆', 3), ('繞', 3), ('太', 2), ('陽', 2), ('運', 2), ('轉', 3), ('的', 1), ('小', 2), ('行', 2), ('星', 2), ('，', 3), ('為', 3), ('主', 2), ('小', 2), ('行', 2), ('星', 2), ('帶', 2), ('小', 2), ('行', 2), ('星', 2), ('。', 1)]\n",
            "new:  [('小行星', 1), (' 38', 1), ('454', 1), ('（', 1), ('38', 1), ('454', 1), (' Bor', 1), ('os', 1), ('on', 1), ('）', 1), ('是一顆', 1), ('繞', 1), ('太', 1), ('陽', 2), ('運', 1), ('轉的小行星', 1), ('，', 1), ('為主小行星帶小行星', 1), ('。', 1)]\n",
            "\n",
            "example_text:  A36 高速公路（葡萄牙語：A36），又稱里斯本內環公路（Circular Regional Interior de Lisboa，簡稱 CRIL）或 IC 17，是一條位於葡萄牙首都里斯本外圍的高速公路。\n",
            "old:  [('A', 1), ('36', 1), (' �', 1), ('��', 1), ('速', 2), ('公', 2), ('路', 3), ('（', 3), ('葡', 3), ('萄', 3), ('牙', 2), ('語', 2), ('：', 3), ('A', 1), ('36', 1), ('）', 3), ('，', 3), ('又', 2), ('稱', 3), ('里', 2), ('斯', 2), ('本', 2), ('內', 2), ('環', 3), ('公', 2), ('路', 3), ('（', 3), ('Circ', 1), ('ular', 1), (' Regional', 1), (' Interior', 1), (' de', 1), (' Lis', 1), ('boa', 1), ('，', 3), ('簡', 3), ('稱', 3), (' CR', 1), ('IL', 1), ('）', 3), ('或', 2), (' IC', 1), (' 17', 1), ('，', 3), ('是', 1), ('一', 1), ('條', 3), ('位', 2), ('於', 2), ('葡', 3), ('萄', 3), ('牙', 2), ('首', 3), ('都', 2), ('里', 2), ('斯', 2), ('本', 2), ('外', 2), ('圍', 2), ('的', 1), ('高', 2), ('速', 2), ('公', 2), ('路', 3), ('。', 1)]\n",
            "new:  [('A', 1), ('36', 1), (' �', 1), ('��', 1), ('速', 1), ('公路', 1), ('（', 1), ('葡萄牙語', 1), ('：', 1), ('A', 1), ('36', 1), ('），', 1), ('又稱', 1), ('里斯本', 1), ('內', 1), ('環', 1), ('公路', 1), ('（', 1), ('Circ', 1), ('ular', 1), (' Regional', 1), (' Interior', 1), (' de', 1), (' Lis', 1), ('boa', 1), ('，', 1), ('簡稱', 1), (' CR', 1), ('IL', 1), ('）', 1), ('或', 1), (' IC', 1), (' 17', 1), ('，', 1), ('是一條', 1), ('位於', 1), ('葡萄牙', 1), ('首都', 1), ('里斯本', 1), ('外', 1), ('圍', 1), ('的', 1), ('高', 2), ('速', 1), ('公路', 1), ('。', 1)]\n",
            "\n",
            "example_text:  The meaning of peace（和平真諦）為倖田來未與 BoA 的合作單曲。\n",
            "old:  [('The', 1), (' meaning', 1), (' of', 1), (' peace', 1), ('（', 3), ('和', 3), ('平', 2), ('真', 2), ('諦', 3), ('）', 3), ('為', 3), ('倖', 3), ('田', 1), ('來', 3), ('未', 2), ('與', 2), (' Bo', 1), ('A', 1), (' �', 1), ('�', 1), ('�', 1), ('合', 2), ('作', 1), ('單', 3), ('曲', 3), ('。', 1)]\n",
            "new:  [('The', 1), (' meaning', 1), (' of', 1), (' peace', 1), ('（', 1), ('和平', 1), ('真諦', 1), ('）', 1), ('為', 1), ('倖', 2), ('田', 1), ('來', 1), ('未', 1), ('與', 1), (' Bo', 1), ('A', 1), (' �', 1), ('�', 1), ('�', 1), ('合作', 1), ('單曲', 1), ('。', 1)]\n",
            "\n",
            "example_text:  孔戈尼亞斯的仁慈耶穌聖殿（葡萄牙語：Santuário de Bom Jesus de Matosinhos；英語：Sanctuary of Bom Jesus do Congonhas）是一座羅馬天主教的宗座聖殿，位於巴西米納斯吉拉斯州的孔戈尼亞斯，在該州首府貝洛奧里藏特以南 90 公里。\n",
            "old:  [('孔', 2), ('戈', 2), ('尼', 2), ('亞', 2), ('斯', 2), ('的', 1), ('仁', 2), ('慈', 3), ('耶', 2), ('穌', 3), ('聖', 2), ('殿', 3), ('（', 3), ('葡', 3), ('萄', 3), ('牙', 2), ('語', 2), ('：', 3), ('S', 1), ('ant', 1), ('u', 1), ('á', 1), ('rio', 1), (' de', 1), (' Bom', 1), (' Jesus', 1), (' de', 1), (' Mat', 1), ('os', 1), ('in', 1), ('h', 1), ('os', 1), ('；', 3), ('英', 3), ('語', 2), ('：', 3), ('San', 1), ('ctuary', 1), (' of', 1), (' Bom', 1), (' Jesus', 1), (' do', 1), (' Cong', 1), ('on', 1), ('has', 1), ('）', 3), ('是', 1), ('一', 1), ('座', 2), ('羅', 3), ('馬', 3), ('天', 1), ('主', 2), ('教', 2), ('的', 1), ('宗', 2), ('座', 2), ('聖', 2), ('殿', 3), ('，', 3), ('位', 2), ('於', 2), ('巴', 2), ('西', 3), ('米', 3), ('納', 3), ('斯', 2), ('吉', 2), ('拉', 3), ('斯', 2), ('州', 2), ('的', 1), ('孔', 2), ('戈', 2), ('尼', 2), ('亞', 2), ('斯', 2), ('，', 3), ('在', 2), ('該', 3), ('州', 2), ('首', 3), ('府', 2), ('貝', 3), ('洛', 3), ('奧', 2), ('里', 2), ('藏', 3), ('特', 2), ('以', 2), ('南', 2), (' 90', 1), (' �', 1), ('�', 1), ('�', 1), ('里', 2), ('。', 1)]\n",
            "new:  [('孔', 2), ('戈', 1), ('尼亞', 1), ('斯的', 1), ('仁', 1), ('慈', 1), ('耶穌', 1), ('聖', 2), ('殿', 1), ('（', 1), ('葡萄牙語', 1), ('：', 1), ('S', 1), ('ant', 1), ('u', 1), ('á', 1), ('rio', 1), (' de', 1), (' Bom', 1), (' Jesus', 1), (' de', 1), (' Mat', 1), ('os', 1), ('in', 1), ('h', 1), ('os', 1), ('；', 1), ('英語', 1), ('：', 1), ('San', 1), ('ctuary', 1), (' of', 1), (' Bom', 1), (' Jesus', 1), (' do', 1), (' Cong', 1), ('on', 1), ('has', 1), ('）', 1), ('是一座', 1), ('羅馬天主教', 1), ('的', 1), ('宗', 1), ('座', 1), ('聖', 2), ('殿', 1), ('，', 1), ('位於', 1), ('巴西', 1), ('米', 1), ('納斯', 1), ('吉', 1), ('拉斯', 1), ('州的', 1), ('孔', 2), ('戈', 1), ('尼亞', 1), ('斯', 1), ('，', 1), ('在', 1), ('該', 1), ('州', 1), ('首府', 1), ('貝', 1), ('洛', 1), ('奧', 1), ('里', 1), ('藏', 1), ('特', 1), ('以南', 1), (' 90', 1), (' �', 1), ('�', 1), ('�', 1), ('里', 1), ('。', 1)]\n",
            "\n",
            "example_text:  陳國任（？\n",
            "old:  [('陳', 3), ('國', 2), ('任', 2), ('（', 3), ('？', 3)]\n",
            "new:  [('陳', 1), ('國', 1), ('任', 1), ('（', 1), ('？', 1)]\n",
            "\n",
            "example_text:  萊瑟姆（英語：Latham）是一個位於美國阿拉巴馬州鮑德溫縣的非建制地區。\n",
            "old:  [('萊', 3), ('瑟', 3), ('姆', 2), ('（', 3), ('英', 3), ('語', 2), ('：', 3), ('L', 1), ('atham', 1), ('）', 3), ('是', 1), ('一', 1), ('個', 3), ('位', 2), ('於', 2), ('美', 3), ('國', 2), ('阿', 3), ('拉', 3), ('巴', 2), ('馬', 3), ('州', 2), ('鮑', 3), ('德', 2), ('溫', 3), ('縣', 3), ('的', 1), ('非', 3), ('建', 3), ('制', 2), ('地', 2), ('區', 2), ('。', 1)]\n",
            "new:  [('萊', 1), ('瑟', 1), ('姆', 1), ('（', 1), ('英語', 1), ('：', 1), ('L', 1), ('atham', 1), ('）', 1), ('是一個位於美國', 1), ('阿拉巴馬', 1), ('州', 1), ('鮑', 1), ('德', 1), ('溫', 1), ('縣的', 1), ('非建制地區', 1), ('。', 1)]\n",
            "\n",
            "example_text:  香港聖公會教省大主教（英語：Archbishop of Hong Kong，即「香港大主教」）是資深主教、香港聖公會教省精神及道德領袖。\n",
            "old:  [('香', 3), ('港', 3), ('聖', 2), ('公', 2), ('會', 2), ('教', 2), ('省', 2), ('大', 1), ('主', 2), ('教', 2), ('（', 3), ('英', 3), ('語', 2), ('：', 3), ('Arch', 1), ('bishop', 1), (' of', 1), (' Hong', 1), (' Kong', 1), ('，', 3), ('即', 2), ('「', 1), ('香', 3), ('港', 3), ('大', 1), ('主', 2), ('教', 2), ('」', 1), ('）', 3), ('是', 1), ('資', 3), ('深', 3), ('主', 2), ('教', 2), ('、', 1), ('香', 3), ('港', 3), ('聖', 2), ('公', 2), ('會', 2), ('教', 2), ('省', 2), ('精', 2), ('神', 1), ('及', 2), ('道', 2), ('德', 2), ('領', 3), ('袖', 3), ('。', 1)]\n",
            "new:  [('香港', 1), ('聖', 2), ('公', 1), ('會', 1), ('教', 1), ('省', 1), ('大', 1), ('主教', 1), ('（', 1), ('英語', 1), ('：', 1), ('Arch', 1), ('bishop', 1), (' of', 1), (' Hong', 1), (' Kong', 1), ('，', 1), ('即', 1), ('「', 1), ('香港', 1), ('大', 1), ('主教', 1), ('」）', 1), ('是', 1), ('資', 1), ('深', 1), ('主教', 1), ('、', 1), ('香港', 1), ('聖', 2), ('公', 1), ('會', 1), ('教', 1), ('省', 1), ('精', 2), ('神', 1), ('及', 1), ('道', 1), ('德', 1), ('領袖', 1), ('。', 1)]\n",
            "\n",
            "example_text:  紀凱婷（Perenna Kei），廣東汕頭人，聖克里斯多福及尼維斯籍華人。\n",
            "old:  [('紀', 3), ('凱', 2), ('婷', 3), ('（', 3), ('P', 1), ('eren', 1), ('na', 1), (' Ke', 1), ('i', 1), ('）', 3), ('，', 3), ('廣', 3), ('東', 2), ('汕', 3), ('頭', 3), ('人', 1), ('，', 3), ('聖', 2), ('克', 2), ('里', 2), ('斯', 2), ('多', 2), ('福', 3), ('及', 2), ('尼', 2), ('維', 3), ('斯', 2), ('籍', 3), ('華', 3), ('人', 1), ('。', 1)]\n",
            "new:  [('紀', 1), ('凱', 1), ('婷', 2), ('（', 1), ('P', 1), ('eren', 1), ('na', 1), (' Ke', 1), ('i', 1), ('），', 1), ('廣東', 1), ('汕頭', 1), ('人', 1), ('，', 1), ('聖', 2), ('克里斯', 1), ('多福', 1), ('及', 1), ('尼', 1), ('維斯', 1), ('籍', 1), ('華人', 1), ('。', 1)]\n",
            "\n",
            "example_text:  蝽科（學名：Pentatomidae），又名椿象科、𧔠科，是半翅目蝽總科下的一個科，其科名「Pentatomidae」來自希臘語，「pente」（五） 和「tomos」（部分）。\n",
            "old:  [('蝽', 3), ('科', 3), ('（', 3), ('學', 2), ('名', 2), ('：', 3), ('P', 1), ('ent', 1), ('atom', 1), ('idae', 1), ('）', 3), ('，', 3), ('又', 2), ('名', 2), ('椿', 3), ('象', 3), ('科', 3), ('、', 1), ('𧔠', 4), ('科', 3), ('，', 3), ('是', 1), ('半', 2), ('翅', 3), ('目', 2), ('蝽', 3), ('總', 3), ('科', 3), ('下', 2), ('的', 1), ('一', 1), ('個', 3), ('科', 3), ('，', 3), ('其', 2), ('科', 3), ('名', 2), ('「', 1), ('P', 1), ('ent', 1), ('atom', 1), ('idae', 1), ('」', 1), ('來', 3), ('自', 3), ('希', 2), ('臘', 3), ('語', 2), ('，', 3), ('「', 1), ('pent', 1), ('e', 1), ('」', 1), ('（', 3), ('五', 1), ('）', 3), (' �', 1), ('�', 1), ('�', 1), ('「', 1), ('tom', 1), ('os', 1), ('」', 1), ('（', 3), ('部', 2), ('分', 2), ('）', 3), ('。', 1)]\n",
            "new:  [('蝽', 2), ('科', 1), ('（', 1), ('學名', 1), ('：', 1), ('P', 1), ('ent', 1), ('atom', 1), ('idae', 1), ('），', 1), ('又名', 1), ('椿象', 1), ('科', 1), ('、', 1), ('𧔠', 4), ('科', 1), ('，', 1), ('是', 1), ('半', 1), ('翅', 1), ('目', 1), ('蝽', 2), ('總', 1), ('科下的一個', 1), ('科', 1), ('，', 1), ('其', 1), ('科', 1), ('名', 1), ('「', 1), ('P', 1), ('ent', 1), ('atom', 1), ('idae', 1), ('」', 1), ('來自', 1), ('希臘語', 1), ('，「', 1), ('pent', 1), ('e', 1), ('」（', 1), ('五', 1), ('）', 1), (' �', 1), ('�', 1), ('�', 1), ('「', 1), ('tom', 1), ('os', 1), ('」（', 1), ('部分', 1), ('）。', 1)]\n",
            "\n",
            "example_text:  弗蘭基・萊恩（Frankie Laine ，1913 年 3 月 30 日 —2007 年 2 月 6 日）是一位美國歌手、詞曲作者和演員。\n",
            "old:  [('弗', 2), ('蘭', 3), ('基', 3), ('・', 1), ('萊', 3), ('恩', 3), ('（', 3), ('Frank', 1), ('ie', 1), (' L', 1), ('aine', 1), (' �', 1), ('�', 1), ('�', 1), ('19', 1), ('13', 1), (' �', 1), ('�', 1), ('�', 1), (' 3', 1), (' �', 1), ('�', 1), (' 30', 1), (' �', 1), ('�', 1), ('�', 1), (' —', 1), ('2007', 1), (' �', 1), ('�', 1), ('�', 1), (' 2', 1), (' �', 1), ('�', 1), (' 6', 1), (' �', 1), ('�', 1), ('�', 1), ('）', 3), ('是', 1), ('一', 1), ('位', 2), ('美', 3), ('國', 2), ('歌', 2), ('手', 2), ('、', 1), ('詞', 3), ('曲', 3), ('作', 1), ('者', 1), ('和', 3), ('演', 3), ('員', 3), ('。', 1)]\n",
            "new:  [('弗蘭', 1), ('基', 1), ('・', 1), ('萊', 1), ('恩', 1), ('（', 1), ('Frank', 1), ('ie', 1), (' L', 1), ('aine', 1), (' �', 1), ('�', 1), ('�', 1), ('19', 1), ('13', 1), (' �', 1), ('�', 1), ('�', 1), (' 3', 1), (' �', 1), ('�', 1), (' 30', 1), (' �', 1), ('�', 1), ('�', 1), (' —', 1), ('2007', 1), (' �', 1), ('�', 1), ('�', 1), (' 2', 1), (' �', 1), ('�', 1), (' 6', 1), (' �', 1), ('�', 1), ('�', 1), ('）', 1), ('是一位', 1), ('美國', 1), ('歌手', 1), ('、', 1), ('詞', 1), ('曲', 1), ('作者', 1), ('和', 1), ('演員', 1), ('。', 1)]\n",
            "\n",
            "example_text:  王北星（1985 年 3 月 10 日 —），中國速度滑冰運動員。\n",
            "old:  [('王', 1), ('北', 2), ('星', 2), ('（', 3), ('1985', 1), (' �', 1), ('�', 1), ('�', 1), (' 3', 1), (' �', 1), ('�', 1), (' 10', 1), (' �', 1), ('�', 1), ('�', 1), (' —', 1), ('）', 3), ('，', 3), ('中', 1), ('國', 2), ('速', 2), ('度', 2), ('滑', 3), ('冰', 2), ('運', 2), ('動', 2), ('員', 3), ('。', 1)]\n",
            "new:  [('王', 1), ('北', 1), ('星', 1), ('（', 1), ('1985', 1), (' �', 1), ('�', 1), ('�', 1), (' 3', 1), (' �', 1), ('�', 1), (' 10', 1), (' �', 1), ('�', 1), ('�', 1), (' —），', 1), ('中國', 1), ('速度', 1), ('滑冰', 1), ('運動員', 1), ('。', 1)]\n",
            "\n",
            "example_text:  南京保衛戰或南京戰役、南京之役，是 1937 年繼淞滬會戰之後，大日本帝國中支那方面軍向中華民國首都南京推進的戰役。\n",
            "old:  [('南', 2), ('京', 2), ('保', 2), ('衛', 2), ('戰', 2), ('或', 2), ('南', 2), ('京', 2), ('戰', 2), ('役', 2), ('、', 1), ('南', 2), ('京', 2), ('之', 1), ('役', 2), ('，', 3), ('是', 1), (' 1937', 1), (' �', 1), ('�', 1), ('�', 1), ('繼', 3), ('淞', 3), ('滬', 3), ('會', 2), ('戰', 2), ('之', 1), ('後', 2), ('，', 3), ('大', 1), ('日', 2), ('本', 2), ('帝', 2), ('國', 2), ('中', 1), ('支', 3), ('那', 3), ('方', 1), ('面', 3), ('軍', 2), ('向', 2), ('中', 1), ('華', 3), ('民', 2), ('國', 2), ('首', 3), ('都', 2), ('南', 2), ('京', 2), ('推', 3), ('進', 2), ('的', 1), ('戰', 2), ('役', 2), ('。', 1)]\n",
            "new:  [('南京', 1), ('保', 1), ('衛', 1), ('戰', 1), ('或', 1), ('南京', 1), ('戰役', 1), ('、', 1), ('南京', 1), ('之', 1), ('役', 1), ('，', 1), ('是', 1), (' 1937', 1), (' �', 1), ('�', 1), ('�', 1), ('繼', 1), ('淞', 1), ('滬', 1), ('會', 1), ('戰', 1), ('之後', 1), ('，', 1), ('大', 1), ('日本', 1), ('帝國', 1), ('中', 1), ('支那', 1), ('方面', 1), ('軍', 1), ('向', 1), ('中華民國', 1), ('首都', 1), ('南京', 1), ('推進', 1), ('的', 1), ('戰役', 1), ('。', 1)]\n",
            "\n",
            "example_text:  前川和也（1968 年 3 月 22 日 —），日本職業足球員，前日本國家足球隊成員。\n",
            "old:  [('前', 2), ('川', 2), ('和', 3), ('也', 2), ('（', 3), ('1968', 1), (' �', 1), ('�', 1), ('�', 1), (' 3', 1), (' �', 1), ('�', 1), (' 22', 1), (' �', 1), ('�', 1), ('�', 1), (' —', 1), ('）', 3), ('，', 3), ('日', 2), ('本', 2), ('職', 3), ('業', 3), ('足', 3), ('球', 2), ('員', 3), ('，', 3), ('前', 2), ('日', 2), ('本', 2), ('國', 2), ('家', 2), ('足', 3), ('球', 2), ('隊', 2), ('成', 2), ('員', 3), ('。', 1)]\n",
            "new:  [('前', 1), ('川', 1), ('和', 1), ('也', 1), ('（', 1), ('1968', 1), (' �', 1), ('�', 1), ('�', 1), (' 3', 1), (' �', 1), ('�', 1), (' 22', 1), (' �', 1), ('�', 1), ('�', 1), (' —），', 1), ('日本', 1), ('職業足球員', 1), ('，', 1), ('前', 1), ('日本', 1), ('國家足球隊', 1), ('成員', 1), ('。', 1)]\n",
            "\n",
            "example_text:  歐克索訥（法語：Auxonne，法語發音：[oksɔn] 或 [osɔn]）是法國科多爾省的一個市鎮，位於該省東南部，索恩河左岸，屬於第戎區。\n",
            "old:  [('歐', 2), ('克', 2), ('索', 3), ('訥', 3), ('（', 3), ('法', 2), ('語', 2), ('：', 3), ('A', 1), ('ux', 1), ('onne', 1), ('，', 3), ('法', 2), ('語', 2), ('發', 3), ('音', 3), ('：', 3), ('[', 1), ('oks', 1), ('ɔ', 2), ('n', 1), (']', 1), (' �', 1), ('�', 1), ('�', 1), (' [', 1), ('os', 1), ('ɔ', 2), ('n', 1), (']', 1), ('）', 3), ('是', 1), ('法', 2), ('國', 2), ('科', 3), ('多', 2), ('爾', 3), ('省', 2), ('的', 1), ('一', 1), ('個', 3), ('市', 2), ('鎮', 3), ('，', 3), ('位', 2), ('於', 2), ('該', 3), ('省', 2), ('東', 2), ('南', 2), ('部', 2), ('，', 3), ('索', 3), ('恩', 3), ('河', 3), ('左', 2), ('岸', 3), ('，', 3), ('屬', 3), ('於', 2), ('第', 3), ('戎', 2), ('區', 2), ('。', 1)]\n",
            "new:  [('歐', 1), ('克', 1), ('索', 1), ('訥', 1), ('（', 1), ('法語', 1), ('：', 1), ('A', 1), ('ux', 1), ('onne', 1), ('，', 1), ('法語發音', 1), ('：[', 1), ('oks', 1), ('ɔ', 1), ('n', 1), (']', 1), (' �', 1), ('�', 1), ('�', 1), (' [', 1), ('os', 1), ('ɔ', 1), ('n', 1), (']）', 1), ('是法國', 1), ('科', 1), ('多爾', 1), ('省的一個市鎮', 1), ('，', 1), ('位於該省', 1), ('東南部', 1), ('，', 1), ('索', 1), ('恩', 1), ('河', 1), ('左', 1), ('岸', 1), ('，', 1), ('屬於', 1), ('第', 1), ('戎', 1), ('區', 1), ('。', 1)]\n",
            "\n",
            "example_text:  《不速之客》（英語：One Hour Photo）是一部 2002 年的美國驚悚片，由麥克・路力克執導，羅賓・威廉斯等主演。\n",
            "old:  [('《', 2), ('不', 1), ('速', 2), ('之', 1), ('客', 2), ('》', 2), ('（', 3), ('英', 3), ('語', 2), ('：', 3), ('One', 1), (' Hour', 1), (' Photo', 1), ('）', 3), ('是', 1), ('一', 1), ('部', 2), (' 2002', 1), (' �', 1), ('�', 1), ('�', 1), ('的', 1), ('美', 3), ('國', 2), ('驚', 3), ('悚', 3), ('片', 2), ('，', 3), ('由', 2), ('麥', 3), ('克', 2), ('・', 1), ('路', 3), ('力', 2), ('克', 2), ('執', 3), ('導', 2), ('，', 3), ('羅', 3), ('賓', 3), ('・', 1), ('威', 3), ('廉', 3), ('斯', 2), ('等', 3), ('主', 2), ('演', 3), ('。', 1)]\n",
            "new:  [('《', 1), ('不', 1), ('速', 1), ('之', 1), ('客', 1), ('》（', 1), ('英語', 1), ('：', 1), ('One', 1), (' Hour', 1), (' Photo', 1), ('）', 1), ('是一部', 1), (' 2002', 1), (' �', 1), ('�', 1), ('�', 1), ('的美國', 1), ('驚', 1), ('悚', 2), ('片', 1), ('，', 1), ('由', 1), ('麥克', 1), ('・', 1), ('路', 1), ('力', 1), ('克', 1), ('執導', 1), ('，', 1), ('羅', 1), ('賓', 1), ('・', 1), ('威廉', 1), ('斯', 1), ('等', 1), ('主演', 1), ('。', 1)]\n",
            "\n",
            "example_text:  三葉盤唇鱨（學名：Chiloglanis trilobatus），為條鰭魚綱鯰形目倒立鯰科的其中一種，為熱帶淡水魚，分布於非洲坦尚尼亞 Rukwa 湖流域，體長可達 5.2 公分，棲息在底中層水域，生活習性不明。\n",
            "old:  [('三', 1), ('葉', 3), ('盤', 2), ('唇', 3), ('鱨', 3), ('（', 3), ('學', 2), ('名', 2), ('：', 3), ('Ch', 1), ('il', 1), ('og', 1), ('lan', 1), ('is', 1), (' tr', 1), ('il', 1), ('ob', 1), ('atus', 1), ('）', 3), ('，', 3), ('為', 3), ('條', 3), ('鰭', 3), ('魚', 3), ('綱', 3), ('鯰', 3), ('形', 2), ('目', 2), ('倒', 3), ('立', 2), ('鯰', 3), ('科', 3), ('的', 1), ('其', 2), ('中', 1), ('一', 1), ('種', 3), ('，', 3), ('為', 3), ('熱', 3), ('�', 1), ('��', 1), ('�', 1), ('�', 1), ('水', 2), ('魚', 3), ('，', 3), ('分', 2), ('布', 2), ('於', 2), ('非', 3), ('洲', 3), ('坦', 3), ('尚', 2), ('尼', 2), ('亞', 2), (' Ruk', 1), ('wa', 1), (' �', 1), ('�', 1), ('�', 1), ('流', 2), ('域', 3), ('，', 3), ('體', 3), ('長', 3), ('可', 2), ('達', 2), (' 5', 1), ('.', 1), ('2', 1), (' �', 1), ('�', 1), ('�', 1), ('分', 2), ('，', 3), ('棲', 3), ('息', 3), ('在', 2), ('底', 2), ('中', 1), ('層', 3), ('水', 2), ('域', 3), ('，', 3), ('生', 1), ('活', 3), ('習', 3), ('性', 2), ('不', 1), ('明', 2), ('。', 1)]\n",
            "new:  [('三葉', 1), ('盤', 1), ('唇', 1), ('鱨', 1), ('（', 1), ('學名', 1), ('：', 1), ('Ch', 1), ('il', 1), ('og', 1), ('lan', 1), ('is', 1), (' tr', 1), ('il', 1), ('ob', 1), ('atus', 1), ('），', 1), ('為條鰭魚綱鯰形目', 1), ('倒', 1), ('立', 1), ('鯰科的其中一種', 1), ('，', 1), ('為', 1), ('熱', 1), ('�', 1), ('��', 1), ('�', 1), ('�', 1), ('水', 1), ('魚', 1), ('，', 1), ('分布於', 1), ('非洲', 1), ('坦尚尼亞', 1), (' Ruk', 1), ('wa', 1), (' �', 1), ('�', 1), ('�', 1), ('流域', 1), ('，', 1), ('體長可達', 1), (' 5', 1), ('.', 1), ('2', 1), (' �', 1), ('�', 1), ('�', 1), ('分', 1), ('，', 1), ('棲息在', 1), ('底中層水域', 1), ('，', 1), ('生活習性不明', 1), ('。', 1)]\n",
            "\n",
            "example_text:  唐椿森，字益齡，廣西宣化縣（今廣西壯族自治區南寧市）人，清朝政治人物、進士出身。\n",
            "old:  [('唐', 3), ('椿', 3), ('森', 3), ('，', 3), ('字', 2), ('益', 2), ('齡', 3), ('，', 3), ('廣', 3), ('西', 3), ('宣', 2), ('化', 2), ('縣', 3), ('（', 3), ('今', 2), ('廣', 3), ('西', 3), ('壯', 2), ('族', 2), ('自', 3), ('治', 3), ('區', 2), ('南', 2), ('寧', 2), ('市', 2), ('）', 3), ('人', 1), ('，', 3), ('清', 3), ('朝', 2), ('政', 3), ('治', 3), ('人', 1), ('物', 2), ('、', 1), ('進', 2), ('士', 1), ('出', 2), ('身', 3), ('。', 1)]\n",
            "new:  [('唐', 1), ('椿', 1), ('森', 1), ('，', 1), ('字', 1), ('益', 1), ('齡', 1), ('，', 1), ('廣西', 1), ('宣化', 1), ('縣', 1), ('（', 1), ('今', 1), ('廣西', 1), ('壯', 1), ('族自治區', 1), ('南', 1), ('寧', 1), ('市', 1), ('）', 1), ('人', 1), ('，', 1), ('清朝政治人物', 1), ('、', 1), ('進士出身', 1), ('。', 1)]\n",
            "\n",
            "example_text:  柏家村，中華人民共和國山東省濟南市章丘市高官寨鎮所轄的一個行政村。\n",
            "old:  [('柏', 3), ('家', 2), ('村', 2), ('，', 3), ('中', 1), ('華', 3), ('人', 1), ('民', 2), ('共', 2), ('和', 3), ('國', 2), ('山', 3), ('東', 2), ('省', 2), ('濟', 3), ('南', 2), ('市', 2), ('章', 2), ('丘', 2), ('市', 2), ('高', 2), ('官', 2), ('寨', 2), ('鎮', 3), ('所', 2), ('轄', 3), ('的', 1), ('一', 1), ('個', 3), ('行', 2), ('政', 3), ('村', 2), ('。', 1)]\n",
            "new:  [('柏', 1), ('家', 1), ('村', 1), ('，', 1), ('中華人民共和國', 1), ('山東省', 1), ('濟南', 1), ('市', 1), ('章', 1), ('丘', 1), ('市', 1), ('高', 2), ('官', 1), ('寨', 1), ('鎮', 1), ('所轄', 1), ('的一個', 1), ('行政', 1), ('村', 1), ('。', 1)]\n",
            "\n"
          ]
        }
      ]
    },
    {
      "cell_type": "markdown",
      "source": [
        "### Save the Tokenizer"
      ],
      "metadata": {
        "id": "Mjn5afcoow61"
      }
    },
    {
      "cell_type": "code",
      "source": [
        "from huggingface_hub import notebook_login\n",
        "notebook_login()"
      ],
      "metadata": {
        "id": "LfBg0iRoovep",
        "colab": {
          "base_uri": "https://localhost:8080/",
          "height": 443,
          "referenced_widgets": [
            "cfcd930453544da783637171b673a107",
            "ecde0e29aefb4eb886be393d94f84674",
            "78965b0ca9584de4bd8bc90bf5a1ea11",
            "fb310800f1794ca3b8155e1b8a585cea",
            "f6f85b0a00f345a984f559728808c890",
            "927641012815459681b4acc39d3c9199",
            "8a0a6b8ae6e74eb3a578340ce6b23227",
            "6739ceb75ca7423f81c9bc292453bb62",
            "3f2fac952106435b9c9c43a73cb76475",
            "a8f1a8f3cd314069b82a89f1e55ccd68",
            "fccb6ca691e14cf9a7f3178b5b0f687c",
            "c18795cdbb834b0397d47cbb54667f15",
            "4e4c371777804f12b966340d1446abfb",
            "32dcda914f0b444784e1ba148c85b8a3",
            "697de431502a41f7bafd26ba7e5f6c65",
            "0f89c8884190410399114e711f900841",
            "35717bc47db743bca19a463f1f1707e9"
          ]
        },
        "outputId": "d54bc8b8-eb26-4f08-b931-0a97e30e8508"
      },
      "execution_count": null,
      "outputs": [
        {
          "output_type": "display_data",
          "data": {
            "text/plain": [
              "VBox(children=(HTML(value='<center> <img\\nsrc=https://huggingface.co/front/assets/huggingface_logo-noborder.sv…"
            ],
            "application/vnd.jupyter.widget-view+json": {
              "version_major": 2,
              "version_minor": 0,
              "model_id": "cfcd930453544da783637171b673a107"
            }
          },
          "metadata": {}
        }
      ]
    },
    {
      "cell_type": "code",
      "source": [
        "new_tokenizer.push_to_hub(\n",
        "    \"test-zh-tw-tokenizer-20230427-2\",\n",
        "    private=True\n",
        ")"
      ],
      "metadata": {
        "id": "cpZXpQNmo5Z6",
        "colab": {
          "base_uri": "https://localhost:8080/",
          "height": 514
        },
        "outputId": "04839ca0-9c4e-4122-aac7-2dc106f7196f"
      },
      "execution_count": null,
      "outputs": [
        {
          "output_type": "error",
          "ename": "ValueError",
          "evalue": "ignored",
          "traceback": [
            "\u001b[0;31m---------------------------------------------------------------------------\u001b[0m",
            "\u001b[0;31mValueError\u001b[0m                                Traceback (most recent call last)",
            "\u001b[0;32m<ipython-input-37-1195979a273f>\u001b[0m in \u001b[0;36m<cell line: 1>\u001b[0;34m()\u001b[0m\n\u001b[0;32m----> 1\u001b[0;31m new_tokenizer.push_to_hub(\n\u001b[0m\u001b[1;32m      2\u001b[0m     \u001b[0;34m\"test-zh-tw-tokenizer-20230427-2\"\u001b[0m\u001b[0;34m,\u001b[0m\u001b[0;34m\u001b[0m\u001b[0;34m\u001b[0m\u001b[0m\n\u001b[1;32m      3\u001b[0m     \u001b[0mprivate\u001b[0m\u001b[0;34m=\u001b[0m\u001b[0;32mTrue\u001b[0m\u001b[0;34m\u001b[0m\u001b[0;34m\u001b[0m\u001b[0m\n\u001b[1;32m      4\u001b[0m )\n",
            "\u001b[0;32m/usr/local/lib/python3.10/dist-packages/transformers/utils/hub.py\u001b[0m in \u001b[0;36mpush_to_hub\u001b[0;34m(self, repo_id, use_temp_dir, commit_message, private, use_auth_token, max_shard_size, create_pr, **deprecated_kwargs)\u001b[0m\n\u001b[1;32m    768\u001b[0m             \u001b[0mworking_dir\u001b[0m \u001b[0;34m=\u001b[0m \u001b[0mrepo_id\u001b[0m\u001b[0;34m.\u001b[0m\u001b[0msplit\u001b[0m\u001b[0;34m(\u001b[0m\u001b[0;34m\"/\"\u001b[0m\u001b[0;34m)\u001b[0m\u001b[0;34m[\u001b[0m\u001b[0;34m-\u001b[0m\u001b[0;36m1\u001b[0m\u001b[0;34m]\u001b[0m\u001b[0;34m\u001b[0m\u001b[0;34m\u001b[0m\u001b[0m\n\u001b[1;32m    769\u001b[0m \u001b[0;34m\u001b[0m\u001b[0m\n\u001b[0;32m--> 770\u001b[0;31m         repo_id = self._create_repo(\n\u001b[0m\u001b[1;32m    771\u001b[0m             \u001b[0mrepo_id\u001b[0m\u001b[0;34m,\u001b[0m \u001b[0mprivate\u001b[0m\u001b[0;34m=\u001b[0m\u001b[0mprivate\u001b[0m\u001b[0;34m,\u001b[0m \u001b[0muse_auth_token\u001b[0m\u001b[0;34m=\u001b[0m\u001b[0muse_auth_token\u001b[0m\u001b[0;34m,\u001b[0m \u001b[0mrepo_url\u001b[0m\u001b[0;34m=\u001b[0m\u001b[0mrepo_url\u001b[0m\u001b[0;34m,\u001b[0m \u001b[0morganization\u001b[0m\u001b[0;34m=\u001b[0m\u001b[0morganization\u001b[0m\u001b[0;34m\u001b[0m\u001b[0;34m\u001b[0m\u001b[0m\n\u001b[1;32m    772\u001b[0m         )\n",
            "\u001b[0;32m/usr/local/lib/python3.10/dist-packages/transformers/utils/hub.py\u001b[0m in \u001b[0;36m_create_repo\u001b[0;34m(self, repo_id, private, use_auth_token, repo_url, organization)\u001b[0m\n\u001b[1;32m    650\u001b[0m                 \u001b[0mrepo_id\u001b[0m \u001b[0;34m=\u001b[0m \u001b[0;34mf\"{organization}/{repo_id}\"\u001b[0m\u001b[0;34m\u001b[0m\u001b[0;34m\u001b[0m\u001b[0m\n\u001b[1;32m    651\u001b[0m \u001b[0;34m\u001b[0m\u001b[0m\n\u001b[0;32m--> 652\u001b[0;31m         \u001b[0murl\u001b[0m \u001b[0;34m=\u001b[0m \u001b[0mcreate_repo\u001b[0m\u001b[0;34m(\u001b[0m\u001b[0mrepo_id\u001b[0m\u001b[0;34m=\u001b[0m\u001b[0mrepo_id\u001b[0m\u001b[0;34m,\u001b[0m \u001b[0mtoken\u001b[0m\u001b[0;34m=\u001b[0m\u001b[0muse_auth_token\u001b[0m\u001b[0;34m,\u001b[0m \u001b[0mprivate\u001b[0m\u001b[0;34m=\u001b[0m\u001b[0mprivate\u001b[0m\u001b[0;34m,\u001b[0m \u001b[0mexist_ok\u001b[0m\u001b[0;34m=\u001b[0m\u001b[0;32mTrue\u001b[0m\u001b[0;34m)\u001b[0m\u001b[0;34m\u001b[0m\u001b[0;34m\u001b[0m\u001b[0m\n\u001b[0m\u001b[1;32m    653\u001b[0m \u001b[0;34m\u001b[0m\u001b[0m\n\u001b[1;32m    654\u001b[0m         \u001b[0;31m# If the namespace is not there, add it or `upload_file` will complain\u001b[0m\u001b[0;34m\u001b[0m\u001b[0;34m\u001b[0m\u001b[0m\n",
            "\u001b[0;32m/usr/local/lib/python3.10/dist-packages/huggingface_hub/utils/_validators.py\u001b[0m in \u001b[0;36m_inner_fn\u001b[0;34m(*args, **kwargs)\u001b[0m\n\u001b[1;32m    118\u001b[0m             \u001b[0mkwargs\u001b[0m \u001b[0;34m=\u001b[0m \u001b[0msmoothly_deprecate_use_auth_token\u001b[0m\u001b[0;34m(\u001b[0m\u001b[0mfn_name\u001b[0m\u001b[0;34m=\u001b[0m\u001b[0mfn\u001b[0m\u001b[0;34m.\u001b[0m\u001b[0m__name__\u001b[0m\u001b[0;34m,\u001b[0m \u001b[0mhas_token\u001b[0m\u001b[0;34m=\u001b[0m\u001b[0mhas_token\u001b[0m\u001b[0;34m,\u001b[0m \u001b[0mkwargs\u001b[0m\u001b[0;34m=\u001b[0m\u001b[0mkwargs\u001b[0m\u001b[0;34m)\u001b[0m\u001b[0;34m\u001b[0m\u001b[0;34m\u001b[0m\u001b[0m\n\u001b[1;32m    119\u001b[0m \u001b[0;34m\u001b[0m\u001b[0m\n\u001b[0;32m--> 120\u001b[0;31m         \u001b[0;32mreturn\u001b[0m \u001b[0mfn\u001b[0m\u001b[0;34m(\u001b[0m\u001b[0;34m*\u001b[0m\u001b[0margs\u001b[0m\u001b[0;34m,\u001b[0m \u001b[0;34m**\u001b[0m\u001b[0mkwargs\u001b[0m\u001b[0;34m)\u001b[0m\u001b[0;34m\u001b[0m\u001b[0;34m\u001b[0m\u001b[0m\n\u001b[0m\u001b[1;32m    121\u001b[0m \u001b[0;34m\u001b[0m\u001b[0m\n\u001b[1;32m    122\u001b[0m     \u001b[0;32mreturn\u001b[0m \u001b[0m_inner_fn\u001b[0m  \u001b[0;31m# type: ignore\u001b[0m\u001b[0;34m\u001b[0m\u001b[0;34m\u001b[0m\u001b[0m\n",
            "\u001b[0;32m/usr/local/lib/python3.10/dist-packages/huggingface_hub/hf_api.py\u001b[0m in \u001b[0;36mcreate_repo\u001b[0;34m(self, repo_id, token, private, repo_type, exist_ok, space_sdk, space_hardware)\u001b[0m\n\u001b[1;32m   2179\u001b[0m             \u001b[0;31m# See https://github.com/huggingface/huggingface_hub/pull/733/files#r820604472\u001b[0m\u001b[0;34m\u001b[0m\u001b[0;34m\u001b[0m\u001b[0m\n\u001b[1;32m   2180\u001b[0m             \u001b[0mjson\u001b[0m\u001b[0;34m[\u001b[0m\u001b[0;34m\"lfsmultipartthresh\"\u001b[0m\u001b[0;34m]\u001b[0m \u001b[0;34m=\u001b[0m \u001b[0mself\u001b[0m\u001b[0;34m.\u001b[0m\u001b[0m_lfsmultipartthresh\u001b[0m  \u001b[0;31m# type: ignore\u001b[0m\u001b[0;34m\u001b[0m\u001b[0;34m\u001b[0m\u001b[0m\n\u001b[0;32m-> 2181\u001b[0;31m         \u001b[0mheaders\u001b[0m \u001b[0;34m=\u001b[0m \u001b[0mself\u001b[0m\u001b[0;34m.\u001b[0m\u001b[0m_build_hf_headers\u001b[0m\u001b[0;34m(\u001b[0m\u001b[0mtoken\u001b[0m\u001b[0;34m=\u001b[0m\u001b[0mtoken\u001b[0m\u001b[0;34m,\u001b[0m \u001b[0mis_write_action\u001b[0m\u001b[0;34m=\u001b[0m\u001b[0;32mTrue\u001b[0m\u001b[0;34m)\u001b[0m\u001b[0;34m\u001b[0m\u001b[0;34m\u001b[0m\u001b[0m\n\u001b[0m\u001b[1;32m   2182\u001b[0m         \u001b[0mr\u001b[0m \u001b[0;34m=\u001b[0m \u001b[0mget_session\u001b[0m\u001b[0;34m(\u001b[0m\u001b[0;34m)\u001b[0m\u001b[0;34m.\u001b[0m\u001b[0mpost\u001b[0m\u001b[0;34m(\u001b[0m\u001b[0mpath\u001b[0m\u001b[0;34m,\u001b[0m \u001b[0mheaders\u001b[0m\u001b[0;34m=\u001b[0m\u001b[0mheaders\u001b[0m\u001b[0;34m,\u001b[0m \u001b[0mjson\u001b[0m\u001b[0;34m=\u001b[0m\u001b[0mjson\u001b[0m\u001b[0;34m)\u001b[0m\u001b[0;34m\u001b[0m\u001b[0;34m\u001b[0m\u001b[0m\n\u001b[1;32m   2183\u001b[0m \u001b[0;34m\u001b[0m\u001b[0m\n",
            "\u001b[0;32m/usr/local/lib/python3.10/dist-packages/huggingface_hub/hf_api.py\u001b[0m in \u001b[0;36m_build_hf_headers\u001b[0;34m(self, token, is_write_action, library_name, library_version, user_agent)\u001b[0m\n\u001b[1;32m   4730\u001b[0m             \u001b[0;31m# Cannot do `token = token or self.token` as token can be `False`.\u001b[0m\u001b[0;34m\u001b[0m\u001b[0;34m\u001b[0m\u001b[0m\n\u001b[1;32m   4731\u001b[0m             \u001b[0mtoken\u001b[0m \u001b[0;34m=\u001b[0m \u001b[0mself\u001b[0m\u001b[0;34m.\u001b[0m\u001b[0mtoken\u001b[0m\u001b[0;34m\u001b[0m\u001b[0;34m\u001b[0m\u001b[0m\n\u001b[0;32m-> 4732\u001b[0;31m         return build_hf_headers(\n\u001b[0m\u001b[1;32m   4733\u001b[0m             \u001b[0mtoken\u001b[0m\u001b[0;34m=\u001b[0m\u001b[0mtoken\u001b[0m\u001b[0;34m,\u001b[0m\u001b[0;34m\u001b[0m\u001b[0;34m\u001b[0m\u001b[0m\n\u001b[1;32m   4734\u001b[0m             \u001b[0mis_write_action\u001b[0m\u001b[0;34m=\u001b[0m\u001b[0mis_write_action\u001b[0m\u001b[0;34m,\u001b[0m\u001b[0;34m\u001b[0m\u001b[0;34m\u001b[0m\u001b[0m\n",
            "\u001b[0;32m/usr/local/lib/python3.10/dist-packages/huggingface_hub/utils/_validators.py\u001b[0m in \u001b[0;36m_inner_fn\u001b[0;34m(*args, **kwargs)\u001b[0m\n\u001b[1;32m    118\u001b[0m             \u001b[0mkwargs\u001b[0m \u001b[0;34m=\u001b[0m \u001b[0msmoothly_deprecate_use_auth_token\u001b[0m\u001b[0;34m(\u001b[0m\u001b[0mfn_name\u001b[0m\u001b[0;34m=\u001b[0m\u001b[0mfn\u001b[0m\u001b[0;34m.\u001b[0m\u001b[0m__name__\u001b[0m\u001b[0;34m,\u001b[0m \u001b[0mhas_token\u001b[0m\u001b[0;34m=\u001b[0m\u001b[0mhas_token\u001b[0m\u001b[0;34m,\u001b[0m \u001b[0mkwargs\u001b[0m\u001b[0;34m=\u001b[0m\u001b[0mkwargs\u001b[0m\u001b[0;34m)\u001b[0m\u001b[0;34m\u001b[0m\u001b[0;34m\u001b[0m\u001b[0m\n\u001b[1;32m    119\u001b[0m \u001b[0;34m\u001b[0m\u001b[0m\n\u001b[0;32m--> 120\u001b[0;31m         \u001b[0;32mreturn\u001b[0m \u001b[0mfn\u001b[0m\u001b[0;34m(\u001b[0m\u001b[0;34m*\u001b[0m\u001b[0margs\u001b[0m\u001b[0;34m,\u001b[0m \u001b[0;34m**\u001b[0m\u001b[0mkwargs\u001b[0m\u001b[0;34m)\u001b[0m\u001b[0;34m\u001b[0m\u001b[0;34m\u001b[0m\u001b[0m\n\u001b[0m\u001b[1;32m    121\u001b[0m \u001b[0;34m\u001b[0m\u001b[0m\n\u001b[1;32m    122\u001b[0m     \u001b[0;32mreturn\u001b[0m \u001b[0m_inner_fn\u001b[0m  \u001b[0;31m# type: ignore\u001b[0m\u001b[0;34m\u001b[0m\u001b[0;34m\u001b[0m\u001b[0m\n",
            "\u001b[0;32m/usr/local/lib/python3.10/dist-packages/huggingface_hub/utils/_headers.py\u001b[0m in \u001b[0;36mbuild_hf_headers\u001b[0;34m(token, is_write_action, library_name, library_version, user_agent)\u001b[0m\n\u001b[1;32m    116\u001b[0m     \u001b[0;31m# Get auth token to send\u001b[0m\u001b[0;34m\u001b[0m\u001b[0;34m\u001b[0m\u001b[0m\n\u001b[1;32m    117\u001b[0m     \u001b[0mtoken_to_send\u001b[0m \u001b[0;34m=\u001b[0m \u001b[0mget_token_to_send\u001b[0m\u001b[0;34m(\u001b[0m\u001b[0mtoken\u001b[0m\u001b[0;34m)\u001b[0m\u001b[0;34m\u001b[0m\u001b[0;34m\u001b[0m\u001b[0m\n\u001b[0;32m--> 118\u001b[0;31m     \u001b[0m_validate_token_to_send\u001b[0m\u001b[0;34m(\u001b[0m\u001b[0mtoken_to_send\u001b[0m\u001b[0;34m,\u001b[0m \u001b[0mis_write_action\u001b[0m\u001b[0;34m=\u001b[0m\u001b[0mis_write_action\u001b[0m\u001b[0;34m)\u001b[0m\u001b[0;34m\u001b[0m\u001b[0;34m\u001b[0m\u001b[0m\n\u001b[0m\u001b[1;32m    119\u001b[0m \u001b[0;34m\u001b[0m\u001b[0m\n\u001b[1;32m    120\u001b[0m     \u001b[0;31m# Combine headers\u001b[0m\u001b[0;34m\u001b[0m\u001b[0;34m\u001b[0m\u001b[0m\n",
            "\u001b[0;32m/usr/local/lib/python3.10/dist-packages/huggingface_hub/utils/_headers.py\u001b[0m in \u001b[0;36m_validate_token_to_send\u001b[0;34m(token, is_write_action)\u001b[0m\n\u001b[1;32m    166\u001b[0m     \u001b[0;32mif\u001b[0m \u001b[0mis_write_action\u001b[0m\u001b[0;34m:\u001b[0m\u001b[0;34m\u001b[0m\u001b[0;34m\u001b[0m\u001b[0m\n\u001b[1;32m    167\u001b[0m         \u001b[0;32mif\u001b[0m \u001b[0mtoken\u001b[0m \u001b[0;32mis\u001b[0m \u001b[0;32mNone\u001b[0m\u001b[0;34m:\u001b[0m\u001b[0;34m\u001b[0m\u001b[0;34m\u001b[0m\u001b[0m\n\u001b[0;32m--> 168\u001b[0;31m             raise ValueError(\n\u001b[0m\u001b[1;32m    169\u001b[0m                 \u001b[0;34m\"Token is required (write-access action) but no token found. You need\"\u001b[0m\u001b[0;34m\u001b[0m\u001b[0;34m\u001b[0m\u001b[0m\n\u001b[1;32m    170\u001b[0m                 \u001b[0;34m\" to provide a token or be logged in to Hugging Face with\"\u001b[0m\u001b[0;34m\u001b[0m\u001b[0;34m\u001b[0m\u001b[0m\n",
            "\u001b[0;31mValueError\u001b[0m: Token is required (write-access action) but no token found. You need to provide a token or be logged in to Hugging Face with `huggingface-cli login` or `huggingface_hub.login`. See https://huggingface.co/settings/tokens."
          ]
        }
      ]
    }
  ]
}